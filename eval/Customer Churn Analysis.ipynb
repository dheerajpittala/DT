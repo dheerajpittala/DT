{
 "cells": [
  {
   "cell_type": "markdown",
   "metadata": {},
   "source": [
    "# Customer Churn Analysis"
   ]
  },
  {
   "cell_type": "markdown",
   "metadata": {},
   "source": [
    "# Problem Statement:\n",
    "Customer churn is when a company’s customers stop doing business with that company. Businesses are very keen on measuring churn because keeping an existing customer is far less expensive than acquiring a new customer. New business involves working leads through a sales funnel, using marketing and sales budgets to gain additional customers. Existing customers will often have a higher volume of service consumption and can generate additional customer referrals.\n",
    "\n",
    "Customer retention can be achieved with good customer service and products. But the most effective way for a company to prevent attrition of customers is to truly know them. The vast volumes of data collected about customers can be used to build churn prediction models. Knowing who is most likely to defect means that a company can prioritise focused marketing efforts on that subset of their customer base.\n",
    "\n",
    "Preventing customer churn is critically important to the telecommunications sector, as the barriers to entry for switching services are so low. \n",
    "\n",
    "You will examine customer data from IBM Sample Data Sets with the aim of building and comparing several customer churn prediction models. "
   ]
  },
  {
   "cell_type": "markdown",
   "metadata": {},
   "source": [
    "Downlaod Files:\n",
    "    \n",
    "    \n",
    "https://github.com/dsrscientist/DSData/blob/master/Telecom_customer_churn.csv"
   ]
  },
  {
   "cell_type": "code",
   "execution_count": 1,
   "metadata": {},
   "outputs": [],
   "source": [
    "#Importing Libraries\n",
    "\n",
    "import numpy as np\n",
    "import pandas as pd\n",
    "import matplotlib.pyplot as plt\n",
    "import seaborn as sns\n",
    "import warnings\n",
    "warnings.filterwarnings('ignore')"
   ]
  },
  {
   "cell_type": "code",
   "execution_count": 2,
   "metadata": {},
   "outputs": [
    {
     "data": {
      "text/html": [
       "<div>\n",
       "<style scoped>\n",
       "    .dataframe tbody tr th:only-of-type {\n",
       "        vertical-align: middle;\n",
       "    }\n",
       "\n",
       "    .dataframe tbody tr th {\n",
       "        vertical-align: top;\n",
       "    }\n",
       "\n",
       "    .dataframe thead th {\n",
       "        text-align: right;\n",
       "    }\n",
       "</style>\n",
       "<table border=\"1\" class=\"dataframe\">\n",
       "  <thead>\n",
       "    <tr style=\"text-align: right;\">\n",
       "      <th></th>\n",
       "      <th>customerID</th>\n",
       "      <th>gender</th>\n",
       "      <th>SeniorCitizen</th>\n",
       "      <th>Partner</th>\n",
       "      <th>Dependents</th>\n",
       "      <th>tenure</th>\n",
       "      <th>PhoneService</th>\n",
       "      <th>MultipleLines</th>\n",
       "      <th>InternetService</th>\n",
       "      <th>OnlineSecurity</th>\n",
       "      <th>...</th>\n",
       "      <th>DeviceProtection</th>\n",
       "      <th>TechSupport</th>\n",
       "      <th>StreamingTV</th>\n",
       "      <th>StreamingMovies</th>\n",
       "      <th>Contract</th>\n",
       "      <th>PaperlessBilling</th>\n",
       "      <th>PaymentMethod</th>\n",
       "      <th>MonthlyCharges</th>\n",
       "      <th>TotalCharges</th>\n",
       "      <th>Churn</th>\n",
       "    </tr>\n",
       "  </thead>\n",
       "  <tbody>\n",
       "    <tr>\n",
       "      <td>0</td>\n",
       "      <td>7590-VHVEG</td>\n",
       "      <td>Female</td>\n",
       "      <td>0</td>\n",
       "      <td>Yes</td>\n",
       "      <td>No</td>\n",
       "      <td>1</td>\n",
       "      <td>No</td>\n",
       "      <td>No phone service</td>\n",
       "      <td>DSL</td>\n",
       "      <td>No</td>\n",
       "      <td>...</td>\n",
       "      <td>No</td>\n",
       "      <td>No</td>\n",
       "      <td>No</td>\n",
       "      <td>No</td>\n",
       "      <td>Month-to-month</td>\n",
       "      <td>Yes</td>\n",
       "      <td>Electronic check</td>\n",
       "      <td>29.85</td>\n",
       "      <td>29.85</td>\n",
       "      <td>No</td>\n",
       "    </tr>\n",
       "    <tr>\n",
       "      <td>1</td>\n",
       "      <td>5575-GNVDE</td>\n",
       "      <td>Male</td>\n",
       "      <td>0</td>\n",
       "      <td>No</td>\n",
       "      <td>No</td>\n",
       "      <td>34</td>\n",
       "      <td>Yes</td>\n",
       "      <td>No</td>\n",
       "      <td>DSL</td>\n",
       "      <td>Yes</td>\n",
       "      <td>...</td>\n",
       "      <td>Yes</td>\n",
       "      <td>No</td>\n",
       "      <td>No</td>\n",
       "      <td>No</td>\n",
       "      <td>One year</td>\n",
       "      <td>No</td>\n",
       "      <td>Mailed check</td>\n",
       "      <td>56.95</td>\n",
       "      <td>1889.5</td>\n",
       "      <td>No</td>\n",
       "    </tr>\n",
       "    <tr>\n",
       "      <td>2</td>\n",
       "      <td>3668-QPYBK</td>\n",
       "      <td>Male</td>\n",
       "      <td>0</td>\n",
       "      <td>No</td>\n",
       "      <td>No</td>\n",
       "      <td>2</td>\n",
       "      <td>Yes</td>\n",
       "      <td>No</td>\n",
       "      <td>DSL</td>\n",
       "      <td>Yes</td>\n",
       "      <td>...</td>\n",
       "      <td>No</td>\n",
       "      <td>No</td>\n",
       "      <td>No</td>\n",
       "      <td>No</td>\n",
       "      <td>Month-to-month</td>\n",
       "      <td>Yes</td>\n",
       "      <td>Mailed check</td>\n",
       "      <td>53.85</td>\n",
       "      <td>108.15</td>\n",
       "      <td>Yes</td>\n",
       "    </tr>\n",
       "    <tr>\n",
       "      <td>3</td>\n",
       "      <td>7795-CFOCW</td>\n",
       "      <td>Male</td>\n",
       "      <td>0</td>\n",
       "      <td>No</td>\n",
       "      <td>No</td>\n",
       "      <td>45</td>\n",
       "      <td>No</td>\n",
       "      <td>No phone service</td>\n",
       "      <td>DSL</td>\n",
       "      <td>Yes</td>\n",
       "      <td>...</td>\n",
       "      <td>Yes</td>\n",
       "      <td>Yes</td>\n",
       "      <td>No</td>\n",
       "      <td>No</td>\n",
       "      <td>One year</td>\n",
       "      <td>No</td>\n",
       "      <td>Bank transfer (automatic)</td>\n",
       "      <td>42.30</td>\n",
       "      <td>1840.75</td>\n",
       "      <td>No</td>\n",
       "    </tr>\n",
       "    <tr>\n",
       "      <td>4</td>\n",
       "      <td>9237-HQITU</td>\n",
       "      <td>Female</td>\n",
       "      <td>0</td>\n",
       "      <td>No</td>\n",
       "      <td>No</td>\n",
       "      <td>2</td>\n",
       "      <td>Yes</td>\n",
       "      <td>No</td>\n",
       "      <td>Fiber optic</td>\n",
       "      <td>No</td>\n",
       "      <td>...</td>\n",
       "      <td>No</td>\n",
       "      <td>No</td>\n",
       "      <td>No</td>\n",
       "      <td>No</td>\n",
       "      <td>Month-to-month</td>\n",
       "      <td>Yes</td>\n",
       "      <td>Electronic check</td>\n",
       "      <td>70.70</td>\n",
       "      <td>151.65</td>\n",
       "      <td>Yes</td>\n",
       "    </tr>\n",
       "  </tbody>\n",
       "</table>\n",
       "<p>5 rows × 21 columns</p>\n",
       "</div>"
      ],
      "text/plain": [
       "   customerID  gender  SeniorCitizen Partner Dependents  tenure PhoneService  \\\n",
       "0  7590-VHVEG  Female              0     Yes         No       1           No   \n",
       "1  5575-GNVDE    Male              0      No         No      34          Yes   \n",
       "2  3668-QPYBK    Male              0      No         No       2          Yes   \n",
       "3  7795-CFOCW    Male              0      No         No      45           No   \n",
       "4  9237-HQITU  Female              0      No         No       2          Yes   \n",
       "\n",
       "      MultipleLines InternetService OnlineSecurity  ... DeviceProtection  \\\n",
       "0  No phone service             DSL             No  ...               No   \n",
       "1                No             DSL            Yes  ...              Yes   \n",
       "2                No             DSL            Yes  ...               No   \n",
       "3  No phone service             DSL            Yes  ...              Yes   \n",
       "4                No     Fiber optic             No  ...               No   \n",
       "\n",
       "  TechSupport StreamingTV StreamingMovies        Contract PaperlessBilling  \\\n",
       "0          No          No              No  Month-to-month              Yes   \n",
       "1          No          No              No        One year               No   \n",
       "2          No          No              No  Month-to-month              Yes   \n",
       "3         Yes          No              No        One year               No   \n",
       "4          No          No              No  Month-to-month              Yes   \n",
       "\n",
       "               PaymentMethod MonthlyCharges  TotalCharges Churn  \n",
       "0           Electronic check          29.85         29.85    No  \n",
       "1               Mailed check          56.95        1889.5    No  \n",
       "2               Mailed check          53.85        108.15   Yes  \n",
       "3  Bank transfer (automatic)          42.30       1840.75    No  \n",
       "4           Electronic check          70.70        151.65   Yes  \n",
       "\n",
       "[5 rows x 21 columns]"
      ]
     },
     "execution_count": 2,
     "metadata": {},
     "output_type": "execute_result"
    }
   ],
   "source": [
    "#Data Importing\n",
    "\n",
    "df=pd.read_csv('https://raw.githubusercontent.com/dsrscientist/DSData/master/Telecom_customer_churn.csv')\n",
    "df.head()"
   ]
  },
  {
   "cell_type": "markdown",
   "metadata": {},
   "source": [
    "# Exploratory Data Analysis"
   ]
  },
  {
   "cell_type": "code",
   "execution_count": 3,
   "metadata": {},
   "outputs": [
    {
     "data": {
      "text/plain": [
       "(7043, 21)"
      ]
     },
     "execution_count": 3,
     "metadata": {},
     "output_type": "execute_result"
    }
   ],
   "source": [
    "#checking shape of Data.\n",
    "df.shape"
   ]
  },
  {
   "cell_type": "code",
   "execution_count": 4,
   "metadata": {},
   "outputs": [
    {
     "data": {
      "text/plain": [
       "customerID           object\n",
       "gender               object\n",
       "SeniorCitizen         int64\n",
       "Partner              object\n",
       "Dependents           object\n",
       "tenure                int64\n",
       "PhoneService         object\n",
       "MultipleLines        object\n",
       "InternetService      object\n",
       "OnlineSecurity       object\n",
       "OnlineBackup         object\n",
       "DeviceProtection     object\n",
       "TechSupport          object\n",
       "StreamingTV          object\n",
       "StreamingMovies      object\n",
       "Contract             object\n",
       "PaperlessBilling     object\n",
       "PaymentMethod        object\n",
       "MonthlyCharges      float64\n",
       "TotalCharges         object\n",
       "Churn                object\n",
       "dtype: object"
      ]
     },
     "execution_count": 4,
     "metadata": {},
     "output_type": "execute_result"
    }
   ],
   "source": [
    "#Checking Data Types.\n",
    "df.dtypes"
   ]
  },
  {
   "cell_type": "code",
   "execution_count": 5,
   "metadata": {},
   "outputs": [
    {
     "name": "stdout",
     "output_type": "stream",
     "text": [
      "<class 'pandas.core.frame.DataFrame'>\n",
      "RangeIndex: 7043 entries, 0 to 7042\n",
      "Data columns (total 21 columns):\n",
      "customerID          7043 non-null object\n",
      "gender              7043 non-null object\n",
      "SeniorCitizen       7043 non-null int64\n",
      "Partner             7043 non-null object\n",
      "Dependents          7043 non-null object\n",
      "tenure              7043 non-null int64\n",
      "PhoneService        7043 non-null object\n",
      "MultipleLines       7043 non-null object\n",
      "InternetService     7043 non-null object\n",
      "OnlineSecurity      7043 non-null object\n",
      "OnlineBackup        7043 non-null object\n",
      "DeviceProtection    7043 non-null object\n",
      "TechSupport         7043 non-null object\n",
      "StreamingTV         7043 non-null object\n",
      "StreamingMovies     7043 non-null object\n",
      "Contract            7043 non-null object\n",
      "PaperlessBilling    7043 non-null object\n",
      "PaymentMethod       7043 non-null object\n",
      "MonthlyCharges      7043 non-null float64\n",
      "TotalCharges        7043 non-null object\n",
      "Churn               7043 non-null object\n",
      "dtypes: float64(1), int64(2), object(18)\n",
      "memory usage: 1.1+ MB\n"
     ]
    }
   ],
   "source": [
    "#Getting details from all features.\n",
    "df.info()"
   ]
  },
  {
   "cell_type": "code",
   "execution_count": 6,
   "metadata": {},
   "outputs": [
    {
     "data": {
      "text/plain": [
       "customerID          0\n",
       "gender              0\n",
       "SeniorCitizen       0\n",
       "Partner             0\n",
       "Dependents          0\n",
       "tenure              0\n",
       "PhoneService        0\n",
       "MultipleLines       0\n",
       "InternetService     0\n",
       "OnlineSecurity      0\n",
       "OnlineBackup        0\n",
       "DeviceProtection    0\n",
       "TechSupport         0\n",
       "StreamingTV         0\n",
       "StreamingMovies     0\n",
       "Contract            0\n",
       "PaperlessBilling    0\n",
       "PaymentMethod       0\n",
       "MonthlyCharges      0\n",
       "TotalCharges        0\n",
       "Churn               0\n",
       "dtype: int64"
      ]
     },
     "execution_count": 6,
     "metadata": {},
     "output_type": "execute_result"
    }
   ],
   "source": [
    "df.isnull().sum()"
   ]
  },
  {
   "cell_type": "markdown",
   "metadata": {},
   "source": [
    "No Missing values are present.\n",
    "\n"
   ]
  },
  {
   "cell_type": "raw",
   "metadata": {},
   "source": [
    "Here, We are checking unique values of all features in Data and How many columns are categorical."
   ]
  },
  {
   "cell_type": "code",
   "execution_count": 7,
   "metadata": {},
   "outputs": [],
   "source": [
    "#Droping column as we are getting it is not related with prediction.\n",
    "df.drop(['customerID'],axis=1,inplace=True)"
   ]
  },
  {
   "cell_type": "markdown",
   "metadata": {},
   "source": [
    "# Statistical Summary"
   ]
  },
  {
   "cell_type": "code",
   "execution_count": 8,
   "metadata": {},
   "outputs": [
    {
     "data": {
      "text/html": [
       "<div>\n",
       "<style scoped>\n",
       "    .dataframe tbody tr th:only-of-type {\n",
       "        vertical-align: middle;\n",
       "    }\n",
       "\n",
       "    .dataframe tbody tr th {\n",
       "        vertical-align: top;\n",
       "    }\n",
       "\n",
       "    .dataframe thead th {\n",
       "        text-align: right;\n",
       "    }\n",
       "</style>\n",
       "<table border=\"1\" class=\"dataframe\">\n",
       "  <thead>\n",
       "    <tr style=\"text-align: right;\">\n",
       "      <th></th>\n",
       "      <th>SeniorCitizen</th>\n",
       "      <th>tenure</th>\n",
       "      <th>MonthlyCharges</th>\n",
       "    </tr>\n",
       "  </thead>\n",
       "  <tbody>\n",
       "    <tr>\n",
       "      <td>count</td>\n",
       "      <td>7043.000000</td>\n",
       "      <td>7043.000000</td>\n",
       "      <td>7043.000000</td>\n",
       "    </tr>\n",
       "    <tr>\n",
       "      <td>mean</td>\n",
       "      <td>0.162147</td>\n",
       "      <td>32.371149</td>\n",
       "      <td>64.761692</td>\n",
       "    </tr>\n",
       "    <tr>\n",
       "      <td>std</td>\n",
       "      <td>0.368612</td>\n",
       "      <td>24.559481</td>\n",
       "      <td>30.090047</td>\n",
       "    </tr>\n",
       "    <tr>\n",
       "      <td>min</td>\n",
       "      <td>0.000000</td>\n",
       "      <td>0.000000</td>\n",
       "      <td>18.250000</td>\n",
       "    </tr>\n",
       "    <tr>\n",
       "      <td>25%</td>\n",
       "      <td>0.000000</td>\n",
       "      <td>9.000000</td>\n",
       "      <td>35.500000</td>\n",
       "    </tr>\n",
       "    <tr>\n",
       "      <td>50%</td>\n",
       "      <td>0.000000</td>\n",
       "      <td>29.000000</td>\n",
       "      <td>70.350000</td>\n",
       "    </tr>\n",
       "    <tr>\n",
       "      <td>75%</td>\n",
       "      <td>0.000000</td>\n",
       "      <td>55.000000</td>\n",
       "      <td>89.850000</td>\n",
       "    </tr>\n",
       "    <tr>\n",
       "      <td>max</td>\n",
       "      <td>1.000000</td>\n",
       "      <td>72.000000</td>\n",
       "      <td>118.750000</td>\n",
       "    </tr>\n",
       "  </tbody>\n",
       "</table>\n",
       "</div>"
      ],
      "text/plain": [
       "       SeniorCitizen       tenure  MonthlyCharges\n",
       "count    7043.000000  7043.000000     7043.000000\n",
       "mean        0.162147    32.371149       64.761692\n",
       "std         0.368612    24.559481       30.090047\n",
       "min         0.000000     0.000000       18.250000\n",
       "25%         0.000000     9.000000       35.500000\n",
       "50%         0.000000    29.000000       70.350000\n",
       "75%         0.000000    55.000000       89.850000\n",
       "max         1.000000    72.000000      118.750000"
      ]
     },
     "execution_count": 8,
     "metadata": {},
     "output_type": "execute_result"
    }
   ],
   "source": [
    "df.describe()"
   ]
  },
  {
   "cell_type": "markdown",
   "metadata": {},
   "source": [
    "Here we are analysing the all numerical features statistically and as we are seeing here all numerical features describing with count,mean,std,minm,25%,50%, 75% and max.\n",
    "\n"
   ]
  },
  {
   "cell_type": "markdown",
   "metadata": {},
   "source": [
    "# Data Visualization"
   ]
  },
  {
   "cell_type": "code",
   "execution_count": 9,
   "metadata": {},
   "outputs": [
    {
     "data": {
      "text/plain": [
       "<matplotlib.axes._subplots.AxesSubplot at 0x223b0763dc8>"
      ]
     },
     "execution_count": 9,
     "metadata": {},
     "output_type": "execute_result"
    },
    {
     "data": {
      "image/png": "[encoded data removed]",
      "text/plain": [
       "<Figure size 432x288 with 2 Axes>"
      ]
     },
     "metadata": {
      "needs_background": "light"
     },
     "output_type": "display_data"
    },
    {
     "data": {
      "image/png": "[encoded data removed]",
      "text/plain": [
       "<Figure size 720x576 with 2 Axes>"
      ]
     },
     "metadata": {
      "needs_background": "light"
     },
     "output_type": "display_data"
    }
   ],
   "source": [
    "dfcor=df.corr()\n",
    "dfcor\n",
    "sns.heatmap(dfcor)\n",
    "plt.figure(figsize=(10,8))\n",
    "sns.heatmap(dfcor,cmap='Reds',annot=True)"
   ]
  },
  {
   "cell_type": "markdown",
   "metadata": {},
   "source": [
    "# Univariate Analysis"
   ]
  },
  {
   "cell_type": "code",
   "execution_count": 10,
   "metadata": {},
   "outputs": [
    {
     "data": {
      "text/plain": [
       "Text(0.5, 1.0, 'gender')"
      ]
     },
     "execution_count": 10,
     "metadata": {},
     "output_type": "execute_result"
    },
    {
     "data": {
      "image/png": "[encoded data removed]",
      "text/plain": [
       "<Figure size 576x360 with 1 Axes>"
      ]
     },
     "metadata": {
      "needs_background": "light"
     },
     "output_type": "display_data"
    }
   ],
   "source": [
    "fig_size = (8,5)\n",
    "fig, ax = plt.subplots(figsize = fig_size)\n",
    "sns.countplot(data=df, x=\"gender\")\n",
    "plt.xticks(rotation=90)\n",
    "plt.title(\"gender\", fontsize = 20)"
   ]
  },
  {
   "cell_type": "markdown",
   "metadata": {},
   "source": [
    "Here we are ploting Gender column and as we getting male and female both are equal.\n",
    "\n"
   ]
  },
  {
   "cell_type": "code",
   "execution_count": 11,
   "metadata": {},
   "outputs": [
    {
     "data": {
      "text/plain": [
       "Text(0.5, 1.0, 'SeniorCitizen')"
      ]
     },
     "execution_count": 11,
     "metadata": {},
     "output_type": "execute_result"
    },
    {
     "data": {
      "image/png": "[encoded data removed]",
      "text/plain": [
       "<Figure size 576x360 with 1 Axes>"
      ]
     },
     "metadata": {
      "needs_background": "light"
     },
     "output_type": "display_data"
    }
   ],
   "source": [
    "fig_size = (8,5)\n",
    "fig, ax = plt.subplots(figsize = fig_size)\n",
    "sns.countplot(data=df, x=\"SeniorCitizen\")\n",
    "plt.xticks(rotation=90)\n",
    "plt.title(\"SeniorCitizen\", fontsize = 20)"
   ]
  },
  {
   "cell_type": "markdown",
   "metadata": {},
   "source": [
    "Here 0 is very high then 1\n",
    "\n"
   ]
  },
  {
   "cell_type": "code",
   "execution_count": 12,
   "metadata": {},
   "outputs": [
    {
     "data": {
      "text/plain": [
       "Text(0.5, 1.0, 'Partner')"
      ]
     },
     "execution_count": 12,
     "metadata": {},
     "output_type": "execute_result"
    },
    {
     "data": {
      "image/png": "[encoded data removed]",
      "text/plain": [
       "<Figure size 576x360 with 1 Axes>"
      ]
     },
     "metadata": {
      "needs_background": "light"
     },
     "output_type": "display_data"
    }
   ],
   "source": [
    "fig_size = (8,5)\n",
    "fig, ax = plt.subplots(figsize = fig_size)\n",
    "sns.countplot(data=df, x=\"Partner\")\n",
    "plt.xticks(rotation=90)\n",
    "plt.title(\"Partner\", fontsize = 20)"
   ]
  },
  {
   "cell_type": "markdown",
   "metadata": {},
   "source": [
    "Both are almost equal Yes and No.\n",
    "\n"
   ]
  },
  {
   "cell_type": "code",
   "execution_count": 13,
   "metadata": {},
   "outputs": [
    {
     "data": {
      "text/plain": [
       "Text(0.5, 1.0, 'Dependents')"
      ]
     },
     "execution_count": 13,
     "metadata": {},
     "output_type": "execute_result"
    },
    {
     "data": {
      "image/png": "[encoded data removed]",
      "text/plain": [
       "<Figure size 576x360 with 1 Axes>"
      ]
     },
     "metadata": {
      "needs_background": "light"
     },
     "output_type": "display_data"
    }
   ],
   "source": [
    "fig_size = (8,5)\n",
    "fig, ax = plt.subplots(figsize = fig_size)\n",
    "sns.countplot(data=df, x=\"Dependents\")\n",
    "plt.xticks(rotation=90)\n",
    "plt.title(\"Dependents\", fontsize = 20)"
   ]
  },
  {
   "cell_type": "markdown",
   "metadata": {},
   "source": [
    "the maximum have no dependents.\n",
    "\n"
   ]
  },
  {
   "cell_type": "code",
   "execution_count": 14,
   "metadata": {},
   "outputs": [
    {
     "data": {
      "text/plain": [
       "Text(0.5, 1.0, 'tenure')"
      ]
     },
     "execution_count": 14,
     "metadata": {},
     "output_type": "execute_result"
    },
    {
     "data": {
      "image/png": "[encoded data removed]",
      "text/plain": [
       "<Figure size 1080x720 with 1 Axes>"
      ]
     },
     "metadata": {
      "needs_background": "light"
     },
     "output_type": "display_data"
    }
   ],
   "source": [
    "fig_size = (15,10)\n",
    "fig, ax = plt.subplots(figsize = fig_size)\n",
    "sns.countplot(data=df, x=\"tenure\")\n",
    "plt.xticks(rotation=90)\n",
    "plt.title(\"tenure\", fontsize = 20)"
   ]
  },
  {
   "cell_type": "markdown",
   "metadata": {},
   "source": [
    "The 1 and 2 no. are highest counts\n",
    "\n"
   ]
  },
  {
   "cell_type": "code",
   "execution_count": 15,
   "metadata": {},
   "outputs": [
    {
     "data": {
      "text/plain": [
       "Text(0.5, 1.0, 'PhoneService')"
      ]
     },
     "execution_count": 15,
     "metadata": {},
     "output_type": "execute_result"
    },
    {
     "data": {
      "image/png": "[encoded data removed]",
      "text/plain": [
       "<Figure size 576x360 with 1 Axes>"
      ]
     },
     "metadata": {
      "needs_background": "light"
     },
     "output_type": "display_data"
    }
   ],
   "source": [
    "fig_size = (8,5)\n",
    "fig, ax = plt.subplots(figsize = fig_size)\n",
    "sns.countplot(data=df, x=\"PhoneService\")\n",
    "plt.xticks(rotation=90)\n",
    "plt.title(\"PhoneService\", fontsize = 20)"
   ]
  },
  {
   "cell_type": "markdown",
   "metadata": {},
   "source": [
    "very few who's have no phone service.\n",
    "\n"
   ]
  },
  {
   "cell_type": "code",
   "execution_count": 16,
   "metadata": {},
   "outputs": [
    {
     "data": {
      "text/plain": [
       "Text(0.5, 1.0, 'MultipleLines')"
      ]
     },
     "execution_count": 16,
     "metadata": {},
     "output_type": "execute_result"
    },
    {
     "data": {
      "image/png": "[encoded data removed]",
      "text/plain": [
       "<Figure size 576x360 with 1 Axes>"
      ]
     },
     "metadata": {
      "needs_background": "light"
     },
     "output_type": "display_data"
    }
   ],
   "source": [
    "fig_size = (8,5)\n",
    "fig, ax = plt.subplots(figsize = fig_size)\n",
    "sns.countplot(data=df, x=\"MultipleLines\")\n",
    "plt.xticks(rotation=90)\n",
    "plt.title(\"MultipleLines\", fontsize = 20)"
   ]
  },
  {
   "cell_type": "markdown",
   "metadata": {},
   "source": [
    "If we check according to Multiplelines, Maximum have No multiplelines.\n",
    "\n"
   ]
  },
  {
   "cell_type": "code",
   "execution_count": 17,
   "metadata": {},
   "outputs": [
    {
     "data": {
      "text/plain": [
       "Text(0.5, 1.0, 'InternetService')"
      ]
     },
     "execution_count": 17,
     "metadata": {},
     "output_type": "execute_result"
    },
    {
     "data": {
      "image/png": "[encoded data removed]",
      "text/plain": [
       "<Figure size 576x360 with 1 Axes>"
      ]
     },
     "metadata": {
      "needs_background": "light"
     },
     "output_type": "display_data"
    }
   ],
   "source": [
    "fig_size = (8,5)\n",
    "fig, ax = plt.subplots(figsize = fig_size)\n",
    "sns.countplot(data=df, x=\"InternetService\")\n",
    "plt.xticks(rotation=90)\n",
    "plt.title(\"InternetService\", fontsize = 20)"
   ]
  },
  {
   "cell_type": "markdown",
   "metadata": {},
   "source": [
    "Maximum customer have Fiber optical\n",
    "\n"
   ]
  },
  {
   "cell_type": "code",
   "execution_count": 18,
   "metadata": {},
   "outputs": [
    {
     "data": {
      "text/plain": [
       "Text(0.5, 1.0, 'TechSupport')"
      ]
     },
     "execution_count": 18,
     "metadata": {},
     "output_type": "execute_result"
    },
    {
     "data": {
      "image/png": "[encoded data removed]",
      "text/plain": [
       "<Figure size 576x360 with 1 Axes>"
      ]
     },
     "metadata": {
      "needs_background": "light"
     },
     "output_type": "display_data"
    }
   ],
   "source": [
    "fig_size = (8,5)\n",
    "fig, ax = plt.subplots(figsize = fig_size)\n",
    "sns.countplot(data=df, x=\"TechSupport\")\n",
    "plt.xticks(rotation=90)\n",
    "plt.title(\"TechSupport\", fontsize = 20)"
   ]
  },
  {
   "cell_type": "markdown",
   "metadata": {},
   "source": [
    "Maximum customers have No Tech Support.\n",
    "\n"
   ]
  },
  {
   "cell_type": "code",
   "execution_count": 19,
   "metadata": {},
   "outputs": [
    {
     "data": {
      "text/plain": [
       "Text(0.5, 1.0, 'StreamingTV')"
      ]
     },
     "execution_count": 19,
     "metadata": {},
     "output_type": "execute_result"
    },
    {
     "data": {
      "image/png": "[encoded data removed]",
      "text/plain": [
       "<Figure size 576x360 with 1 Axes>"
      ]
     },
     "metadata": {
      "needs_background": "light"
     },
     "output_type": "display_data"
    }
   ],
   "source": [
    "fig_size = (8,5)\n",
    "fig, ax = plt.subplots(figsize = fig_size)\n",
    "sns.countplot(data=df, x=\"StreamingTV\")\n",
    "plt.xticks(rotation=90)\n",
    "plt.title(\"StreamingTV\", fontsize = 20)"
   ]
  },
  {
   "cell_type": "markdown",
   "metadata": {},
   "source": [
    "According to Streaming TV, both are equal who's streaming TV or not streaming TV.\n",
    "\n"
   ]
  },
  {
   "cell_type": "code",
   "execution_count": 20,
   "metadata": {},
   "outputs": [
    {
     "data": {
      "text/plain": [
       "Text(0.5, 1.0, 'StreamingMovies')"
      ]
     },
     "execution_count": 20,
     "metadata": {},
     "output_type": "execute_result"
    },
    {
     "data": {
      "image/png": "[encoded data removed]",
      "text/plain": [
       "<Figure size 576x360 with 1 Axes>"
      ]
     },
     "metadata": {
      "needs_background": "light"
     },
     "output_type": "display_data"
    }
   ],
   "source": [
    "fig_size = (8,5)\n",
    "fig, ax = plt.subplots(figsize = fig_size)\n",
    "sns.countplot(data=df, x=\"StreamingMovies\")\n",
    "plt.xticks(rotation=90)\n",
    "plt.title(\"StreamingMovies\", fontsize = 20)"
   ]
  },
  {
   "cell_type": "markdown",
   "metadata": {},
   "source": [
    "According to Streaming Movies, both are equal who's streaming Movies or not streaming Movies. Few customers have no internet servie.\n",
    "\n"
   ]
  },
  {
   "cell_type": "code",
   "execution_count": 21,
   "metadata": {},
   "outputs": [
    {
     "data": {
      "text/plain": [
       "Text(0.5, 1.0, 'Contract')"
      ]
     },
     "execution_count": 21,
     "metadata": {},
     "output_type": "execute_result"
    },
    {
     "data": {
      "image/png": "[encoded data removed]",
      "text/plain": [
       "<Figure size 576x360 with 1 Axes>"
      ]
     },
     "metadata": {
      "needs_background": "light"
     },
     "output_type": "display_data"
    }
   ],
   "source": [
    "fig_size = (8,5)\n",
    "fig, ax = plt.subplots(figsize = fig_size)\n",
    "sns.countplot(data=df, x=\"Contract\")\n",
    "plt.xticks(rotation=90)\n",
    "plt.title(\"Contract\", fontsize = 20)"
   ]
  },
  {
   "cell_type": "markdown",
   "metadata": {},
   "source": [
    "The maximum customers are month to month contract cusotmers.\n",
    "\n"
   ]
  },
  {
   "cell_type": "code",
   "execution_count": 22,
   "metadata": {},
   "outputs": [
    {
     "data": {
      "text/plain": [
       "Text(0.5, 1.0, 'PaymentMethod')"
      ]
     },
     "execution_count": 22,
     "metadata": {},
     "output_type": "execute_result"
    },
    {
     "data": {
      "image/png": "[encoded data removed]",
      "text/plain": [
       "<Figure size 576x360 with 1 Axes>"
      ]
     },
     "metadata": {
      "needs_background": "light"
     },
     "output_type": "display_data"
    }
   ],
   "source": [
    "fig_size = (8,5)\n",
    "fig, ax = plt.subplots(figsize = fig_size)\n",
    "sns.countplot(data=df, x=\"PaymentMethod\")\n",
    "plt.xticks(rotation=90)\n",
    "plt.title(\"PaymentMethod\", fontsize = 20)"
   ]
  },
  {
   "cell_type": "markdown",
   "metadata": {},
   "source": [
    "The maximum customers paymentmethod are Electronic check.\n",
    "\n"
   ]
  },
  {
   "cell_type": "code",
   "execution_count": 23,
   "metadata": {},
   "outputs": [
    {
     "data": {
      "text/plain": [
       "Text(0.5, 1.0, 'Churn')"
      ]
     },
     "execution_count": 23,
     "metadata": {},
     "output_type": "execute_result"
    },
    {
     "data": {
      "image/png": "[encoded data removed]",
      "text/plain": [
       "<Figure size 576x360 with 1 Axes>"
      ]
     },
     "metadata": {
      "needs_background": "light"
     },
     "output_type": "display_data"
    }
   ],
   "source": [
    "fig_size = (8,5)\n",
    "fig, ax = plt.subplots(figsize = fig_size)\n",
    "sns.countplot(data=df, x=\"Churn\")\n",
    "plt.xticks(rotation=90)\n",
    "plt.title(\"Churn\", fontsize = 20)"
   ]
  },
  {
   "cell_type": "markdown",
   "metadata": {},
   "source": [
    "According to target variable maximum customers no churn.\n",
    "\n"
   ]
  },
  {
   "cell_type": "markdown",
   "metadata": {},
   "source": [
    "# Bivariate Analysis"
   ]
  },
  {
   "cell_type": "code",
   "execution_count": 24,
   "metadata": {},
   "outputs": [
    {
     "data": {
      "text/plain": [
       "<matplotlib.axes._subplots.AxesSubplot at 0x223b0e79a48>"
      ]
     },
     "execution_count": 24,
     "metadata": {},
     "output_type": "execute_result"
    },
    {
     "data": {
      "image/png": "[encoded data removed]",
      "text/plain": [
       "<Figure size 864x432 with 1 Axes>"
      ]
     },
     "metadata": {
      "needs_background": "light"
     },
     "output_type": "display_data"
    }
   ],
   "source": [
    "plt.figure(figsize = (12,6))\n",
    "sns.countplot(x = 'gender' , hue = 'Churn' , data = df , dodge = True , color = 'Blue' , saturation = 1)"
   ]
  },
  {
   "cell_type": "markdown",
   "metadata": {},
   "source": [
    "There is negligible difference in customer percentage/ count who chnaged the service provider. Both genders behaved in similar fashion when it comes to migrating to another service provider/firm.\n",
    "\n"
   ]
  },
  {
   "cell_type": "code",
   "execution_count": 25,
   "metadata": {},
   "outputs": [
    {
     "data": {
      "text/plain": [
       "<matplotlib.axes._subplots.AxesSubplot at 0x223b0f3a148>"
      ]
     },
     "execution_count": 25,
     "metadata": {},
     "output_type": "execute_result"
    },
    {
     "data": {
      "image/png": "[encoded data removed]",
      "text/plain": [
       "<Figure size 864x432 with 1 Axes>"
      ]
     },
     "metadata": {
      "needs_background": "light"
     },
     "output_type": "display_data"
    }
   ],
   "source": [
    "plt.figure(figsize = (12,6))\n",
    "sns.countplot(x = 'SeniorCitizen' , hue = 'Churn' , data = df , dodge = True , color = 'Blue' , saturation = 1)"
   ]
  },
  {
   "cell_type": "markdown",
   "metadata": {},
   "source": [
    "It can be observed that the fraction of senior citizen is very less and Most of the senior citizens churn.\n",
    "\n"
   ]
  },
  {
   "cell_type": "code",
   "execution_count": 26,
   "metadata": {},
   "outputs": [
    {
     "data": {
      "text/plain": [
       "<matplotlib.axes._subplots.AxesSubplot at 0x223b0e790c8>"
      ]
     },
     "execution_count": 26,
     "metadata": {},
     "output_type": "execute_result"
    },
    {
     "data": {
      "image/png": "[encoded data removed]",
      "text/plain": [
       "<Figure size 864x432 with 1 Axes>"
      ]
     },
     "metadata": {
      "needs_background": "light"
     },
     "output_type": "display_data"
    }
   ],
   "source": [
    "plt.figure(figsize = (12,6))\n",
    "sns.countplot(x = 'Partner' , hue = 'Churn' , data = df , dodge = True , color = 'Blue' , saturation = 1)"
   ]
  },
  {
   "cell_type": "markdown",
   "metadata": {},
   "source": [
    "Customers that doesn't have partners are more likely to churn.\n",
    "\n"
   ]
  },
  {
   "cell_type": "code",
   "execution_count": 27,
   "metadata": {},
   "outputs": [
    {
     "data": {
      "text/plain": [
       "<matplotlib.axes._subplots.AxesSubplot at 0x223b2296ec8>"
      ]
     },
     "execution_count": 27,
     "metadata": {},
     "output_type": "execute_result"
    },
    {
     "data": {
      "image/png": "[encoded data removed]",
      "text/plain": [
       "<Figure size 864x432 with 1 Axes>"
      ]
     },
     "metadata": {
      "needs_background": "light"
     },
     "output_type": "display_data"
    }
   ],
   "source": [
    "plt.figure(figsize = (12,6))\n",
    "sns.countplot(x = 'Dependents' , hue = 'Churn' , data = df , dodge = True , color = 'Blue' , saturation = 1)"
   ]
  },
  {
   "cell_type": "markdown",
   "metadata": {},
   "source": [
    "according to dependent NO is higher then Yes churn.\n",
    "\n"
   ]
  },
  {
   "cell_type": "code",
   "execution_count": 28,
   "metadata": {},
   "outputs": [
    {
     "data": {
      "text/plain": [
       "<matplotlib.axes._subplots.AxesSubplot at 0x223b2572888>"
      ]
     },
     "execution_count": 28,
     "metadata": {},
     "output_type": "execute_result"
    },
    {
     "data": {
      "image/png": "[encoded data removed]",
      "text/plain": [
       "<Figure size 864x432 with 1 Axes>"
      ]
     },
     "metadata": {
      "needs_background": "light"
     },
     "output_type": "display_data"
    }
   ],
   "source": [
    "plt.figure(figsize = (12,6))\n",
    "sns.countplot(x = 'tenure' , hue = 'Churn' , data = df , dodge = True , color = 'Blue' , saturation = 1)"
   ]
  },
  {
   "cell_type": "markdown",
   "metadata": {},
   "source": [
    "New customers are more likely to churn\n",
    "\n"
   ]
  },
  {
   "cell_type": "code",
   "execution_count": 29,
   "metadata": {},
   "outputs": [
    {
     "data": {
      "text/plain": [
       "<matplotlib.axes._subplots.AxesSubplot at 0x223b2562708>"
      ]
     },
     "execution_count": 29,
     "metadata": {},
     "output_type": "execute_result"
    },
    {
     "data": {
      "image/png": "[encoded data removed]",
      "text/plain": [
       "<Figure size 864x432 with 1 Axes>"
      ]
     },
     "metadata": {
      "needs_background": "light"
     },
     "output_type": "display_data"
    }
   ],
   "source": [
    "plt.figure(figsize = (12,6))\n",
    "sns.countplot(x = 'PhoneService' , hue = 'Churn' , data = df , dodge = True , color = 'Blue' , saturation = 1)"
   ]
  },
  {
   "cell_type": "markdown",
   "metadata": {},
   "source": [
    "Very small fraction of customers don't have a phone service and out of that, 1/3rd Customers are more likely to churn.\n",
    "\n"
   ]
  },
  {
   "cell_type": "code",
   "execution_count": 30,
   "metadata": {},
   "outputs": [
    {
     "data": {
      "text/plain": [
       "<matplotlib.axes._subplots.AxesSubplot at 0x223b2aba288>"
      ]
     },
     "execution_count": 30,
     "metadata": {},
     "output_type": "execute_result"
    },
    {
     "data": {
      "image/png": "[encoded data removed]",
      "text/plain": [
       "<Figure size 864x432 with 1 Axes>"
      ]
     },
     "metadata": {
      "needs_background": "light"
     },
     "output_type": "display_data"
    }
   ],
   "source": [
    "plt.figure(figsize = (12,6))\n",
    "sns.countplot(x = 'InternetService' , hue = 'Churn' , data = df , dodge = True , color = 'Blue' , saturation = 1)"
   ]
  },
  {
   "cell_type": "markdown",
   "metadata": {},
   "source": [
    "Fiber optic has highest churn others are less.\n",
    "\n"
   ]
  },
  {
   "cell_type": "code",
   "execution_count": 31,
   "metadata": {},
   "outputs": [
    {
     "data": {
      "text/plain": [
       "<matplotlib.axes._subplots.AxesSubplot at 0x223b2da3408>"
      ]
     },
     "execution_count": 31,
     "metadata": {},
     "output_type": "execute_result"
    },
    {
     "data": {
      "image/png": "[encoded data removed]",
      "text/plain": [
       "<Figure size 864x432 with 1 Axes>"
      ]
     },
     "metadata": {
      "needs_background": "light"
     },
     "output_type": "display_data"
    }
   ],
   "source": [
    "plt.figure(figsize = (12,6))\n",
    "sns.countplot(x = 'OnlineSecurity' , hue = 'Churn' , data = df , dodge = True , color = 'Blue' , saturation = 1)"
   ]
  },
  {
   "cell_type": "markdown",
   "metadata": {},
   "source": [
    "Most customers churn in the absence of online security,\n",
    "\n"
   ]
  },
  {
   "cell_type": "code",
   "execution_count": 32,
   "metadata": {},
   "outputs": [
    {
     "data": {
      "text/plain": [
       "<matplotlib.axes._subplots.AxesSubplot at 0x223b2e4fc08>"
      ]
     },
     "execution_count": 32,
     "metadata": {},
     "output_type": "execute_result"
    },
    {
     "data": {
      "image/png": "[encoded data removed]",
      "text/plain": [
       "<Figure size 864x432 with 1 Axes>"
      ]
     },
     "metadata": {
      "needs_background": "light"
     },
     "output_type": "display_data"
    }
   ],
   "source": [
    "plt.figure(figsize = (12,6))\n",
    "sns.countplot(x = 'OnlineBackup' , hue = 'Churn' , data = df , dodge = True , color = 'Blue' , saturation = 1)"
   ]
  },
  {
   "cell_type": "code",
   "execution_count": 33,
   "metadata": {},
   "outputs": [
    {
     "data": {
      "text/plain": [
       "<matplotlib.axes._subplots.AxesSubplot at 0x223b2ddca48>"
      ]
     },
     "execution_count": 33,
     "metadata": {},
     "output_type": "execute_result"
    },
    {
     "data": {
      "image/png": "[encoded data removed]",
      "text/plain": [
       "<Figure size 864x432 with 1 Axes>"
      ]
     },
     "metadata": {
      "needs_background": "light"
     },
     "output_type": "display_data"
    }
   ],
   "source": [
    "plt.figure(figsize = (12,6))\n",
    "sns.countplot(x = 'DeviceProtection' , hue = 'Churn' , data = df , dodge = True , color = 'Blue' , saturation = 1)"
   ]
  },
  {
   "cell_type": "code",
   "execution_count": 34,
   "metadata": {},
   "outputs": [
    {
     "data": {
      "text/plain": [
       "<matplotlib.axes._subplots.AxesSubplot at 0x223b2e56348>"
      ]
     },
     "execution_count": 34,
     "metadata": {},
     "output_type": "execute_result"
    },
    {
     "data": {
      "image/png": "[encoded data removed]",
      "text/plain": [
       "<Figure size 864x432 with 1 Axes>"
      ]
     },
     "metadata": {
      "needs_background": "light"
     },
     "output_type": "display_data"
    }
   ],
   "source": [
    "plt.figure(figsize = (12,6))\n",
    "sns.countplot(x = 'TechSupport' , hue = 'Churn' , data = df , dodge = True , color = 'Blue' , saturation = 1)"
   ]
  },
  {
   "cell_type": "markdown",
   "metadata": {},
   "source": [
    "Customers with no TechSupport are most likely to migrate to another service provider.\n",
    "\n"
   ]
  },
  {
   "cell_type": "code",
   "execution_count": 35,
   "metadata": {},
   "outputs": [
    {
     "data": {
      "text/plain": [
       "<matplotlib.axes._subplots.AxesSubplot at 0x223b2f14a88>"
      ]
     },
     "execution_count": 35,
     "metadata": {},
     "output_type": "execute_result"
    },
    {
     "data": {
      "image/png": "[encoded data removed]",
      "text/plain": [
       "<Figure size 864x432 with 1 Axes>"
      ]
     },
     "metadata": {
      "needs_background": "light"
     },
     "output_type": "display_data"
    }
   ],
   "source": [
    "plt.figure(figsize = (12,6))\n",
    "sns.countplot(x = 'StreamingTV' , hue = 'Churn' , data = df , dodge = True , color = 'Blue' , saturation = 1)"
   ]
  },
  {
   "cell_type": "markdown",
   "metadata": {},
   "source": [
    "According to above Highest churn are not streaming TV.\n",
    "\n"
   ]
  },
  {
   "cell_type": "code",
   "execution_count": 36,
   "metadata": {},
   "outputs": [
    {
     "data": {
      "text/plain": [
       "<matplotlib.axes._subplots.AxesSubplot at 0x223b30fb448>"
      ]
     },
     "execution_count": 36,
     "metadata": {},
     "output_type": "execute_result"
    },
    {
     "data": {
      "image/png": "[encoded data removed]",
      "text/plain": [
       "<Figure size 864x432 with 1 Axes>"
      ]
     },
     "metadata": {
      "needs_background": "light"
     },
     "output_type": "display_data"
    }
   ],
   "source": [
    "plt.figure(figsize = (12,6))\n",
    "sns.countplot(x = 'StreamingMovies' , hue = 'Churn' , data = df , dodge = True , color = 'Blue' , saturation = 1)"
   ]
  },
  {
   "cell_type": "markdown",
   "metadata": {},
   "source": [
    "According to above Highest churn are not streaming Movies.\n",
    "\n"
   ]
  },
  {
   "cell_type": "code",
   "execution_count": 37,
   "metadata": {},
   "outputs": [
    {
     "data": {
      "text/plain": [
       "<matplotlib.axes._subplots.AxesSubplot at 0x223b316bac8>"
      ]
     },
     "execution_count": 37,
     "metadata": {},
     "output_type": "execute_result"
    },
    {
     "data": {
      "image/png": "[encoded data removed]",
      "text/plain": [
       "<Figure size 864x432 with 1 Axes>"
      ]
     },
     "metadata": {
      "needs_background": "light"
     },
     "output_type": "display_data"
    }
   ],
   "source": [
    "plt.figure(figsize = (12,6))\n",
    "sns.countplot(x = 'Contract' , hue = 'Churn' , data = df , dodge = True , color = 'Blue' , saturation = 1)"
   ]
  },
  {
   "cell_type": "markdown",
   "metadata": {},
   "source": [
    "Highest churn have month_to_month contract.\n",
    "\n"
   ]
  },
  {
   "cell_type": "code",
   "execution_count": 38,
   "metadata": {},
   "outputs": [
    {
     "data": {
      "text/plain": [
       "<matplotlib.axes._subplots.AxesSubplot at 0x223b3116b08>"
      ]
     },
     "execution_count": 38,
     "metadata": {},
     "output_type": "execute_result"
    },
    {
     "data": {
      "image/png": "[encoded data removed]",
      "text/plain": [
       "<Figure size 864x432 with 1 Axes>"
      ]
     },
     "metadata": {
      "needs_background": "light"
     },
     "output_type": "display_data"
    }
   ],
   "source": [
    "plt.figure(figsize = (12,6))\n",
    "sns.countplot(x = 'PaperlessBilling' , hue = 'Churn' , data = df , dodge = True , color = 'Blue' , saturation = 1)"
   ]
  },
  {
   "cell_type": "markdown",
   "metadata": {},
   "source": [
    "Customers with Paperless Billing are most likely to churn.\n",
    "\n"
   ]
  },
  {
   "cell_type": "code",
   "execution_count": 39,
   "metadata": {},
   "outputs": [
    {
     "data": {
      "text/plain": [
       "<matplotlib.axes._subplots.AxesSubplot at 0x223b319cbc8>"
      ]
     },
     "execution_count": 39,
     "metadata": {},
     "output_type": "execute_result"
    },
    {
     "data": {
      "image/png": "[encoded data removed]",
      "text/plain": [
       "<Figure size 864x432 with 1 Axes>"
      ]
     },
     "metadata": {
      "needs_background": "light"
     },
     "output_type": "display_data"
    }
   ],
   "source": [
    "plt.figure(figsize = (12,6))\n",
    "sns.countplot(x = 'PaymentMethod' , hue = 'Churn' , data = df , dodge = True , color = 'Blue' , saturation = 1)"
   ]
  },
  {
   "cell_type": "markdown",
   "metadata": {},
   "source": [
    "Electronic Check is the highest to churn.\n",
    "\n"
   ]
  },
  {
   "cell_type": "code",
   "execution_count": 40,
   "metadata": {},
   "outputs": [
    {
     "data": {
      "text/html": [
       "<div>\n",
       "<style scoped>\n",
       "    .dataframe tbody tr th:only-of-type {\n",
       "        vertical-align: middle;\n",
       "    }\n",
       "\n",
       "    .dataframe tbody tr th {\n",
       "        vertical-align: top;\n",
       "    }\n",
       "\n",
       "    .dataframe thead th {\n",
       "        text-align: right;\n",
       "    }\n",
       "</style>\n",
       "<table border=\"1\" class=\"dataframe\">\n",
       "  <thead>\n",
       "    <tr style=\"text-align: right;\">\n",
       "      <th></th>\n",
       "      <th>gender</th>\n",
       "      <th>SeniorCitizen</th>\n",
       "      <th>Partner</th>\n",
       "      <th>Dependents</th>\n",
       "      <th>tenure</th>\n",
       "      <th>PhoneService</th>\n",
       "      <th>MultipleLines</th>\n",
       "      <th>InternetService</th>\n",
       "      <th>OnlineSecurity</th>\n",
       "      <th>OnlineBackup</th>\n",
       "      <th>DeviceProtection</th>\n",
       "      <th>TechSupport</th>\n",
       "      <th>StreamingTV</th>\n",
       "      <th>StreamingMovies</th>\n",
       "      <th>Contract</th>\n",
       "      <th>PaperlessBilling</th>\n",
       "      <th>PaymentMethod</th>\n",
       "      <th>MonthlyCharges</th>\n",
       "      <th>TotalCharges</th>\n",
       "      <th>Churn</th>\n",
       "    </tr>\n",
       "  </thead>\n",
       "  <tbody>\n",
       "    <tr>\n",
       "      <td>0</td>\n",
       "      <td>Female</td>\n",
       "      <td>0</td>\n",
       "      <td>Yes</td>\n",
       "      <td>No</td>\n",
       "      <td>1</td>\n",
       "      <td>No</td>\n",
       "      <td>No phone service</td>\n",
       "      <td>DSL</td>\n",
       "      <td>No</td>\n",
       "      <td>Yes</td>\n",
       "      <td>No</td>\n",
       "      <td>No</td>\n",
       "      <td>No</td>\n",
       "      <td>No</td>\n",
       "      <td>Month-to-month</td>\n",
       "      <td>Yes</td>\n",
       "      <td>Electronic check</td>\n",
       "      <td>29.85</td>\n",
       "      <td>29.85</td>\n",
       "      <td>No</td>\n",
       "    </tr>\n",
       "    <tr>\n",
       "      <td>1</td>\n",
       "      <td>Male</td>\n",
       "      <td>0</td>\n",
       "      <td>No</td>\n",
       "      <td>No</td>\n",
       "      <td>34</td>\n",
       "      <td>Yes</td>\n",
       "      <td>No</td>\n",
       "      <td>DSL</td>\n",
       "      <td>Yes</td>\n",
       "      <td>No</td>\n",
       "      <td>Yes</td>\n",
       "      <td>No</td>\n",
       "      <td>No</td>\n",
       "      <td>No</td>\n",
       "      <td>One year</td>\n",
       "      <td>No</td>\n",
       "      <td>Mailed check</td>\n",
       "      <td>56.95</td>\n",
       "      <td>1889.5</td>\n",
       "      <td>No</td>\n",
       "    </tr>\n",
       "    <tr>\n",
       "      <td>2</td>\n",
       "      <td>Male</td>\n",
       "      <td>0</td>\n",
       "      <td>No</td>\n",
       "      <td>No</td>\n",
       "      <td>2</td>\n",
       "      <td>Yes</td>\n",
       "      <td>No</td>\n",
       "      <td>DSL</td>\n",
       "      <td>Yes</td>\n",
       "      <td>Yes</td>\n",
       "      <td>No</td>\n",
       "      <td>No</td>\n",
       "      <td>No</td>\n",
       "      <td>No</td>\n",
       "      <td>Month-to-month</td>\n",
       "      <td>Yes</td>\n",
       "      <td>Mailed check</td>\n",
       "      <td>53.85</td>\n",
       "      <td>108.15</td>\n",
       "      <td>Yes</td>\n",
       "    </tr>\n",
       "    <tr>\n",
       "      <td>3</td>\n",
       "      <td>Male</td>\n",
       "      <td>0</td>\n",
       "      <td>No</td>\n",
       "      <td>No</td>\n",
       "      <td>45</td>\n",
       "      <td>No</td>\n",
       "      <td>No phone service</td>\n",
       "      <td>DSL</td>\n",
       "      <td>Yes</td>\n",
       "      <td>No</td>\n",
       "      <td>Yes</td>\n",
       "      <td>Yes</td>\n",
       "      <td>No</td>\n",
       "      <td>No</td>\n",
       "      <td>One year</td>\n",
       "      <td>No</td>\n",
       "      <td>Bank transfer (automatic)</td>\n",
       "      <td>42.30</td>\n",
       "      <td>1840.75</td>\n",
       "      <td>No</td>\n",
       "    </tr>\n",
       "    <tr>\n",
       "      <td>4</td>\n",
       "      <td>Female</td>\n",
       "      <td>0</td>\n",
       "      <td>No</td>\n",
       "      <td>No</td>\n",
       "      <td>2</td>\n",
       "      <td>Yes</td>\n",
       "      <td>No</td>\n",
       "      <td>Fiber optic</td>\n",
       "      <td>No</td>\n",
       "      <td>No</td>\n",
       "      <td>No</td>\n",
       "      <td>No</td>\n",
       "      <td>No</td>\n",
       "      <td>No</td>\n",
       "      <td>Month-to-month</td>\n",
       "      <td>Yes</td>\n",
       "      <td>Electronic check</td>\n",
       "      <td>70.70</td>\n",
       "      <td>151.65</td>\n",
       "      <td>Yes</td>\n",
       "    </tr>\n",
       "  </tbody>\n",
       "</table>\n",
       "</div>"
      ],
      "text/plain": [
       "   gender  SeniorCitizen Partner Dependents  tenure PhoneService  \\\n",
       "0  Female              0     Yes         No       1           No   \n",
       "1    Male              0      No         No      34          Yes   \n",
       "2    Male              0      No         No       2          Yes   \n",
       "3    Male              0      No         No      45           No   \n",
       "4  Female              0      No         No       2          Yes   \n",
       "\n",
       "      MultipleLines InternetService OnlineSecurity OnlineBackup  \\\n",
       "0  No phone service             DSL             No          Yes   \n",
       "1                No             DSL            Yes           No   \n",
       "2                No             DSL            Yes          Yes   \n",
       "3  No phone service             DSL            Yes           No   \n",
       "4                No     Fiber optic             No           No   \n",
       "\n",
       "  DeviceProtection TechSupport StreamingTV StreamingMovies        Contract  \\\n",
       "0               No          No          No              No  Month-to-month   \n",
       "1              Yes          No          No              No        One year   \n",
       "2               No          No          No              No  Month-to-month   \n",
       "3              Yes         Yes          No              No        One year   \n",
       "4               No          No          No              No  Month-to-month   \n",
       "\n",
       "  PaperlessBilling              PaymentMethod  MonthlyCharges TotalCharges  \\\n",
       "0              Yes           Electronic check           29.85        29.85   \n",
       "1               No               Mailed check           56.95       1889.5   \n",
       "2              Yes               Mailed check           53.85       108.15   \n",
       "3               No  Bank transfer (automatic)           42.30      1840.75   \n",
       "4              Yes           Electronic check           70.70       151.65   \n",
       "\n",
       "  Churn  \n",
       "0    No  \n",
       "1    No  \n",
       "2   Yes  \n",
       "3    No  \n",
       "4   Yes  "
      ]
     },
     "execution_count": 40,
     "metadata": {},
     "output_type": "execute_result"
    }
   ],
   "source": [
    "df.head()"
   ]
  },
  {
   "cell_type": "code",
   "execution_count": 41,
   "metadata": {},
   "outputs": [],
   "source": [
    "#replacing target variable into 0 and 1\n",
    "df['Churn'] = df['Churn'].str.replace('No', '0')\n",
    "df['Churn'] = df['Churn'].str.replace('Yes', '1')\n",
    "df['Churn'] = df['Churn'].astype(np.int64)"
   ]
  },
  {
   "cell_type": "markdown",
   "metadata": {},
   "source": [
    "# Data Encoding"
   ]
  },
  {
   "cell_type": "code",
   "execution_count": 42,
   "metadata": {},
   "outputs": [],
   "source": [
    "from sklearn.preprocessing import LabelEncoder\n",
    "encoded = ['gender', 'Partner', 'Dependents', 'PhoneService', 'MultipleLines', 'InternetService', 'OnlineSecurity',\n",
    "       'OnlineBackup', 'DeviceProtection', 'TechSupport', 'StreamingTV',\n",
    "       'StreamingMovies', 'Contract', 'PaperlessBilling', 'PaymentMethod',]\n",
    "\n",
    "encoders = {column: LabelEncoder() for column in encoded}\n",
    "\n",
    "for column in encoded:\n",
    "    df[column] = encoders[column].fit_transform(df[column])"
   ]
  },
  {
   "cell_type": "code",
   "execution_count": 43,
   "metadata": {},
   "outputs": [
    {
     "data": {
      "text/html": [
       "<div>\n",
       "<style scoped>\n",
       "    .dataframe tbody tr th:only-of-type {\n",
       "        vertical-align: middle;\n",
       "    }\n",
       "\n",
       "    .dataframe tbody tr th {\n",
       "        vertical-align: top;\n",
       "    }\n",
       "\n",
       "    .dataframe thead th {\n",
       "        text-align: right;\n",
       "    }\n",
       "</style>\n",
       "<table border=\"1\" class=\"dataframe\">\n",
       "  <thead>\n",
       "    <tr style=\"text-align: right;\">\n",
       "      <th></th>\n",
       "      <th>gender</th>\n",
       "      <th>SeniorCitizen</th>\n",
       "      <th>Partner</th>\n",
       "      <th>Dependents</th>\n",
       "      <th>tenure</th>\n",
       "      <th>PhoneService</th>\n",
       "      <th>MultipleLines</th>\n",
       "      <th>InternetService</th>\n",
       "      <th>OnlineSecurity</th>\n",
       "      <th>OnlineBackup</th>\n",
       "      <th>DeviceProtection</th>\n",
       "      <th>TechSupport</th>\n",
       "      <th>StreamingTV</th>\n",
       "      <th>StreamingMovies</th>\n",
       "      <th>Contract</th>\n",
       "      <th>PaperlessBilling</th>\n",
       "      <th>PaymentMethod</th>\n",
       "      <th>MonthlyCharges</th>\n",
       "      <th>TotalCharges</th>\n",
       "      <th>Churn</th>\n",
       "    </tr>\n",
       "  </thead>\n",
       "  <tbody>\n",
       "    <tr>\n",
       "      <td>0</td>\n",
       "      <td>0</td>\n",
       "      <td>0</td>\n",
       "      <td>1</td>\n",
       "      <td>0</td>\n",
       "      <td>1</td>\n",
       "      <td>0</td>\n",
       "      <td>1</td>\n",
       "      <td>0</td>\n",
       "      <td>0</td>\n",
       "      <td>2</td>\n",
       "      <td>0</td>\n",
       "      <td>0</td>\n",
       "      <td>0</td>\n",
       "      <td>0</td>\n",
       "      <td>0</td>\n",
       "      <td>1</td>\n",
       "      <td>2</td>\n",
       "      <td>29.85</td>\n",
       "      <td>29.85</td>\n",
       "      <td>0</td>\n",
       "    </tr>\n",
       "    <tr>\n",
       "      <td>1</td>\n",
       "      <td>1</td>\n",
       "      <td>0</td>\n",
       "      <td>0</td>\n",
       "      <td>0</td>\n",
       "      <td>34</td>\n",
       "      <td>1</td>\n",
       "      <td>0</td>\n",
       "      <td>0</td>\n",
       "      <td>2</td>\n",
       "      <td>0</td>\n",
       "      <td>2</td>\n",
       "      <td>0</td>\n",
       "      <td>0</td>\n",
       "      <td>0</td>\n",
       "      <td>1</td>\n",
       "      <td>0</td>\n",
       "      <td>3</td>\n",
       "      <td>56.95</td>\n",
       "      <td>1889.5</td>\n",
       "      <td>0</td>\n",
       "    </tr>\n",
       "    <tr>\n",
       "      <td>2</td>\n",
       "      <td>1</td>\n",
       "      <td>0</td>\n",
       "      <td>0</td>\n",
       "      <td>0</td>\n",
       "      <td>2</td>\n",
       "      <td>1</td>\n",
       "      <td>0</td>\n",
       "      <td>0</td>\n",
       "      <td>2</td>\n",
       "      <td>2</td>\n",
       "      <td>0</td>\n",
       "      <td>0</td>\n",
       "      <td>0</td>\n",
       "      <td>0</td>\n",
       "      <td>0</td>\n",
       "      <td>1</td>\n",
       "      <td>3</td>\n",
       "      <td>53.85</td>\n",
       "      <td>108.15</td>\n",
       "      <td>1</td>\n",
       "    </tr>\n",
       "    <tr>\n",
       "      <td>3</td>\n",
       "      <td>1</td>\n",
       "      <td>0</td>\n",
       "      <td>0</td>\n",
       "      <td>0</td>\n",
       "      <td>45</td>\n",
       "      <td>0</td>\n",
       "      <td>1</td>\n",
       "      <td>0</td>\n",
       "      <td>2</td>\n",
       "      <td>0</td>\n",
       "      <td>2</td>\n",
       "      <td>2</td>\n",
       "      <td>0</td>\n",
       "      <td>0</td>\n",
       "      <td>1</td>\n",
       "      <td>0</td>\n",
       "      <td>0</td>\n",
       "      <td>42.30</td>\n",
       "      <td>1840.75</td>\n",
       "      <td>0</td>\n",
       "    </tr>\n",
       "    <tr>\n",
       "      <td>4</td>\n",
       "      <td>0</td>\n",
       "      <td>0</td>\n",
       "      <td>0</td>\n",
       "      <td>0</td>\n",
       "      <td>2</td>\n",
       "      <td>1</td>\n",
       "      <td>0</td>\n",
       "      <td>1</td>\n",
       "      <td>0</td>\n",
       "      <td>0</td>\n",
       "      <td>0</td>\n",
       "      <td>0</td>\n",
       "      <td>0</td>\n",
       "      <td>0</td>\n",
       "      <td>0</td>\n",
       "      <td>1</td>\n",
       "      <td>2</td>\n",
       "      <td>70.70</td>\n",
       "      <td>151.65</td>\n",
       "      <td>1</td>\n",
       "    </tr>\n",
       "  </tbody>\n",
       "</table>\n",
       "</div>"
      ],
      "text/plain": [
       "   gender  SeniorCitizen  Partner  Dependents  tenure  PhoneService  \\\n",
       "0       0              0        1           0       1             0   \n",
       "1       1              0        0           0      34             1   \n",
       "2       1              0        0           0       2             1   \n",
       "3       1              0        0           0      45             0   \n",
       "4       0              0        0           0       2             1   \n",
       "\n",
       "   MultipleLines  InternetService  OnlineSecurity  OnlineBackup  \\\n",
       "0              1                0               0             2   \n",
       "1              0                0               2             0   \n",
       "2              0                0               2             2   \n",
       "3              1                0               2             0   \n",
       "4              0                1               0             0   \n",
       "\n",
       "   DeviceProtection  TechSupport  StreamingTV  StreamingMovies  Contract  \\\n",
       "0                 0            0            0                0         0   \n",
       "1                 2            0            0                0         1   \n",
       "2                 0            0            0                0         0   \n",
       "3                 2            2            0                0         1   \n",
       "4                 0            0            0                0         0   \n",
       "\n",
       "   PaperlessBilling  PaymentMethod  MonthlyCharges TotalCharges  Churn  \n",
       "0                 1              2           29.85        29.85      0  \n",
       "1                 0              3           56.95       1889.5      0  \n",
       "2                 1              3           53.85       108.15      1  \n",
       "3                 0              0           42.30      1840.75      0  \n",
       "4                 1              2           70.70       151.65      1  "
      ]
     },
     "execution_count": 43,
     "metadata": {},
     "output_type": "execute_result"
    }
   ],
   "source": [
    "df.head()"
   ]
  },
  {
   "cell_type": "markdown",
   "metadata": {},
   "source": [
    "# Removing Missing or NaN values."
   ]
  },
  {
   "cell_type": "code",
   "execution_count": 44,
   "metadata": {},
   "outputs": [
    {
     "data": {
      "text/plain": [
       "gender                int32\n",
       "SeniorCitizen         int64\n",
       "Partner               int32\n",
       "Dependents            int32\n",
       "tenure                int64\n",
       "PhoneService          int32\n",
       "MultipleLines         int32\n",
       "InternetService       int32\n",
       "OnlineSecurity        int32\n",
       "OnlineBackup          int32\n",
       "DeviceProtection      int32\n",
       "TechSupport           int32\n",
       "StreamingTV           int32\n",
       "StreamingMovies       int32\n",
       "Contract              int32\n",
       "PaperlessBilling      int32\n",
       "PaymentMethod         int32\n",
       "MonthlyCharges      float64\n",
       "TotalCharges         object\n",
       "Churn                 int64\n",
       "dtype: object"
      ]
     },
     "execution_count": 44,
     "metadata": {},
     "output_type": "execute_result"
    }
   ],
   "source": [
    "df.dtypes"
   ]
  },
  {
   "cell_type": "code",
   "execution_count": 45,
   "metadata": {},
   "outputs": [
    {
     "data": {
      "text/plain": [
       "gender               0\n",
       "SeniorCitizen        0\n",
       "Partner              0\n",
       "Dependents           0\n",
       "tenure               0\n",
       "PhoneService         0\n",
       "MultipleLines        0\n",
       "InternetService      0\n",
       "OnlineSecurity       0\n",
       "OnlineBackup         0\n",
       "DeviceProtection     0\n",
       "TechSupport          0\n",
       "StreamingTV          0\n",
       "StreamingMovies      0\n",
       "Contract             0\n",
       "PaperlessBilling     0\n",
       "PaymentMethod        0\n",
       "MonthlyCharges       0\n",
       "TotalCharges        11\n",
       "Churn                0\n",
       "dtype: int64"
      ]
     },
     "execution_count": 45,
     "metadata": {},
     "output_type": "execute_result"
    }
   ],
   "source": [
    "df['TotalCharges'] = pd.to_numeric(df.TotalCharges, errors='coerce')\n",
    "df.isnull().sum()"
   ]
  },
  {
   "cell_type": "code",
   "execution_count": 46,
   "metadata": {},
   "outputs": [
    {
     "data": {
      "text/html": [
       "<div>\n",
       "<style scoped>\n",
       "    .dataframe tbody tr th:only-of-type {\n",
       "        vertical-align: middle;\n",
       "    }\n",
       "\n",
       "    .dataframe tbody tr th {\n",
       "        vertical-align: top;\n",
       "    }\n",
       "\n",
       "    .dataframe thead th {\n",
       "        text-align: right;\n",
       "    }\n",
       "</style>\n",
       "<table border=\"1\" class=\"dataframe\">\n",
       "  <thead>\n",
       "    <tr style=\"text-align: right;\">\n",
       "      <th></th>\n",
       "      <th>gender</th>\n",
       "      <th>SeniorCitizen</th>\n",
       "      <th>Partner</th>\n",
       "      <th>Dependents</th>\n",
       "      <th>tenure</th>\n",
       "      <th>PhoneService</th>\n",
       "      <th>MultipleLines</th>\n",
       "      <th>InternetService</th>\n",
       "      <th>OnlineSecurity</th>\n",
       "      <th>OnlineBackup</th>\n",
       "      <th>DeviceProtection</th>\n",
       "      <th>TechSupport</th>\n",
       "      <th>StreamingTV</th>\n",
       "      <th>StreamingMovies</th>\n",
       "      <th>Contract</th>\n",
       "      <th>PaperlessBilling</th>\n",
       "      <th>PaymentMethod</th>\n",
       "      <th>MonthlyCharges</th>\n",
       "      <th>TotalCharges</th>\n",
       "      <th>Churn</th>\n",
       "    </tr>\n",
       "  </thead>\n",
       "  <tbody>\n",
       "    <tr>\n",
       "      <td>488</td>\n",
       "      <td>0</td>\n",
       "      <td>0</td>\n",
       "      <td>1</td>\n",
       "      <td>1</td>\n",
       "      <td>0</td>\n",
       "      <td>0</td>\n",
       "      <td>1</td>\n",
       "      <td>0</td>\n",
       "      <td>2</td>\n",
       "      <td>0</td>\n",
       "      <td>2</td>\n",
       "      <td>2</td>\n",
       "      <td>2</td>\n",
       "      <td>0</td>\n",
       "      <td>2</td>\n",
       "      <td>1</td>\n",
       "      <td>0</td>\n",
       "      <td>52.55</td>\n",
       "      <td>NaN</td>\n",
       "      <td>0</td>\n",
       "    </tr>\n",
       "    <tr>\n",
       "      <td>753</td>\n",
       "      <td>1</td>\n",
       "      <td>0</td>\n",
       "      <td>0</td>\n",
       "      <td>1</td>\n",
       "      <td>0</td>\n",
       "      <td>1</td>\n",
       "      <td>0</td>\n",
       "      <td>2</td>\n",
       "      <td>1</td>\n",
       "      <td>1</td>\n",
       "      <td>1</td>\n",
       "      <td>1</td>\n",
       "      <td>1</td>\n",
       "      <td>1</td>\n",
       "      <td>2</td>\n",
       "      <td>0</td>\n",
       "      <td>3</td>\n",
       "      <td>20.25</td>\n",
       "      <td>NaN</td>\n",
       "      <td>0</td>\n",
       "    </tr>\n",
       "    <tr>\n",
       "      <td>936</td>\n",
       "      <td>0</td>\n",
       "      <td>0</td>\n",
       "      <td>1</td>\n",
       "      <td>1</td>\n",
       "      <td>0</td>\n",
       "      <td>1</td>\n",
       "      <td>0</td>\n",
       "      <td>0</td>\n",
       "      <td>2</td>\n",
       "      <td>2</td>\n",
       "      <td>2</td>\n",
       "      <td>0</td>\n",
       "      <td>2</td>\n",
       "      <td>2</td>\n",
       "      <td>2</td>\n",
       "      <td>0</td>\n",
       "      <td>3</td>\n",
       "      <td>80.85</td>\n",
       "      <td>NaN</td>\n",
       "      <td>0</td>\n",
       "    </tr>\n",
       "    <tr>\n",
       "      <td>1082</td>\n",
       "      <td>1</td>\n",
       "      <td>0</td>\n",
       "      <td>1</td>\n",
       "      <td>1</td>\n",
       "      <td>0</td>\n",
       "      <td>1</td>\n",
       "      <td>2</td>\n",
       "      <td>2</td>\n",
       "      <td>1</td>\n",
       "      <td>1</td>\n",
       "      <td>1</td>\n",
       "      <td>1</td>\n",
       "      <td>1</td>\n",
       "      <td>1</td>\n",
       "      <td>2</td>\n",
       "      <td>0</td>\n",
       "      <td>3</td>\n",
       "      <td>25.75</td>\n",
       "      <td>NaN</td>\n",
       "      <td>0</td>\n",
       "    </tr>\n",
       "    <tr>\n",
       "      <td>1340</td>\n",
       "      <td>0</td>\n",
       "      <td>0</td>\n",
       "      <td>1</td>\n",
       "      <td>1</td>\n",
       "      <td>0</td>\n",
       "      <td>0</td>\n",
       "      <td>1</td>\n",
       "      <td>0</td>\n",
       "      <td>2</td>\n",
       "      <td>2</td>\n",
       "      <td>2</td>\n",
       "      <td>2</td>\n",
       "      <td>2</td>\n",
       "      <td>0</td>\n",
       "      <td>2</td>\n",
       "      <td>0</td>\n",
       "      <td>1</td>\n",
       "      <td>56.05</td>\n",
       "      <td>NaN</td>\n",
       "      <td>0</td>\n",
       "    </tr>\n",
       "    <tr>\n",
       "      <td>3331</td>\n",
       "      <td>1</td>\n",
       "      <td>0</td>\n",
       "      <td>1</td>\n",
       "      <td>1</td>\n",
       "      <td>0</td>\n",
       "      <td>1</td>\n",
       "      <td>0</td>\n",
       "      <td>2</td>\n",
       "      <td>1</td>\n",
       "      <td>1</td>\n",
       "      <td>1</td>\n",
       "      <td>1</td>\n",
       "      <td>1</td>\n",
       "      <td>1</td>\n",
       "      <td>2</td>\n",
       "      <td>0</td>\n",
       "      <td>3</td>\n",
       "      <td>19.85</td>\n",
       "      <td>NaN</td>\n",
       "      <td>0</td>\n",
       "    </tr>\n",
       "    <tr>\n",
       "      <td>3826</td>\n",
       "      <td>1</td>\n",
       "      <td>0</td>\n",
       "      <td>1</td>\n",
       "      <td>1</td>\n",
       "      <td>0</td>\n",
       "      <td>1</td>\n",
       "      <td>2</td>\n",
       "      <td>2</td>\n",
       "      <td>1</td>\n",
       "      <td>1</td>\n",
       "      <td>1</td>\n",
       "      <td>1</td>\n",
       "      <td>1</td>\n",
       "      <td>1</td>\n",
       "      <td>2</td>\n",
       "      <td>0</td>\n",
       "      <td>3</td>\n",
       "      <td>25.35</td>\n",
       "      <td>NaN</td>\n",
       "      <td>0</td>\n",
       "    </tr>\n",
       "    <tr>\n",
       "      <td>4380</td>\n",
       "      <td>0</td>\n",
       "      <td>0</td>\n",
       "      <td>1</td>\n",
       "      <td>1</td>\n",
       "      <td>0</td>\n",
       "      <td>1</td>\n",
       "      <td>0</td>\n",
       "      <td>2</td>\n",
       "      <td>1</td>\n",
       "      <td>1</td>\n",
       "      <td>1</td>\n",
       "      <td>1</td>\n",
       "      <td>1</td>\n",
       "      <td>1</td>\n",
       "      <td>2</td>\n",
       "      <td>0</td>\n",
       "      <td>3</td>\n",
       "      <td>20.00</td>\n",
       "      <td>NaN</td>\n",
       "      <td>0</td>\n",
       "    </tr>\n",
       "    <tr>\n",
       "      <td>5218</td>\n",
       "      <td>1</td>\n",
       "      <td>0</td>\n",
       "      <td>1</td>\n",
       "      <td>1</td>\n",
       "      <td>0</td>\n",
       "      <td>1</td>\n",
       "      <td>0</td>\n",
       "      <td>2</td>\n",
       "      <td>1</td>\n",
       "      <td>1</td>\n",
       "      <td>1</td>\n",
       "      <td>1</td>\n",
       "      <td>1</td>\n",
       "      <td>1</td>\n",
       "      <td>1</td>\n",
       "      <td>1</td>\n",
       "      <td>3</td>\n",
       "      <td>19.70</td>\n",
       "      <td>NaN</td>\n",
       "      <td>0</td>\n",
       "    </tr>\n",
       "    <tr>\n",
       "      <td>6670</td>\n",
       "      <td>0</td>\n",
       "      <td>0</td>\n",
       "      <td>1</td>\n",
       "      <td>1</td>\n",
       "      <td>0</td>\n",
       "      <td>1</td>\n",
       "      <td>2</td>\n",
       "      <td>0</td>\n",
       "      <td>0</td>\n",
       "      <td>2</td>\n",
       "      <td>2</td>\n",
       "      <td>2</td>\n",
       "      <td>2</td>\n",
       "      <td>0</td>\n",
       "      <td>2</td>\n",
       "      <td>0</td>\n",
       "      <td>3</td>\n",
       "      <td>73.35</td>\n",
       "      <td>NaN</td>\n",
       "      <td>0</td>\n",
       "    </tr>\n",
       "    <tr>\n",
       "      <td>6754</td>\n",
       "      <td>1</td>\n",
       "      <td>0</td>\n",
       "      <td>0</td>\n",
       "      <td>1</td>\n",
       "      <td>0</td>\n",
       "      <td>1</td>\n",
       "      <td>2</td>\n",
       "      <td>0</td>\n",
       "      <td>2</td>\n",
       "      <td>2</td>\n",
       "      <td>0</td>\n",
       "      <td>2</td>\n",
       "      <td>0</td>\n",
       "      <td>0</td>\n",
       "      <td>2</td>\n",
       "      <td>1</td>\n",
       "      <td>0</td>\n",
       "      <td>61.90</td>\n",
       "      <td>NaN</td>\n",
       "      <td>0</td>\n",
       "    </tr>\n",
       "  </tbody>\n",
       "</table>\n",
       "</div>"
      ],
      "text/plain": [
       "      gender  SeniorCitizen  Partner  Dependents  tenure  PhoneService  \\\n",
       "488        0              0        1           1       0             0   \n",
       "753        1              0        0           1       0             1   \n",
       "936        0              0        1           1       0             1   \n",
       "1082       1              0        1           1       0             1   \n",
       "1340       0              0        1           1       0             0   \n",
       "3331       1              0        1           1       0             1   \n",
       "3826       1              0        1           1       0             1   \n",
       "4380       0              0        1           1       0             1   \n",
       "5218       1              0        1           1       0             1   \n",
       "6670       0              0        1           1       0             1   \n",
       "6754       1              0        0           1       0             1   \n",
       "\n",
       "      MultipleLines  InternetService  OnlineSecurity  OnlineBackup  \\\n",
       "488               1                0               2             0   \n",
       "753               0                2               1             1   \n",
       "936               0                0               2             2   \n",
       "1082              2                2               1             1   \n",
       "1340              1                0               2             2   \n",
       "3331              0                2               1             1   \n",
       "3826              2                2               1             1   \n",
       "4380              0                2               1             1   \n",
       "5218              0                2               1             1   \n",
       "6670              2                0               0             2   \n",
       "6754              2                0               2             2   \n",
       "\n",
       "      DeviceProtection  TechSupport  StreamingTV  StreamingMovies  Contract  \\\n",
       "488                  2            2            2                0         2   \n",
       "753                  1            1            1                1         2   \n",
       "936                  2            0            2                2         2   \n",
       "1082                 1            1            1                1         2   \n",
       "1340                 2            2            2                0         2   \n",
       "3331                 1            1            1                1         2   \n",
       "3826                 1            1            1                1         2   \n",
       "4380                 1            1            1                1         2   \n",
       "5218                 1            1            1                1         1   \n",
       "6670                 2            2            2                0         2   \n",
       "6754                 0            2            0                0         2   \n",
       "\n",
       "      PaperlessBilling  PaymentMethod  MonthlyCharges  TotalCharges  Churn  \n",
       "488                  1              0           52.55           NaN      0  \n",
       "753                  0              3           20.25           NaN      0  \n",
       "936                  0              3           80.85           NaN      0  \n",
       "1082                 0              3           25.75           NaN      0  \n",
       "1340                 0              1           56.05           NaN      0  \n",
       "3331                 0              3           19.85           NaN      0  \n",
       "3826                 0              3           25.35           NaN      0  \n",
       "4380                 0              3           20.00           NaN      0  \n",
       "5218                 1              3           19.70           NaN      0  \n",
       "6670                 0              3           73.35           NaN      0  \n",
       "6754                 1              0           61.90           NaN      0  "
      ]
     },
     "execution_count": 46,
     "metadata": {},
     "output_type": "execute_result"
    }
   ],
   "source": [
    "df[np.isnan(df['TotalCharges'])]"
   ]
  },
  {
   "cell_type": "code",
   "execution_count": 47,
   "metadata": {},
   "outputs": [
    {
     "data": {
      "text/plain": [
       "gender                int32\n",
       "SeniorCitizen         int64\n",
       "Partner               int32\n",
       "Dependents            int32\n",
       "tenure                int64\n",
       "PhoneService          int32\n",
       "MultipleLines         int32\n",
       "InternetService       int32\n",
       "OnlineSecurity        int32\n",
       "OnlineBackup          int32\n",
       "DeviceProtection      int32\n",
       "TechSupport           int32\n",
       "StreamingTV           int32\n",
       "StreamingMovies       int32\n",
       "Contract              int32\n",
       "PaperlessBilling      int32\n",
       "PaymentMethod         int32\n",
       "MonthlyCharges      float64\n",
       "TotalCharges        float64\n",
       "Churn                 int64\n",
       "dtype: object"
      ]
     },
     "execution_count": 47,
     "metadata": {},
     "output_type": "execute_result"
    }
   ],
   "source": [
    "df.dtypes"
   ]
  },
  {
   "cell_type": "code",
   "execution_count": 48,
   "metadata": {},
   "outputs": [
    {
     "data": {
      "text/plain": [
       "array([  29.85, 1889.5 ,  108.15, ...,  346.45,  306.6 , 6844.5 ])"
      ]
     },
     "execution_count": 48,
     "metadata": {},
     "output_type": "execute_result"
    }
   ],
   "source": [
    "df['TotalCharges'].unique()"
   ]
  },
  {
   "cell_type": "code",
   "execution_count": 49,
   "metadata": {},
   "outputs": [
    {
     "data": {
      "text/html": [
       "<div>\n",
       "<style scoped>\n",
       "    .dataframe tbody tr th:only-of-type {\n",
       "        vertical-align: middle;\n",
       "    }\n",
       "\n",
       "    .dataframe tbody tr th {\n",
       "        vertical-align: top;\n",
       "    }\n",
       "\n",
       "    .dataframe thead th {\n",
       "        text-align: right;\n",
       "    }\n",
       "</style>\n",
       "<table border=\"1\" class=\"dataframe\">\n",
       "  <thead>\n",
       "    <tr style=\"text-align: right;\">\n",
       "      <th></th>\n",
       "      <th>gender</th>\n",
       "      <th>SeniorCitizen</th>\n",
       "      <th>Partner</th>\n",
       "      <th>Dependents</th>\n",
       "      <th>tenure</th>\n",
       "      <th>PhoneService</th>\n",
       "      <th>MultipleLines</th>\n",
       "      <th>InternetService</th>\n",
       "      <th>OnlineSecurity</th>\n",
       "      <th>OnlineBackup</th>\n",
       "      <th>DeviceProtection</th>\n",
       "      <th>TechSupport</th>\n",
       "      <th>StreamingTV</th>\n",
       "      <th>StreamingMovies</th>\n",
       "      <th>Contract</th>\n",
       "      <th>PaperlessBilling</th>\n",
       "      <th>PaymentMethod</th>\n",
       "      <th>MonthlyCharges</th>\n",
       "      <th>TotalCharges</th>\n",
       "      <th>Churn</th>\n",
       "    </tr>\n",
       "  </thead>\n",
       "  <tbody>\n",
       "    <tr>\n",
       "      <td>0</td>\n",
       "      <td>0</td>\n",
       "      <td>0</td>\n",
       "      <td>1</td>\n",
       "      <td>0</td>\n",
       "      <td>1</td>\n",
       "      <td>0</td>\n",
       "      <td>1</td>\n",
       "      <td>0</td>\n",
       "      <td>0</td>\n",
       "      <td>2</td>\n",
       "      <td>0</td>\n",
       "      <td>0</td>\n",
       "      <td>0</td>\n",
       "      <td>0</td>\n",
       "      <td>0</td>\n",
       "      <td>1</td>\n",
       "      <td>2</td>\n",
       "      <td>29.85</td>\n",
       "      <td>29.85</td>\n",
       "      <td>0</td>\n",
       "    </tr>\n",
       "    <tr>\n",
       "      <td>1</td>\n",
       "      <td>1</td>\n",
       "      <td>0</td>\n",
       "      <td>0</td>\n",
       "      <td>0</td>\n",
       "      <td>34</td>\n",
       "      <td>1</td>\n",
       "      <td>0</td>\n",
       "      <td>0</td>\n",
       "      <td>2</td>\n",
       "      <td>0</td>\n",
       "      <td>2</td>\n",
       "      <td>0</td>\n",
       "      <td>0</td>\n",
       "      <td>0</td>\n",
       "      <td>1</td>\n",
       "      <td>0</td>\n",
       "      <td>3</td>\n",
       "      <td>56.95</td>\n",
       "      <td>1889.50</td>\n",
       "      <td>0</td>\n",
       "    </tr>\n",
       "    <tr>\n",
       "      <td>2</td>\n",
       "      <td>1</td>\n",
       "      <td>0</td>\n",
       "      <td>0</td>\n",
       "      <td>0</td>\n",
       "      <td>2</td>\n",
       "      <td>1</td>\n",
       "      <td>0</td>\n",
       "      <td>0</td>\n",
       "      <td>2</td>\n",
       "      <td>2</td>\n",
       "      <td>0</td>\n",
       "      <td>0</td>\n",
       "      <td>0</td>\n",
       "      <td>0</td>\n",
       "      <td>0</td>\n",
       "      <td>1</td>\n",
       "      <td>3</td>\n",
       "      <td>53.85</td>\n",
       "      <td>108.15</td>\n",
       "      <td>1</td>\n",
       "    </tr>\n",
       "    <tr>\n",
       "      <td>3</td>\n",
       "      <td>1</td>\n",
       "      <td>0</td>\n",
       "      <td>0</td>\n",
       "      <td>0</td>\n",
       "      <td>45</td>\n",
       "      <td>0</td>\n",
       "      <td>1</td>\n",
       "      <td>0</td>\n",
       "      <td>2</td>\n",
       "      <td>0</td>\n",
       "      <td>2</td>\n",
       "      <td>2</td>\n",
       "      <td>0</td>\n",
       "      <td>0</td>\n",
       "      <td>1</td>\n",
       "      <td>0</td>\n",
       "      <td>0</td>\n",
       "      <td>42.30</td>\n",
       "      <td>1840.75</td>\n",
       "      <td>0</td>\n",
       "    </tr>\n",
       "    <tr>\n",
       "      <td>4</td>\n",
       "      <td>0</td>\n",
       "      <td>0</td>\n",
       "      <td>0</td>\n",
       "      <td>0</td>\n",
       "      <td>2</td>\n",
       "      <td>1</td>\n",
       "      <td>0</td>\n",
       "      <td>1</td>\n",
       "      <td>0</td>\n",
       "      <td>0</td>\n",
       "      <td>0</td>\n",
       "      <td>0</td>\n",
       "      <td>0</td>\n",
       "      <td>0</td>\n",
       "      <td>0</td>\n",
       "      <td>1</td>\n",
       "      <td>2</td>\n",
       "      <td>70.70</td>\n",
       "      <td>151.65</td>\n",
       "      <td>1</td>\n",
       "    </tr>\n",
       "    <tr>\n",
       "      <td>...</td>\n",
       "      <td>...</td>\n",
       "      <td>...</td>\n",
       "      <td>...</td>\n",
       "      <td>...</td>\n",
       "      <td>...</td>\n",
       "      <td>...</td>\n",
       "      <td>...</td>\n",
       "      <td>...</td>\n",
       "      <td>...</td>\n",
       "      <td>...</td>\n",
       "      <td>...</td>\n",
       "      <td>...</td>\n",
       "      <td>...</td>\n",
       "      <td>...</td>\n",
       "      <td>...</td>\n",
       "      <td>...</td>\n",
       "      <td>...</td>\n",
       "      <td>...</td>\n",
       "      <td>...</td>\n",
       "      <td>...</td>\n",
       "    </tr>\n",
       "    <tr>\n",
       "      <td>7038</td>\n",
       "      <td>1</td>\n",
       "      <td>0</td>\n",
       "      <td>1</td>\n",
       "      <td>1</td>\n",
       "      <td>24</td>\n",
       "      <td>1</td>\n",
       "      <td>2</td>\n",
       "      <td>0</td>\n",
       "      <td>2</td>\n",
       "      <td>0</td>\n",
       "      <td>2</td>\n",
       "      <td>2</td>\n",
       "      <td>2</td>\n",
       "      <td>2</td>\n",
       "      <td>1</td>\n",
       "      <td>1</td>\n",
       "      <td>3</td>\n",
       "      <td>84.80</td>\n",
       "      <td>1990.50</td>\n",
       "      <td>0</td>\n",
       "    </tr>\n",
       "    <tr>\n",
       "      <td>7039</td>\n",
       "      <td>0</td>\n",
       "      <td>0</td>\n",
       "      <td>1</td>\n",
       "      <td>1</td>\n",
       "      <td>72</td>\n",
       "      <td>1</td>\n",
       "      <td>2</td>\n",
       "      <td>1</td>\n",
       "      <td>0</td>\n",
       "      <td>2</td>\n",
       "      <td>2</td>\n",
       "      <td>0</td>\n",
       "      <td>2</td>\n",
       "      <td>2</td>\n",
       "      <td>1</td>\n",
       "      <td>1</td>\n",
       "      <td>1</td>\n",
       "      <td>103.20</td>\n",
       "      <td>7362.90</td>\n",
       "      <td>0</td>\n",
       "    </tr>\n",
       "    <tr>\n",
       "      <td>7040</td>\n",
       "      <td>0</td>\n",
       "      <td>0</td>\n",
       "      <td>1</td>\n",
       "      <td>1</td>\n",
       "      <td>11</td>\n",
       "      <td>0</td>\n",
       "      <td>1</td>\n",
       "      <td>0</td>\n",
       "      <td>2</td>\n",
       "      <td>0</td>\n",
       "      <td>0</td>\n",
       "      <td>0</td>\n",
       "      <td>0</td>\n",
       "      <td>0</td>\n",
       "      <td>0</td>\n",
       "      <td>1</td>\n",
       "      <td>2</td>\n",
       "      <td>29.60</td>\n",
       "      <td>346.45</td>\n",
       "      <td>0</td>\n",
       "    </tr>\n",
       "    <tr>\n",
       "      <td>7041</td>\n",
       "      <td>1</td>\n",
       "      <td>1</td>\n",
       "      <td>1</td>\n",
       "      <td>0</td>\n",
       "      <td>4</td>\n",
       "      <td>1</td>\n",
       "      <td>2</td>\n",
       "      <td>1</td>\n",
       "      <td>0</td>\n",
       "      <td>0</td>\n",
       "      <td>0</td>\n",
       "      <td>0</td>\n",
       "      <td>0</td>\n",
       "      <td>0</td>\n",
       "      <td>0</td>\n",
       "      <td>1</td>\n",
       "      <td>3</td>\n",
       "      <td>74.40</td>\n",
       "      <td>306.60</td>\n",
       "      <td>1</td>\n",
       "    </tr>\n",
       "    <tr>\n",
       "      <td>7042</td>\n",
       "      <td>1</td>\n",
       "      <td>0</td>\n",
       "      <td>0</td>\n",
       "      <td>0</td>\n",
       "      <td>66</td>\n",
       "      <td>1</td>\n",
       "      <td>0</td>\n",
       "      <td>1</td>\n",
       "      <td>2</td>\n",
       "      <td>0</td>\n",
       "      <td>2</td>\n",
       "      <td>2</td>\n",
       "      <td>2</td>\n",
       "      <td>2</td>\n",
       "      <td>2</td>\n",
       "      <td>1</td>\n",
       "      <td>0</td>\n",
       "      <td>105.65</td>\n",
       "      <td>6844.50</td>\n",
       "      <td>0</td>\n",
       "    </tr>\n",
       "  </tbody>\n",
       "</table>\n",
       "<p>7043 rows × 20 columns</p>\n",
       "</div>"
      ],
      "text/plain": [
       "      gender  SeniorCitizen  Partner  Dependents  tenure  PhoneService  \\\n",
       "0          0              0        1           0       1             0   \n",
       "1          1              0        0           0      34             1   \n",
       "2          1              0        0           0       2             1   \n",
       "3          1              0        0           0      45             0   \n",
       "4          0              0        0           0       2             1   \n",
       "...      ...            ...      ...         ...     ...           ...   \n",
       "7038       1              0        1           1      24             1   \n",
       "7039       0              0        1           1      72             1   \n",
       "7040       0              0        1           1      11             0   \n",
       "7041       1              1        1           0       4             1   \n",
       "7042       1              0        0           0      66             1   \n",
       "\n",
       "      MultipleLines  InternetService  OnlineSecurity  OnlineBackup  \\\n",
       "0                 1                0               0             2   \n",
       "1                 0                0               2             0   \n",
       "2                 0                0               2             2   \n",
       "3                 1                0               2             0   \n",
       "4                 0                1               0             0   \n",
       "...             ...              ...             ...           ...   \n",
       "7038              2                0               2             0   \n",
       "7039              2                1               0             2   \n",
       "7040              1                0               2             0   \n",
       "7041              2                1               0             0   \n",
       "7042              0                1               2             0   \n",
       "\n",
       "      DeviceProtection  TechSupport  StreamingTV  StreamingMovies  Contract  \\\n",
       "0                    0            0            0                0         0   \n",
       "1                    2            0            0                0         1   \n",
       "2                    0            0            0                0         0   \n",
       "3                    2            2            0                0         1   \n",
       "4                    0            0            0                0         0   \n",
       "...                ...          ...          ...              ...       ...   \n",
       "7038                 2            2            2                2         1   \n",
       "7039                 2            0            2                2         1   \n",
       "7040                 0            0            0                0         0   \n",
       "7041                 0            0            0                0         0   \n",
       "7042                 2            2            2                2         2   \n",
       "\n",
       "      PaperlessBilling  PaymentMethod  MonthlyCharges  TotalCharges  Churn  \n",
       "0                    1              2           29.85         29.85      0  \n",
       "1                    0              3           56.95       1889.50      0  \n",
       "2                    1              3           53.85        108.15      1  \n",
       "3                    0              0           42.30       1840.75      0  \n",
       "4                    1              2           70.70        151.65      1  \n",
       "...                ...            ...             ...           ...    ...  \n",
       "7038                 1              3           84.80       1990.50      0  \n",
       "7039                 1              1          103.20       7362.90      0  \n",
       "7040                 1              2           29.60        346.45      0  \n",
       "7041                 1              3           74.40        306.60      1  \n",
       "7042                 1              0          105.65       6844.50      0  \n",
       "\n",
       "[7043 rows x 20 columns]"
      ]
     },
     "execution_count": 49,
     "metadata": {},
     "output_type": "execute_result"
    }
   ],
   "source": [
    "df.fillna(df[\"TotalCharges\"].mean())"
   ]
  },
  {
   "cell_type": "code",
   "execution_count": 50,
   "metadata": {},
   "outputs": [
    {
     "data": {
      "text/plain": [
       "gender               0\n",
       "SeniorCitizen        0\n",
       "Partner              0\n",
       "Dependents           0\n",
       "tenure               0\n",
       "PhoneService         0\n",
       "MultipleLines        0\n",
       "InternetService      0\n",
       "OnlineSecurity       0\n",
       "OnlineBackup         0\n",
       "DeviceProtection     0\n",
       "TechSupport          0\n",
       "StreamingTV          0\n",
       "StreamingMovies      0\n",
       "Contract             0\n",
       "PaperlessBilling     0\n",
       "PaymentMethod        0\n",
       "MonthlyCharges       0\n",
       "TotalCharges        11\n",
       "Churn                0\n",
       "dtype: int64"
      ]
     },
     "execution_count": 50,
     "metadata": {},
     "output_type": "execute_result"
    }
   ],
   "source": [
    "df['Churn'] = pd.to_numeric(df.Churn, errors='coerce')\n",
    "df.isnull().sum()"
   ]
  },
  {
   "cell_type": "code",
   "execution_count": 51,
   "metadata": {},
   "outputs": [
    {
     "data": {
      "text/html": [
       "<div>\n",
       "<style scoped>\n",
       "    .dataframe tbody tr th:only-of-type {\n",
       "        vertical-align: middle;\n",
       "    }\n",
       "\n",
       "    .dataframe tbody tr th {\n",
       "        vertical-align: top;\n",
       "    }\n",
       "\n",
       "    .dataframe thead th {\n",
       "        text-align: right;\n",
       "    }\n",
       "</style>\n",
       "<table border=\"1\" class=\"dataframe\">\n",
       "  <thead>\n",
       "    <tr style=\"text-align: right;\">\n",
       "      <th></th>\n",
       "      <th>gender</th>\n",
       "      <th>SeniorCitizen</th>\n",
       "      <th>Partner</th>\n",
       "      <th>Dependents</th>\n",
       "      <th>tenure</th>\n",
       "      <th>PhoneService</th>\n",
       "      <th>MultipleLines</th>\n",
       "      <th>InternetService</th>\n",
       "      <th>OnlineSecurity</th>\n",
       "      <th>OnlineBackup</th>\n",
       "      <th>DeviceProtection</th>\n",
       "      <th>TechSupport</th>\n",
       "      <th>StreamingTV</th>\n",
       "      <th>StreamingMovies</th>\n",
       "      <th>Contract</th>\n",
       "      <th>PaperlessBilling</th>\n",
       "      <th>PaymentMethod</th>\n",
       "      <th>MonthlyCharges</th>\n",
       "      <th>TotalCharges</th>\n",
       "      <th>Churn</th>\n",
       "    </tr>\n",
       "  </thead>\n",
       "  <tbody>\n",
       "  </tbody>\n",
       "</table>\n",
       "</div>"
      ],
      "text/plain": [
       "Empty DataFrame\n",
       "Columns: [gender, SeniorCitizen, Partner, Dependents, tenure, PhoneService, MultipleLines, InternetService, OnlineSecurity, OnlineBackup, DeviceProtection, TechSupport, StreamingTV, StreamingMovies, Contract, PaperlessBilling, PaymentMethod, MonthlyCharges, TotalCharges, Churn]\n",
       "Index: []"
      ]
     },
     "execution_count": 51,
     "metadata": {},
     "output_type": "execute_result"
    }
   ],
   "source": [
    "df[np.isnan(df['Churn'])]"
   ]
  },
  {
   "cell_type": "code",
   "execution_count": 52,
   "metadata": {},
   "outputs": [
    {
     "data": {
      "text/plain": [
       "array([0, 1], dtype=int64)"
      ]
     },
     "execution_count": 52,
     "metadata": {},
     "output_type": "execute_result"
    }
   ],
   "source": [
    "df['Churn'].unique()"
   ]
  },
  {
   "cell_type": "code",
   "execution_count": 53,
   "metadata": {},
   "outputs": [],
   "source": [
    "df = df.fillna(df['Churn'].value_counts().index[0])"
   ]
  },
  {
   "cell_type": "code",
   "execution_count": 54,
   "metadata": {},
   "outputs": [
    {
     "data": {
      "text/plain": [
       "gender                int32\n",
       "SeniorCitizen         int64\n",
       "Partner               int32\n",
       "Dependents            int32\n",
       "tenure                int64\n",
       "PhoneService          int32\n",
       "MultipleLines         int32\n",
       "InternetService       int32\n",
       "OnlineSecurity        int32\n",
       "OnlineBackup          int32\n",
       "DeviceProtection      int32\n",
       "TechSupport           int32\n",
       "StreamingTV           int32\n",
       "StreamingMovies       int32\n",
       "Contract              int32\n",
       "PaperlessBilling      int32\n",
       "PaymentMethod         int32\n",
       "MonthlyCharges      float64\n",
       "TotalCharges        float64\n",
       "Churn                 int64\n",
       "dtype: object"
      ]
     },
     "execution_count": 54,
     "metadata": {},
     "output_type": "execute_result"
    }
   ],
   "source": [
    "df.dtypes"
   ]
  },
  {
   "cell_type": "markdown",
   "metadata": {},
   "source": [
    "# Checking Outliers"
   ]
  },
  {
   "cell_type": "code",
   "execution_count": 55,
   "metadata": {},
   "outputs": [
    {
     "data": {
      "image/png": "[encoded data removed]",
      "text/plain": [
       "<Figure size 2160x1800 with 20 Axes>"
      ]
     },
     "metadata": {
      "needs_background": "light"
     },
     "output_type": "display_data"
    }
   ],
   "source": [
    "collist=df.columns.values\n",
    "ncol=12\n",
    "nrows=10\n",
    "plt.figure(figsize=(30,25))\n",
    "for i in range(0,len(collist)):\n",
    "    plt.subplot(nrows,ncol,i+1)\n",
    "    sns.boxplot(df[collist[i]],color='Pink', orient='v')\n",
    "    plt.tight_layout()"
   ]
  },
  {
   "cell_type": "markdown",
   "metadata": {},
   "source": [
    "# Spliting the Independent and Target Variables."
   ]
  },
  {
   "cell_type": "code",
   "execution_count": 56,
   "metadata": {},
   "outputs": [],
   "source": [
    "x=df.drop('Churn',axis=1)\n",
    "y=df['Churn']"
   ]
  },
  {
   "cell_type": "markdown",
   "metadata": {},
   "source": [
    "# Data Scaling"
   ]
  },
  {
   "cell_type": "code",
   "execution_count": 57,
   "metadata": {},
   "outputs": [
    {
     "data": {
      "text/html": [
       "<div>\n",
       "<style scoped>\n",
       "    .dataframe tbody tr th:only-of-type {\n",
       "        vertical-align: middle;\n",
       "    }\n",
       "\n",
       "    .dataframe tbody tr th {\n",
       "        vertical-align: top;\n",
       "    }\n",
       "\n",
       "    .dataframe thead th {\n",
       "        text-align: right;\n",
       "    }\n",
       "</style>\n",
       "<table border=\"1\" class=\"dataframe\">\n",
       "  <thead>\n",
       "    <tr style=\"text-align: right;\">\n",
       "      <th></th>\n",
       "      <th>gender</th>\n",
       "      <th>SeniorCitizen</th>\n",
       "      <th>Partner</th>\n",
       "      <th>Dependents</th>\n",
       "      <th>tenure</th>\n",
       "      <th>PhoneService</th>\n",
       "      <th>MultipleLines</th>\n",
       "      <th>InternetService</th>\n",
       "      <th>OnlineSecurity</th>\n",
       "      <th>OnlineBackup</th>\n",
       "      <th>DeviceProtection</th>\n",
       "      <th>TechSupport</th>\n",
       "      <th>StreamingTV</th>\n",
       "      <th>StreamingMovies</th>\n",
       "      <th>Contract</th>\n",
       "      <th>PaperlessBilling</th>\n",
       "      <th>PaymentMethod</th>\n",
       "      <th>MonthlyCharges</th>\n",
       "      <th>TotalCharges</th>\n",
       "    </tr>\n",
       "  </thead>\n",
       "  <tbody>\n",
       "    <tr>\n",
       "      <td>0</td>\n",
       "      <td>0.0</td>\n",
       "      <td>0.0</td>\n",
       "      <td>1.0</td>\n",
       "      <td>0.0</td>\n",
       "      <td>0.013889</td>\n",
       "      <td>0.0</td>\n",
       "      <td>0.5</td>\n",
       "      <td>0.0</td>\n",
       "      <td>0.0</td>\n",
       "      <td>1.0</td>\n",
       "      <td>0.0</td>\n",
       "      <td>0.0</td>\n",
       "      <td>0.0</td>\n",
       "      <td>0.0</td>\n",
       "      <td>0.0</td>\n",
       "      <td>1.0</td>\n",
       "      <td>0.666667</td>\n",
       "      <td>0.115423</td>\n",
       "      <td>0.003437</td>\n",
       "    </tr>\n",
       "    <tr>\n",
       "      <td>1</td>\n",
       "      <td>1.0</td>\n",
       "      <td>0.0</td>\n",
       "      <td>0.0</td>\n",
       "      <td>0.0</td>\n",
       "      <td>0.472222</td>\n",
       "      <td>1.0</td>\n",
       "      <td>0.0</td>\n",
       "      <td>0.0</td>\n",
       "      <td>1.0</td>\n",
       "      <td>0.0</td>\n",
       "      <td>1.0</td>\n",
       "      <td>0.0</td>\n",
       "      <td>0.0</td>\n",
       "      <td>0.0</td>\n",
       "      <td>0.5</td>\n",
       "      <td>0.0</td>\n",
       "      <td>1.000000</td>\n",
       "      <td>0.385075</td>\n",
       "      <td>0.217564</td>\n",
       "    </tr>\n",
       "    <tr>\n",
       "      <td>2</td>\n",
       "      <td>1.0</td>\n",
       "      <td>0.0</td>\n",
       "      <td>0.0</td>\n",
       "      <td>0.0</td>\n",
       "      <td>0.027778</td>\n",
       "      <td>1.0</td>\n",
       "      <td>0.0</td>\n",
       "      <td>0.0</td>\n",
       "      <td>1.0</td>\n",
       "      <td>1.0</td>\n",
       "      <td>0.0</td>\n",
       "      <td>0.0</td>\n",
       "      <td>0.0</td>\n",
       "      <td>0.0</td>\n",
       "      <td>0.0</td>\n",
       "      <td>1.0</td>\n",
       "      <td>1.000000</td>\n",
       "      <td>0.354229</td>\n",
       "      <td>0.012453</td>\n",
       "    </tr>\n",
       "    <tr>\n",
       "      <td>3</td>\n",
       "      <td>1.0</td>\n",
       "      <td>0.0</td>\n",
       "      <td>0.0</td>\n",
       "      <td>0.0</td>\n",
       "      <td>0.625000</td>\n",
       "      <td>0.0</td>\n",
       "      <td>0.5</td>\n",
       "      <td>0.0</td>\n",
       "      <td>1.0</td>\n",
       "      <td>0.0</td>\n",
       "      <td>1.0</td>\n",
       "      <td>1.0</td>\n",
       "      <td>0.0</td>\n",
       "      <td>0.0</td>\n",
       "      <td>0.5</td>\n",
       "      <td>0.0</td>\n",
       "      <td>0.000000</td>\n",
       "      <td>0.239303</td>\n",
       "      <td>0.211951</td>\n",
       "    </tr>\n",
       "    <tr>\n",
       "      <td>4</td>\n",
       "      <td>0.0</td>\n",
       "      <td>0.0</td>\n",
       "      <td>0.0</td>\n",
       "      <td>0.0</td>\n",
       "      <td>0.027778</td>\n",
       "      <td>1.0</td>\n",
       "      <td>0.0</td>\n",
       "      <td>0.5</td>\n",
       "      <td>0.0</td>\n",
       "      <td>0.0</td>\n",
       "      <td>0.0</td>\n",
       "      <td>0.0</td>\n",
       "      <td>0.0</td>\n",
       "      <td>0.0</td>\n",
       "      <td>0.0</td>\n",
       "      <td>1.0</td>\n",
       "      <td>0.666667</td>\n",
       "      <td>0.521891</td>\n",
       "      <td>0.017462</td>\n",
       "    </tr>\n",
       "    <tr>\n",
       "      <td>...</td>\n",
       "      <td>...</td>\n",
       "      <td>...</td>\n",
       "      <td>...</td>\n",
       "      <td>...</td>\n",
       "      <td>...</td>\n",
       "      <td>...</td>\n",
       "      <td>...</td>\n",
       "      <td>...</td>\n",
       "      <td>...</td>\n",
       "      <td>...</td>\n",
       "      <td>...</td>\n",
       "      <td>...</td>\n",
       "      <td>...</td>\n",
       "      <td>...</td>\n",
       "      <td>...</td>\n",
       "      <td>...</td>\n",
       "      <td>...</td>\n",
       "      <td>...</td>\n",
       "      <td>...</td>\n",
       "    </tr>\n",
       "    <tr>\n",
       "      <td>7038</td>\n",
       "      <td>1.0</td>\n",
       "      <td>0.0</td>\n",
       "      <td>1.0</td>\n",
       "      <td>1.0</td>\n",
       "      <td>0.333333</td>\n",
       "      <td>1.0</td>\n",
       "      <td>1.0</td>\n",
       "      <td>0.0</td>\n",
       "      <td>1.0</td>\n",
       "      <td>0.0</td>\n",
       "      <td>1.0</td>\n",
       "      <td>1.0</td>\n",
       "      <td>1.0</td>\n",
       "      <td>1.0</td>\n",
       "      <td>0.5</td>\n",
       "      <td>1.0</td>\n",
       "      <td>1.000000</td>\n",
       "      <td>0.662189</td>\n",
       "      <td>0.229194</td>\n",
       "    </tr>\n",
       "    <tr>\n",
       "      <td>7039</td>\n",
       "      <td>0.0</td>\n",
       "      <td>0.0</td>\n",
       "      <td>1.0</td>\n",
       "      <td>1.0</td>\n",
       "      <td>1.000000</td>\n",
       "      <td>1.0</td>\n",
       "      <td>1.0</td>\n",
       "      <td>0.5</td>\n",
       "      <td>0.0</td>\n",
       "      <td>1.0</td>\n",
       "      <td>1.0</td>\n",
       "      <td>0.0</td>\n",
       "      <td>1.0</td>\n",
       "      <td>1.0</td>\n",
       "      <td>0.5</td>\n",
       "      <td>1.0</td>\n",
       "      <td>0.333333</td>\n",
       "      <td>0.845274</td>\n",
       "      <td>0.847792</td>\n",
       "    </tr>\n",
       "    <tr>\n",
       "      <td>7040</td>\n",
       "      <td>0.0</td>\n",
       "      <td>0.0</td>\n",
       "      <td>1.0</td>\n",
       "      <td>1.0</td>\n",
       "      <td>0.152778</td>\n",
       "      <td>0.0</td>\n",
       "      <td>0.5</td>\n",
       "      <td>0.0</td>\n",
       "      <td>1.0</td>\n",
       "      <td>0.0</td>\n",
       "      <td>0.0</td>\n",
       "      <td>0.0</td>\n",
       "      <td>0.0</td>\n",
       "      <td>0.0</td>\n",
       "      <td>0.0</td>\n",
       "      <td>1.0</td>\n",
       "      <td>0.666667</td>\n",
       "      <td>0.112935</td>\n",
       "      <td>0.039892</td>\n",
       "    </tr>\n",
       "    <tr>\n",
       "      <td>7041</td>\n",
       "      <td>1.0</td>\n",
       "      <td>1.0</td>\n",
       "      <td>1.0</td>\n",
       "      <td>0.0</td>\n",
       "      <td>0.055556</td>\n",
       "      <td>1.0</td>\n",
       "      <td>1.0</td>\n",
       "      <td>0.5</td>\n",
       "      <td>0.0</td>\n",
       "      <td>0.0</td>\n",
       "      <td>0.0</td>\n",
       "      <td>0.0</td>\n",
       "      <td>0.0</td>\n",
       "      <td>0.0</td>\n",
       "      <td>0.0</td>\n",
       "      <td>1.0</td>\n",
       "      <td>1.000000</td>\n",
       "      <td>0.558706</td>\n",
       "      <td>0.035303</td>\n",
       "    </tr>\n",
       "    <tr>\n",
       "      <td>7042</td>\n",
       "      <td>1.0</td>\n",
       "      <td>0.0</td>\n",
       "      <td>0.0</td>\n",
       "      <td>0.0</td>\n",
       "      <td>0.916667</td>\n",
       "      <td>1.0</td>\n",
       "      <td>0.0</td>\n",
       "      <td>0.5</td>\n",
       "      <td>1.0</td>\n",
       "      <td>0.0</td>\n",
       "      <td>1.0</td>\n",
       "      <td>1.0</td>\n",
       "      <td>1.0</td>\n",
       "      <td>1.0</td>\n",
       "      <td>1.0</td>\n",
       "      <td>1.0</td>\n",
       "      <td>0.000000</td>\n",
       "      <td>0.869652</td>\n",
       "      <td>0.788101</td>\n",
       "    </tr>\n",
       "  </tbody>\n",
       "</table>\n",
       "<p>7043 rows × 19 columns</p>\n",
       "</div>"
      ],
      "text/plain": [
       "      gender  SeniorCitizen  Partner  Dependents    tenure  PhoneService  \\\n",
       "0        0.0            0.0      1.0         0.0  0.013889           0.0   \n",
       "1        1.0            0.0      0.0         0.0  0.472222           1.0   \n",
       "2        1.0            0.0      0.0         0.0  0.027778           1.0   \n",
       "3        1.0            0.0      0.0         0.0  0.625000           0.0   \n",
       "4        0.0            0.0      0.0         0.0  0.027778           1.0   \n",
       "...      ...            ...      ...         ...       ...           ...   \n",
       "7038     1.0            0.0      1.0         1.0  0.333333           1.0   \n",
       "7039     0.0            0.0      1.0         1.0  1.000000           1.0   \n",
       "7040     0.0            0.0      1.0         1.0  0.152778           0.0   \n",
       "7041     1.0            1.0      1.0         0.0  0.055556           1.0   \n",
       "7042     1.0            0.0      0.0         0.0  0.916667           1.0   \n",
       "\n",
       "      MultipleLines  InternetService  OnlineSecurity  OnlineBackup  \\\n",
       "0               0.5              0.0             0.0           1.0   \n",
       "1               0.0              0.0             1.0           0.0   \n",
       "2               0.0              0.0             1.0           1.0   \n",
       "3               0.5              0.0             1.0           0.0   \n",
       "4               0.0              0.5             0.0           0.0   \n",
       "...             ...              ...             ...           ...   \n",
       "7038            1.0              0.0             1.0           0.0   \n",
       "7039            1.0              0.5             0.0           1.0   \n",
       "7040            0.5              0.0             1.0           0.0   \n",
       "7041            1.0              0.5             0.0           0.0   \n",
       "7042            0.0              0.5             1.0           0.0   \n",
       "\n",
       "      DeviceProtection  TechSupport  StreamingTV  StreamingMovies  Contract  \\\n",
       "0                  0.0          0.0          0.0              0.0       0.0   \n",
       "1                  1.0          0.0          0.0              0.0       0.5   \n",
       "2                  0.0          0.0          0.0              0.0       0.0   \n",
       "3                  1.0          1.0          0.0              0.0       0.5   \n",
       "4                  0.0          0.0          0.0              0.0       0.0   \n",
       "...                ...          ...          ...              ...       ...   \n",
       "7038               1.0          1.0          1.0              1.0       0.5   \n",
       "7039               1.0          0.0          1.0              1.0       0.5   \n",
       "7040               0.0          0.0          0.0              0.0       0.0   \n",
       "7041               0.0          0.0          0.0              0.0       0.0   \n",
       "7042               1.0          1.0          1.0              1.0       1.0   \n",
       "\n",
       "      PaperlessBilling  PaymentMethod  MonthlyCharges  TotalCharges  \n",
       "0                  1.0       0.666667        0.115423      0.003437  \n",
       "1                  0.0       1.000000        0.385075      0.217564  \n",
       "2                  1.0       1.000000        0.354229      0.012453  \n",
       "3                  0.0       0.000000        0.239303      0.211951  \n",
       "4                  1.0       0.666667        0.521891      0.017462  \n",
       "...                ...            ...             ...           ...  \n",
       "7038               1.0       1.000000        0.662189      0.229194  \n",
       "7039               1.0       0.333333        0.845274      0.847792  \n",
       "7040               1.0       0.666667        0.112935      0.039892  \n",
       "7041               1.0       1.000000        0.558706      0.035303  \n",
       "7042               1.0       0.000000        0.869652      0.788101  \n",
       "\n",
       "[7043 rows x 19 columns]"
      ]
     },
     "execution_count": 57,
     "metadata": {},
     "output_type": "execute_result"
    }
   ],
   "source": [
    "from sklearn.preprocessing import MinMaxScaler\n",
    "sc=MinMaxScaler()\n",
    "X=sc.fit_transform(x)\n",
    "X=pd.DataFrame(X,columns=x.columns)\n",
    "X"
   ]
  },
  {
   "cell_type": "code",
   "execution_count": 58,
   "metadata": {},
   "outputs": [
    {
     "data": {
      "text/plain": [
       "0       0\n",
       "1       0\n",
       "2       1\n",
       "3       0\n",
       "4       1\n",
       "       ..\n",
       "7038    0\n",
       "7039    0\n",
       "7040    0\n",
       "7041    1\n",
       "7042    0\n",
       "Name: Churn, Length: 7043, dtype: int64"
      ]
     },
     "execution_count": 58,
     "metadata": {},
     "output_type": "execute_result"
    }
   ],
   "source": [
    "y"
   ]
  },
  {
   "cell_type": "markdown",
   "metadata": {},
   "source": [
    "# Data Imbalance"
   ]
  },
  {
   "cell_type": "code",
   "execution_count": 59,
   "metadata": {},
   "outputs": [
    {
     "data": {
      "text/plain": [
       "Text(0.5, 1.0, 'Target Variable')"
      ]
     },
     "execution_count": 59,
     "metadata": {},
     "output_type": "execute_result"
    },
    {
     "data": {
      "image/png": "[encoded data removed]",
      "text/plain": [
       "<Figure size 576x360 with 1 Axes>"
      ]
     },
     "metadata": {
      "needs_background": "light"
     },
     "output_type": "display_data"
    }
   ],
   "source": [
    "fig_size = (8,5)\n",
    "fig, ax = plt.subplots(figsize = fig_size)\n",
    "sns.countplot(data=df, x=\"Churn\")\n",
    "plt.xticks(rotation=90)\n",
    "plt.title(\"Target Variable\", fontsize = 10)"
   ]
  },
  {
   "cell_type": "code",
   "execution_count": 60,
   "metadata": {},
   "outputs": [],
   "source": [
    "from imblearn.over_sampling import SMOTE\n",
    "SM=SMOTE()\n",
    "x_over, y_over=SM.fit_resample(X,y)"
   ]
  },
  {
   "cell_type": "code",
   "execution_count": 61,
   "metadata": {},
   "outputs": [],
   "source": [
    "y_over=pd.DataFrame(y_over)"
   ]
  },
  {
   "cell_type": "code",
   "execution_count": 62,
   "metadata": {},
   "outputs": [],
   "source": [
    "X=x_over\n",
    "y=y_over"
   ]
  },
  {
   "cell_type": "code",
   "execution_count": 63,
   "metadata": {},
   "outputs": [
    {
     "name": "stdout",
     "output_type": "stream",
     "text": [
      "(10348, 19) (10348, 1)\n"
     ]
    }
   ],
   "source": [
    "print(X.shape,y.shape)"
   ]
  },
  {
   "cell_type": "markdown",
   "metadata": {},
   "source": [
    "# Finding best Random State for train test split."
   ]
  },
  {
   "cell_type": "code",
   "execution_count": 64,
   "metadata": {},
   "outputs": [
    {
     "name": "stdout",
     "output_type": "stream",
     "text": [
      "Best Random State is 100, 79.5169082125604\n"
     ]
    }
   ],
   "source": [
    "from sklearn.linear_model import LogisticRegression\n",
    "from sklearn.metrics import accuracy_score\n",
    "from sklearn.model_selection import train_test_split\n",
    "\n",
    "max_accuracy = 0\n",
    "best_rs = 0\n",
    "for i in range(1, 150):\n",
    "    X_train, X_test, y_train, y_test = train_test_split(X, y, test_size = 0.30, random_state = i)\n",
    "    lg = LogisticRegression()\n",
    "    lg.fit(X_train, y_train)\n",
    "    pred = lg.predict(X_test)\n",
    "    acc = accuracy_score(y_test, pred)\n",
    "    if acc > max_accuracy:\n",
    "        max_accuracy = acc\n",
    "        best_rs = i\n",
    "print(f\"Best Random State is {best_rs}, {max_accuracy*100}\")"
   ]
  },
  {
   "cell_type": "code",
   "execution_count": 65,
   "metadata": {},
   "outputs": [],
   "source": [
    "X_train,X_test,y_train,y_test=train_test_split(X,y,test_size=.30,random_state=132)"
   ]
  },
  {
   "cell_type": "markdown",
   "metadata": {},
   "source": [
    "# Importing Algorithms"
   ]
  },
  {
   "cell_type": "code",
   "execution_count": 66,
   "metadata": {},
   "outputs": [],
   "source": [
    "from sklearn.linear_model import LogisticRegression\n",
    "from sklearn.ensemble import RandomForestClassifier\n",
    "from sklearn.tree import DecisionTreeClassifier\n",
    "from sklearn.ensemble import AdaBoostClassifier\n",
    "from sklearn.naive_bayes import MultinomialNB\n",
    "from sklearn.neighbors import KNeighborsClassifier\n",
    "from sklearn.svm import SVC\n",
    "from sklearn.metrics import accuracy_score\n",
    "from sklearn.metrics import confusion_matrix, classification_report"
   ]
  },
  {
   "cell_type": "markdown",
   "metadata": {},
   "source": [
    "# LogisticRegression"
   ]
  },
  {
   "cell_type": "code",
   "execution_count": 67,
   "metadata": {},
   "outputs": [
    {
     "name": "stdout",
     "output_type": "stream",
     "text": [
      "0.7874396135265701\n",
      "[[1175  376]\n",
      " [ 284 1270]]\n",
      "              precision    recall  f1-score   support\n",
      "\n",
      "           0       0.81      0.76      0.78      1551\n",
      "           1       0.77      0.82      0.79      1554\n",
      "\n",
      "    accuracy                           0.79      3105\n",
      "   macro avg       0.79      0.79      0.79      3105\n",
      "weighted avg       0.79      0.79      0.79      3105\n",
      "\n"
     ]
    }
   ],
   "source": [
    "lg = LogisticRegression()\n",
    "lg.fit(X_train, y_train)\n",
    "pred_lg = lg.predict(X_test)\n",
    "print(accuracy_score(y_test,pred_lg))\n",
    "print(confusion_matrix(y_test,pred_lg))\n",
    "print(classification_report(y_test,pred_lg))"
   ]
  },
  {
   "cell_type": "markdown",
   "metadata": {},
   "source": [
    "# RandomForestClassifier"
   ]
  },
  {
   "cell_type": "code",
   "execution_count": 68,
   "metadata": {},
   "outputs": [
    {
     "name": "stdout",
     "output_type": "stream",
     "text": [
      "0.8579710144927536\n",
      "[[1329  222]\n",
      " [ 219 1335]]\n",
      "              precision    recall  f1-score   support\n",
      "\n",
      "           0       0.86      0.86      0.86      1551\n",
      "           1       0.86      0.86      0.86      1554\n",
      "\n",
      "    accuracy                           0.86      3105\n",
      "   macro avg       0.86      0.86      0.86      3105\n",
      "weighted avg       0.86      0.86      0.86      3105\n",
      "\n"
     ]
    }
   ],
   "source": [
    "rf=RandomForestClassifier(n_estimators=100,random_state=49)\n",
    "rf.fit(X_train,y_train)\n",
    "predrf=rf.predict(X_test)\n",
    "print(accuracy_score(y_test,predrf))\n",
    "print(confusion_matrix(y_test,predrf))\n",
    "print(classification_report(y_test,predrf))"
   ]
  },
  {
   "cell_type": "markdown",
   "metadata": {},
   "source": [
    "# DecisionTreeClassifier"
   ]
  },
  {
   "cell_type": "code",
   "execution_count": 69,
   "metadata": {},
   "outputs": [
    {
     "name": "stdout",
     "output_type": "stream",
     "text": [
      "0.784219001610306\n",
      "[[1230  321]\n",
      " [ 349 1205]]\n",
      "              precision    recall  f1-score   support\n",
      "\n",
      "           0       0.78      0.79      0.79      1551\n",
      "           1       0.79      0.78      0.78      1554\n",
      "\n",
      "    accuracy                           0.78      3105\n",
      "   macro avg       0.78      0.78      0.78      3105\n",
      "weighted avg       0.78      0.78      0.78      3105\n",
      "\n"
     ]
    }
   ],
   "source": [
    "from sklearn.tree import DecisionTreeClassifier\n",
    "dtc=DecisionTreeClassifier(criterion='entropy',splitter='best', max_depth=None)\n",
    "dtc.fit(X_train,y_train)\n",
    "preddtc=dtc.predict(X_test)\n",
    "print(accuracy_score(y_test,preddtc))\n",
    "print(confusion_matrix(y_test,preddtc))\n",
    "print(classification_report(y_test,preddtc))"
   ]
  },
  {
   "cell_type": "markdown",
   "metadata": {},
   "source": [
    "# AdaBoostClassifier"
   ]
  },
  {
   "cell_type": "code",
   "execution_count": 70,
   "metadata": {},
   "outputs": [
    {
     "name": "stdout",
     "output_type": "stream",
     "text": [
      "0.8251207729468599\n",
      "[[1235  316]\n",
      " [ 227 1327]]\n",
      "              precision    recall  f1-score   support\n",
      "\n",
      "           0       0.84      0.80      0.82      1551\n",
      "           1       0.81      0.85      0.83      1554\n",
      "\n",
      "    accuracy                           0.83      3105\n",
      "   macro avg       0.83      0.83      0.82      3105\n",
      "weighted avg       0.83      0.83      0.82      3105\n",
      "\n"
     ]
    }
   ],
   "source": [
    "ad=AdaBoostClassifier()\n",
    "ad.fit(X_train,y_train) \n",
    "predad=ad.predict(X_test)\n",
    "print(accuracy_score(y_test,predad))\n",
    "print(confusion_matrix(y_test,predad))\n",
    "print(classification_report(y_test,predad))"
   ]
  },
  {
   "cell_type": "markdown",
   "metadata": {},
   "source": [
    "# MultinomialNB"
   ]
  },
  {
   "cell_type": "code",
   "execution_count": 71,
   "metadata": {},
   "outputs": [
    {
     "name": "stdout",
     "output_type": "stream",
     "text": [
      "0.7565217391304347\n",
      "[[1141  410]\n",
      " [ 346 1208]]\n",
      "              precision    recall  f1-score   support\n",
      "\n",
      "           0       0.77      0.74      0.75      1551\n",
      "           1       0.75      0.78      0.76      1554\n",
      "\n",
      "    accuracy                           0.76      3105\n",
      "   macro avg       0.76      0.76      0.76      3105\n",
      "weighted avg       0.76      0.76      0.76      3105\n",
      "\n"
     ]
    }
   ],
   "source": [
    "mnb=MultinomialNB()\n",
    "mnb.fit(X_train,y_train) \n",
    "pred_mnb=mnb.predict(X_test)\n",
    "print(accuracy_score(y_test,pred_mnb))\n",
    "print(confusion_matrix(y_test,pred_mnb))\n",
    "print(classification_report(y_test,pred_mnb))"
   ]
  },
  {
   "cell_type": "markdown",
   "metadata": {},
   "source": [
    "# KNeighborsClassifier"
   ]
  },
  {
   "cell_type": "code",
   "execution_count": 72,
   "metadata": {},
   "outputs": [
    {
     "name": "stdout",
     "output_type": "stream",
     "text": [
      "0.7819645732689211\n",
      "[[1048  503]\n",
      " [ 174 1380]]\n",
      "              precision    recall  f1-score   support\n",
      "\n",
      "           0       0.86      0.68      0.76      1551\n",
      "           1       0.73      0.89      0.80      1554\n",
      "\n",
      "    accuracy                           0.78      3105\n",
      "   macro avg       0.80      0.78      0.78      3105\n",
      "weighted avg       0.80      0.78      0.78      3105\n",
      "\n"
     ]
    }
   ],
   "source": [
    "knn=KNeighborsClassifier(n_neighbors=5)\n",
    "knn.fit(X_train,y_train)\n",
    "predknn=knn.predict(X_test)\n",
    "print(accuracy_score(y_test,predknn))\n",
    "print(confusion_matrix(y_test,predknn))\n",
    "print(classification_report(y_test,predknn))"
   ]
  },
  {
   "cell_type": "markdown",
   "metadata": {},
   "source": [
    "# Spport Vector Classifier"
   ]
  },
  {
   "cell_type": "code",
   "execution_count": 73,
   "metadata": {},
   "outputs": [
    {
     "name": "stdout",
     "output_type": "stream",
     "text": [
      "0.8067632850241546\n",
      "[[1219  332]\n",
      " [ 268 1286]]\n",
      "              precision    recall  f1-score   support\n",
      "\n",
      "           0       0.82      0.79      0.80      1551\n",
      "           1       0.79      0.83      0.81      1554\n",
      "\n",
      "    accuracy                           0.81      3105\n",
      "   macro avg       0.81      0.81      0.81      3105\n",
      "weighted avg       0.81      0.81      0.81      3105\n",
      "\n"
     ]
    }
   ],
   "source": [
    "svc=SVC()\n",
    "svc.fit(X_train,y_train) \n",
    "pred_svc=svc.predict(X_test)\n",
    "print(accuracy_score(y_test,pred_svc))\n",
    "print(confusion_matrix(y_test,pred_svc))\n",
    "print(classification_report(y_test,pred_svc))"
   ]
  },
  {
   "cell_type": "markdown",
   "metadata": {},
   "source": [
    "# Cross Validation"
   ]
  },
  {
   "cell_type": "markdown",
   "metadata": {},
   "source": [
    "As we know the Random Forest Classifier is given hight score but we are Cross validating the models to see thre are underfitting or overfitting present or not.\n",
    "\n"
   ]
  },
  {
   "cell_type": "code",
   "execution_count": 74,
   "metadata": {},
   "outputs": [
    {
     "name": "stdout",
     "output_type": "stream",
     "text": [
      "[0.77004831 0.76376812 0.77149758 0.77573707 0.80038666]\n",
      "Mean of accuracy scores is for Logistic Regression is 77.62875481865963\n",
      "\n",
      "[0.77681159 0.79275362 0.88743961 0.89173514 0.90043499]\n",
      "Mean of accuracy scores is for Random Forest Classifier is 84.98349922831399\n",
      "\n",
      "[0.71207729 0.73236715 0.82270531 0.81971967 0.84678589]\n",
      "Mean of accuracy scores is for Decision Tree Classifier is 78.67310633389606\n",
      "\n",
      "[0.77004831 0.77971014 0.82705314 0.84630256 0.84968584]\n",
      "Mean of accuracy scores is for ADA Boost Classifier is 81.45599988792456\n",
      "\n",
      "[0.75555556 0.74637681 0.74782609 0.76848719 0.77332044]\n",
      "Mean of accuracy scores is for MultinomialNB is 75.83132181291342\n",
      "\n",
      "[0.75990338 0.77536232 0.7821256  0.79023683 0.80425326]\n",
      "Mean of accuracy scores is for KNN Classifier is 78.23762792359258\n",
      "\n",
      "[0.77584541 0.77149758 0.80917874 0.82116965 0.83760271]\n",
      "Mean of accuracy scores is for SVC Classifier is 80.30588185849076\n",
      "\n"
     ]
    }
   ],
   "source": [
    "from sklearn.model_selection import cross_val_score\n",
    "\n",
    "lg_scores = cross_val_score(lg, X, y, cv = 5)\n",
    "print(lg_scores)\n",
    "print(f\"Mean of accuracy scores is for Logistic Regression is {lg_scores.mean()*100}\\n\")\n",
    "\n",
    "rf_scores = cross_val_score(rf, X, y, cv = 5)\n",
    "print(rf_scores)\n",
    "print(f\"Mean of accuracy scores is for Random Forest Classifier is {rf_scores.mean()*100}\\n\")\n",
    "\n",
    "dtc_scores = cross_val_score(dtc, X, y, cv = 5)\n",
    "print(dtc_scores)\n",
    "print(f\"Mean of accuracy scores is for Decision Tree Classifier is {dtc_scores.mean()*100}\\n\")\n",
    "\n",
    "ad_scores = cross_val_score(ad, X, y, cv = 5)\n",
    "print(ad_scores)\n",
    "print(f\"Mean of accuracy scores is for ADA Boost Classifier is {ad_scores.mean()*100}\\n\")\n",
    "\n",
    "mnb_scores = cross_val_score(mnb, X, y, cv = 5)\n",
    "print(mnb_scores)\n",
    "print(f\"Mean of accuracy scores is for MultinomialNB is {mnb_scores.mean()*100}\\n\")\n",
    "\n",
    "knn_scores = cross_val_score(knn, X, y, cv = 5)\n",
    "print(knn_scores)\n",
    "print(f\"Mean of accuracy scores is for KNN Classifier is {knn_scores.mean()*100}\\n\")\n",
    "\n",
    "svc_scores = cross_val_score(svc, X, y, cv = 5)\n",
    "print(svc_scores)\n",
    "print(f\"Mean of accuracy scores is for SVC Classifier is {svc_scores.mean()*100}\\n\")"
   ]
  },
  {
   "cell_type": "markdown",
   "metadata": {},
   "source": [
    "# Hyper parameter tuning"
   ]
  },
  {
   "cell_type": "code",
   "execution_count": 75,
   "metadata": {},
   "outputs": [],
   "source": [
    "from sklearn.model_selection import GridSearchCV"
   ]
  },
  {
   "cell_type": "code",
   "execution_count": 76,
   "metadata": {},
   "outputs": [
    {
     "name": "stdout",
     "output_type": "stream",
     "text": [
      "{'criterion': 'gini', 'min_samples_split': 2, 'n_estimators': 200}\n",
      "0.8408142022122324\n",
      "RandomForestClassifier(n_estimators=200)\n"
     ]
    }
   ],
   "source": [
    "rf = RandomForestClassifier()\n",
    "grid_parameters = dict()\n",
    "grid_parameters['criterion'] = ['gini', 'entropy']\n",
    "grid_parameters['n_estimators'] = [1, 2, 4, 8, 10, 16, 32, 64, 100, 200]\n",
    "grid_parameters['min_samples_split'] = [1,2,5,8,10,15,20,25,50,55,60,80,100]\n",
    "grid_sr = GridSearchCV(estimator=rf,param_grid=grid_parameters,scoring='accuracy', cv=5)\n",
    "grid_sr.fit(X_train, y_train)\n",
    "best_parameters=grid_sr.best_params_\n",
    "best_result=grid_sr.best_score_\n",
    "best_model = grid_sr.best_estimator_\n",
    "print(best_parameters)\n",
    "print(best_result)\n",
    "print(best_model)"
   ]
  },
  {
   "cell_type": "code",
   "execution_count": 77,
   "metadata": {},
   "outputs": [
    {
     "name": "stdout",
     "output_type": "stream",
     "text": [
      "0.9808090570205716\n"
     ]
    }
   ],
   "source": [
    "RF = RandomForestClassifier(criterion = 'entropy', min_samples_split = 5, n_estimators = 100)\n",
    "RF.fit(X_train, y_train)\n",
    "print(RF.score(X_train, y_train))\n",
    "pred_rf = RF.predict(X_test)"
   ]
  },
  {
   "cell_type": "markdown",
   "metadata": {},
   "source": [
    "# Model Evaluation"
   ]
  },
  {
   "cell_type": "markdown",
   "metadata": {},
   "source": [
    "# Metrics"
   ]
  },
  {
   "cell_type": "code",
   "execution_count": 78,
   "metadata": {},
   "outputs": [],
   "source": [
    "from sklearn.metrics import roc_curve\n",
    "import matplotlib.pyplot as plt"
   ]
  },
  {
   "cell_type": "code",
   "execution_count": 79,
   "metadata": {},
   "outputs": [],
   "source": [
    "#Import ROC_AUC_SCORE.\n",
    "from sklearn.metrics import roc_auc_score"
   ]
  },
  {
   "cell_type": "code",
   "execution_count": 80,
   "metadata": {},
   "outputs": [
    {
     "data": {
      "text/plain": [
       "array([0.94130952, 0.686     , 0.39258333, ..., 0.1765119 , 0.86961905,\n",
       "       1.        ])"
      ]
     },
     "execution_count": 80,
     "metadata": {},
     "output_type": "execute_result"
    }
   ],
   "source": [
    "y_pred_prob=RF.predict_proba(X_test)[:,1]\n",
    "y_pred_prob"
   ]
  },
  {
   "cell_type": "code",
   "execution_count": 81,
   "metadata": {},
   "outputs": [],
   "source": [
    "fpr,tpr,thresholds=roc_curve(y_test,y_pred_prob)"
   ]
  },
  {
   "cell_type": "code",
   "execution_count": 82,
   "metadata": {},
   "outputs": [
    {
     "data": {
      "text/plain": [
       "array([0.00000000e+00, 0.00000000e+00, 0.00000000e+00, 0.00000000e+00,\n",
       "       0.00000000e+00, 0.00000000e+00, 0.00000000e+00, 0.00000000e+00,\n",
       "       0.00000000e+00, 0.00000000e+00, 0.00000000e+00, 0.00000000e+00,\n",
       "       0.00000000e+00, 0.00000000e+00, 0.00000000e+00, 0.00000000e+00,\n",
       "       0.00000000e+00, 6.44745326e-04, 6.44745326e-04, 6.44745326e-04,\n",
       "       6.44745326e-04, 6.44745326e-04, 6.44745326e-04, 6.44745326e-04,\n",
       "       6.44745326e-04, 6.44745326e-04, 1.28949065e-03, 1.28949065e-03,\n",
       "       1.28949065e-03, 1.28949065e-03, 1.93423598e-03, 1.93423598e-03,\n",
       "       1.93423598e-03, 1.93423598e-03, 1.93423598e-03, 1.93423598e-03,\n",
       "       1.93423598e-03, 1.93423598e-03, 1.93423598e-03, 1.93423598e-03,\n",
       "       1.93423598e-03, 1.93423598e-03, 2.57898130e-03, 2.57898130e-03,\n",
       "       2.57898130e-03, 2.57898130e-03, 3.22372663e-03, 3.22372663e-03,\n",
       "       3.22372663e-03, 3.22372663e-03, 3.86847195e-03, 3.86847195e-03,\n",
       "       3.86847195e-03, 3.86847195e-03, 3.86847195e-03, 3.86847195e-03,\n",
       "       4.51321728e-03, 4.51321728e-03, 4.51321728e-03, 4.51321728e-03,\n",
       "       4.51321728e-03, 4.51321728e-03, 4.51321728e-03, 4.51321728e-03,\n",
       "       5.15796260e-03, 5.15796260e-03, 5.15796260e-03, 5.15796260e-03,\n",
       "       5.15796260e-03, 5.80270793e-03, 5.80270793e-03, 6.44745326e-03,\n",
       "       6.44745326e-03, 7.09219858e-03, 7.09219858e-03, 7.73694391e-03,\n",
       "       7.73694391e-03, 8.38168923e-03, 8.38168923e-03, 8.38168923e-03,\n",
       "       9.02643456e-03, 9.02643456e-03, 9.02643456e-03, 9.02643456e-03,\n",
       "       9.02643456e-03, 9.02643456e-03, 9.67117988e-03, 9.67117988e-03,\n",
       "       9.67117988e-03, 1.03159252e-02, 1.03159252e-02, 1.09606705e-02,\n",
       "       1.09606705e-02, 1.09606705e-02, 1.09606705e-02, 1.09606705e-02,\n",
       "       1.09606705e-02, 1.16054159e-02, 1.16054159e-02, 1.22501612e-02,\n",
       "       1.22501612e-02, 1.28949065e-02, 1.28949065e-02, 1.35396518e-02,\n",
       "       1.35396518e-02, 1.41843972e-02, 1.41843972e-02, 1.48291425e-02,\n",
       "       1.48291425e-02, 1.54738878e-02, 1.54738878e-02, 1.54738878e-02,\n",
       "       1.54738878e-02, 1.61186331e-02, 1.61186331e-02, 1.67633785e-02,\n",
       "       1.67633785e-02, 1.67633785e-02, 1.67633785e-02, 1.74081238e-02,\n",
       "       1.74081238e-02, 1.86976144e-02, 1.86976144e-02, 1.93423598e-02,\n",
       "       1.93423598e-02, 1.99871051e-02, 1.99871051e-02, 2.06318504e-02,\n",
       "       2.06318504e-02, 2.12765957e-02, 2.12765957e-02, 2.19213411e-02,\n",
       "       2.19213411e-02, 2.25660864e-02, 2.25660864e-02, 2.32108317e-02,\n",
       "       2.32108317e-02, 2.32108317e-02, 2.32108317e-02, 2.38555770e-02,\n",
       "       2.38555770e-02, 2.51450677e-02, 2.51450677e-02, 2.57898130e-02,\n",
       "       2.57898130e-02, 2.70793037e-02, 2.70793037e-02, 2.70793037e-02,\n",
       "       2.77240490e-02, 2.77240490e-02, 2.83687943e-02, 2.83687943e-02,\n",
       "       2.96582850e-02, 2.96582850e-02, 3.09477756e-02, 3.09477756e-02,\n",
       "       3.15925210e-02, 3.15925210e-02, 3.22372663e-02, 3.22372663e-02,\n",
       "       3.28820116e-02, 3.28820116e-02, 3.35267569e-02, 3.35267569e-02,\n",
       "       3.41715023e-02, 3.41715023e-02, 3.48162476e-02, 3.48162476e-02,\n",
       "       3.54609929e-02, 3.54609929e-02, 3.61057382e-02, 3.61057382e-02,\n",
       "       3.67504836e-02, 3.67504836e-02, 3.67504836e-02, 3.67504836e-02,\n",
       "       3.80399742e-02, 3.80399742e-02, 3.86847195e-02, 3.86847195e-02,\n",
       "       3.99742102e-02, 3.99742102e-02, 4.12637008e-02, 4.12637008e-02,\n",
       "       4.19084462e-02, 4.19084462e-02, 4.25531915e-02, 4.25531915e-02,\n",
       "       4.31979368e-02, 4.31979368e-02, 4.38426821e-02, 4.38426821e-02,\n",
       "       4.44874275e-02, 4.44874275e-02, 4.51321728e-02, 4.51321728e-02,\n",
       "       4.57769181e-02, 4.57769181e-02, 4.70664088e-02, 4.70664088e-02,\n",
       "       4.77111541e-02, 4.77111541e-02, 4.83558994e-02, 4.83558994e-02,\n",
       "       4.90006447e-02, 4.90006447e-02, 4.96453901e-02, 4.96453901e-02,\n",
       "       5.02901354e-02, 5.02901354e-02, 5.09348807e-02, 5.09348807e-02,\n",
       "       5.15796260e-02, 5.15796260e-02, 5.22243714e-02, 5.22243714e-02,\n",
       "       5.28691167e-02, 5.28691167e-02, 5.35138620e-02, 5.35138620e-02,\n",
       "       5.41586074e-02, 5.41586074e-02, 5.48033527e-02, 5.48033527e-02,\n",
       "       5.60928433e-02, 5.60928433e-02, 5.67375887e-02, 5.67375887e-02,\n",
       "       5.73823340e-02, 5.73823340e-02, 5.80270793e-02, 5.80270793e-02,\n",
       "       5.86718246e-02, 5.86718246e-02, 5.93165700e-02, 5.93165700e-02,\n",
       "       5.99613153e-02, 5.99613153e-02, 6.06060606e-02, 6.06060606e-02,\n",
       "       6.12508059e-02, 6.12508059e-02, 6.18955513e-02, 6.18955513e-02,\n",
       "       6.31850419e-02, 6.31850419e-02, 6.44745326e-02, 6.44745326e-02,\n",
       "       6.51192779e-02, 6.51192779e-02, 6.64087685e-02, 6.64087685e-02,\n",
       "       6.70535139e-02, 6.70535139e-02, 6.83430045e-02, 6.83430045e-02,\n",
       "       6.89877498e-02, 6.89877498e-02, 7.02772405e-02, 7.02772405e-02,\n",
       "       7.09219858e-02, 7.09219858e-02, 7.15667311e-02, 7.15667311e-02,\n",
       "       7.22114765e-02, 7.22114765e-02, 7.28562218e-02, 7.28562218e-02,\n",
       "       7.41457124e-02, 7.41457124e-02, 7.47904578e-02, 7.47904578e-02,\n",
       "       7.60799484e-02, 7.60799484e-02, 7.67246937e-02, 7.67246937e-02,\n",
       "       7.73694391e-02, 7.73694391e-02, 7.86589297e-02, 7.86589297e-02,\n",
       "       7.93036750e-02, 7.93036750e-02, 8.05931657e-02, 8.05931657e-02,\n",
       "       8.18826564e-02, 8.18826564e-02, 8.25274017e-02, 8.25274017e-02,\n",
       "       8.31721470e-02, 8.31721470e-02, 8.44616377e-02, 8.44616377e-02,\n",
       "       8.57511283e-02, 8.57511283e-02, 8.63958736e-02, 8.63958736e-02,\n",
       "       8.70406190e-02, 8.70406190e-02, 8.83301096e-02, 8.83301096e-02,\n",
       "       8.89748549e-02, 8.89748549e-02, 8.96196003e-02, 8.96196003e-02,\n",
       "       9.02643456e-02, 9.02643456e-02, 9.09090909e-02, 9.09090909e-02,\n",
       "       9.15538362e-02, 9.15538362e-02, 9.28433269e-02, 9.28433269e-02,\n",
       "       9.54223082e-02, 9.54223082e-02, 9.67117988e-02, 9.67117988e-02,\n",
       "       9.73565442e-02, 9.73565442e-02, 9.80012895e-02, 9.80012895e-02,\n",
       "       9.86460348e-02, 9.86460348e-02, 9.92907801e-02, 9.92907801e-02,\n",
       "       9.99355255e-02, 9.99355255e-02, 1.01225016e-01, 1.01225016e-01,\n",
       "       1.01869761e-01, 1.01869761e-01, 1.03159252e-01, 1.03159252e-01,\n",
       "       1.03803997e-01, 1.03803997e-01, 1.05093488e-01, 1.05093488e-01,\n",
       "       1.06382979e-01, 1.06382979e-01, 1.07027724e-01, 1.07027724e-01,\n",
       "       1.07672469e-01, 1.07672469e-01, 1.08317215e-01, 1.08317215e-01,\n",
       "       1.09606705e-01, 1.09606705e-01, 1.13475177e-01, 1.13475177e-01,\n",
       "       1.14119923e-01, 1.14119923e-01, 1.14764668e-01, 1.14764668e-01,\n",
       "       1.15409413e-01, 1.15409413e-01, 1.16054159e-01, 1.16054159e-01,\n",
       "       1.16698904e-01, 1.16698904e-01, 1.18633140e-01, 1.18633140e-01,\n",
       "       1.19277885e-01, 1.19277885e-01, 1.19922631e-01, 1.19922631e-01,\n",
       "       1.20567376e-01, 1.20567376e-01, 1.21212121e-01, 1.21212121e-01,\n",
       "       1.21856867e-01, 1.21856867e-01, 1.22501612e-01, 1.22501612e-01,\n",
       "       1.23146357e-01, 1.23146357e-01, 1.24435848e-01, 1.24435848e-01,\n",
       "       1.25725338e-01, 1.25725338e-01, 1.26370084e-01, 1.26370084e-01,\n",
       "       1.27659574e-01, 1.27659574e-01, 1.28304320e-01, 1.28304320e-01,\n",
       "       1.28949065e-01, 1.28949065e-01, 1.29593810e-01, 1.29593810e-01,\n",
       "       1.32172792e-01, 1.32172792e-01, 1.33462282e-01, 1.33462282e-01,\n",
       "       1.34751773e-01, 1.34751773e-01, 1.35396518e-01, 1.35396518e-01,\n",
       "       1.36041264e-01, 1.36041264e-01, 1.36686009e-01, 1.36686009e-01,\n",
       "       1.37975500e-01, 1.37975500e-01, 1.38620245e-01, 1.38620245e-01,\n",
       "       1.41843972e-01, 1.41843972e-01, 1.42488717e-01, 1.42488717e-01,\n",
       "       1.43778208e-01, 1.43778208e-01, 1.44422953e-01, 1.44422953e-01,\n",
       "       1.45712444e-01, 1.45712444e-01, 1.47001934e-01, 1.47001934e-01,\n",
       "       1.47646680e-01, 1.47646680e-01, 1.48291425e-01, 1.48291425e-01,\n",
       "       1.48936170e-01, 1.48936170e-01, 1.52804642e-01, 1.52804642e-01,\n",
       "       1.53449387e-01, 1.53449387e-01, 1.54094133e-01, 1.54094133e-01,\n",
       "       1.57962605e-01, 1.57962605e-01, 1.58607350e-01, 1.58607350e-01,\n",
       "       1.59252095e-01, 1.59896841e-01, 1.59896841e-01, 1.60541586e-01,\n",
       "       1.60541586e-01, 1.63120567e-01, 1.63120567e-01, 1.63765313e-01,\n",
       "       1.63765313e-01, 1.65054803e-01, 1.65054803e-01, 1.66344294e-01,\n",
       "       1.66344294e-01, 1.68278530e-01, 1.68278530e-01, 1.70857511e-01,\n",
       "       1.70857511e-01, 1.71502257e-01, 1.71502257e-01, 1.72147002e-01,\n",
       "       1.72147002e-01, 1.74081238e-01, 1.74081238e-01, 1.75370729e-01,\n",
       "       1.75370729e-01, 1.76660219e-01, 1.76660219e-01, 1.77304965e-01,\n",
       "       1.77304965e-01, 1.77949710e-01, 1.78594455e-01, 1.83752418e-01,\n",
       "       1.83752418e-01, 1.84397163e-01, 1.84397163e-01, 1.85041908e-01,\n",
       "       1.85041908e-01, 1.86331399e-01, 1.86331399e-01, 1.86976144e-01,\n",
       "       1.86976144e-01, 1.89555126e-01, 1.89555126e-01, 1.92134107e-01,\n",
       "       1.92134107e-01, 1.93423598e-01, 1.93423598e-01, 1.94068343e-01,\n",
       "       1.94068343e-01, 1.96002579e-01, 1.96002579e-01, 1.97292070e-01,\n",
       "       1.97292070e-01, 1.98581560e-01, 1.98581560e-01, 2.00515796e-01,\n",
       "       2.00515796e-01, 2.01160542e-01, 2.01160542e-01, 2.01805287e-01,\n",
       "       2.01805287e-01, 2.02450032e-01, 2.02450032e-01, 2.03739523e-01,\n",
       "       2.03739523e-01, 2.05673759e-01, 2.05673759e-01, 2.06963250e-01,\n",
       "       2.06963250e-01, 2.07607995e-01, 2.07607995e-01, 2.10831721e-01,\n",
       "       2.10831721e-01, 2.12765957e-01, 2.12765957e-01, 2.14055448e-01,\n",
       "       2.14055448e-01, 2.15344939e-01, 2.15344939e-01, 2.17279175e-01,\n",
       "       2.17279175e-01, 2.19858156e-01, 2.19858156e-01, 2.20502901e-01,\n",
       "       2.20502901e-01, 2.21147647e-01, 2.21147647e-01, 2.23726628e-01,\n",
       "       2.23726628e-01, 2.25016119e-01, 2.25016119e-01, 2.27595100e-01,\n",
       "       2.27595100e-01, 2.28239845e-01, 2.28239845e-01, 2.29529336e-01,\n",
       "       2.29529336e-01, 2.30174081e-01, 2.30174081e-01, 2.30818827e-01,\n",
       "       2.30818827e-01, 2.31463572e-01, 2.31463572e-01, 2.33397808e-01,\n",
       "       2.33397808e-01, 2.33397808e-01, 2.34687299e-01, 2.34687299e-01,\n",
       "       2.35976789e-01, 2.35976789e-01, 2.41779497e-01, 2.41779497e-01,\n",
       "       2.42424242e-01, 2.42424242e-01, 2.43713733e-01, 2.43713733e-01,\n",
       "       2.44358478e-01, 2.44358478e-01, 2.45647969e-01, 2.45647969e-01,\n",
       "       2.48871696e-01, 2.48871696e-01, 2.49516441e-01, 2.49516441e-01,\n",
       "       2.50805932e-01, 2.50805932e-01, 2.52095422e-01, 2.52095422e-01,\n",
       "       2.53384913e-01, 2.53384913e-01, 2.59832366e-01, 2.59832366e-01,\n",
       "       2.63056093e-01, 2.63056093e-01, 2.65635074e-01, 2.65635074e-01,\n",
       "       2.68214055e-01, 2.68214055e-01, 2.68858801e-01, 2.68858801e-01,\n",
       "       2.69503546e-01, 2.69503546e-01, 2.71437782e-01, 2.71437782e-01,\n",
       "       2.75306254e-01, 2.75306254e-01, 2.77240490e-01, 2.77240490e-01,\n",
       "       2.78529981e-01, 2.78529981e-01, 2.81108962e-01, 2.81108962e-01,\n",
       "       2.83043198e-01, 2.83043198e-01, 2.84977434e-01, 2.84977434e-01,\n",
       "       2.88201161e-01, 2.88201161e-01, 2.88845906e-01, 2.88845906e-01,\n",
       "       2.92069632e-01, 2.92069632e-01, 2.95938104e-01, 2.95938104e-01,\n",
       "       3.01096067e-01, 3.01096067e-01, 3.02385558e-01, 3.02385558e-01,\n",
       "       3.08188266e-01, 3.08188266e-01, 3.09477756e-01, 3.09477756e-01,\n",
       "       3.10767247e-01, 3.10767247e-01, 3.12701483e-01, 3.12701483e-01,\n",
       "       3.13346228e-01, 3.13346228e-01, 3.15925210e-01, 3.15925210e-01,\n",
       "       3.16569955e-01, 3.16569955e-01, 3.17214700e-01, 3.17859446e-01,\n",
       "       3.18504191e-01, 3.18504191e-01, 3.22372663e-01, 3.22372663e-01,\n",
       "       3.23017408e-01, 3.23017408e-01, 3.24306899e-01, 3.24306899e-01,\n",
       "       3.28175371e-01, 3.28175371e-01, 3.37846551e-01, 3.37846551e-01,\n",
       "       3.38491296e-01, 3.38491296e-01, 3.42359768e-01, 3.42359768e-01,\n",
       "       3.43649259e-01, 3.43649259e-01, 3.57833656e-01, 3.57833656e-01,\n",
       "       3.60412637e-01, 3.60412637e-01, 3.73952289e-01, 3.73952289e-01,\n",
       "       3.84912959e-01, 3.84912959e-01, 4.02965828e-01, 4.02965828e-01,\n",
       "       4.03610574e-01, 4.03610574e-01, 4.15215990e-01, 4.15215990e-01,\n",
       "       4.17150226e-01, 4.17150226e-01, 4.20373952e-01, 4.20373952e-01,\n",
       "       4.21018698e-01, 4.21018698e-01, 4.21663443e-01, 4.21663443e-01,\n",
       "       4.22308188e-01, 4.22308188e-01, 4.23597679e-01, 4.23597679e-01,\n",
       "       4.25531915e-01, 4.25531915e-01, 4.26176660e-01, 4.26176660e-01,\n",
       "       4.28755642e-01, 4.28755642e-01, 4.30689877e-01, 4.30689877e-01,\n",
       "       4.36492585e-01, 4.36492585e-01, 4.41650548e-01, 4.41650548e-01,\n",
       "       4.44229529e-01, 4.44229529e-01, 4.46808511e-01, 4.46808511e-01,\n",
       "       4.58413926e-01, 4.58413926e-01, 4.60992908e-01, 4.60992908e-01,\n",
       "       4.69374597e-01, 4.69374597e-01, 4.75177305e-01, 4.75177305e-01,\n",
       "       4.80335268e-01, 4.80335268e-01, 4.90006447e-01, 4.90006447e-01,\n",
       "       4.90651193e-01, 4.90651193e-01, 5.02901354e-01, 5.02901354e-01,\n",
       "       5.19664732e-01, 5.20954223e-01, 5.20954223e-01, 5.26112186e-01,\n",
       "       5.26112186e-01, 5.31270148e-01, 5.31270148e-01, 5.47388781e-01,\n",
       "       5.47388781e-01, 5.57059961e-01, 5.57059961e-01, 5.70599613e-01,\n",
       "       5.71889104e-01, 5.75757576e-01, 5.75757576e-01, 5.86073501e-01,\n",
       "       5.86073501e-01, 5.90586718e-01, 5.90586718e-01, 5.91876209e-01,\n",
       "       5.91876209e-01, 6.22179239e-01, 6.22179239e-01, 6.25402966e-01,\n",
       "       6.25402966e-01, 6.33784655e-01, 6.33784655e-01, 6.35074146e-01,\n",
       "       6.35074146e-01, 6.52482270e-01, 6.52482270e-01, 6.54416505e-01,\n",
       "       6.55705996e-01, 6.71824629e-01, 6.73114120e-01, 6.85364281e-01,\n",
       "       6.85364281e-01, 6.89877498e-01, 6.91166989e-01, 6.93745970e-01,\n",
       "       6.93745970e-01, 7.03417150e-01, 7.05996132e-01, 7.11798839e-01,\n",
       "       7.13088330e-01, 7.13733075e-01, 7.14377821e-01, 7.16312057e-01,\n",
       "       7.16956802e-01, 7.18246293e-01, 7.29851709e-01, 7.32430690e-01,\n",
       "       7.33075435e-01, 7.34364926e-01, 7.38878143e-01, 7.38878143e-01,\n",
       "       7.40167634e-01, 7.42746615e-01, 7.47904578e-01, 7.49194068e-01,\n",
       "       7.49194068e-01, 7.65957447e-01, 7.67246937e-01, 7.70470664e-01,\n",
       "       7.73049645e-01, 7.80786589e-01, 7.82076080e-01, 7.84010316e-01,\n",
       "       7.86589297e-01, 7.86589297e-01, 7.89813024e-01, 7.91102515e-01,\n",
       "       7.93036750e-01, 7.94970986e-01, 7.96260477e-01, 7.97549968e-01,\n",
       "       8.00128949e-01, 8.01418440e-01, 8.03352676e-01, 8.07865893e-01,\n",
       "       8.09800129e-01, 8.13023856e-01, 8.14313346e-01, 8.18826564e-01,\n",
       "       8.20116054e-01, 8.31076725e-01, 8.32366215e-01, 8.34300451e-01,\n",
       "       8.35589942e-01, 8.40747905e-01, 8.42037395e-01, 8.43971631e-01,\n",
       "       8.44616377e-01, 8.46550613e-01, 8.52353320e-01, 8.52998066e-01,\n",
       "       8.54287556e-01, 8.56866538e-01, 8.57511283e-01, 8.59445519e-01,\n",
       "       8.61379755e-01, 8.65248227e-01, 8.66537718e-01, 8.67182463e-01,\n",
       "       8.69761444e-01, 8.71050935e-01, 8.72985171e-01, 8.74274662e-01,\n",
       "       8.76208897e-01, 8.77498388e-01, 8.78787879e-01, 8.85235332e-01,\n",
       "       8.85880077e-01, 8.87169568e-01, 8.88459059e-01, 8.89748549e-01,\n",
       "       8.91038040e-01, 8.92972276e-01, 8.93617021e-01, 8.95551257e-01,\n",
       "       8.96840748e-01, 9.00709220e-01, 9.03932946e-01, 9.04577692e-01,\n",
       "       9.05867182e-01, 9.07156673e-01, 9.13604126e-01, 9.14248872e-01,\n",
       "       9.16183108e-01, 9.22630561e-01, 9.23920052e-01, 9.29078014e-01,\n",
       "       9.36170213e-01, 9.36814958e-01, 1.00000000e+00])"
      ]
     },
     "execution_count": 82,
     "metadata": {},
     "output_type": "execute_result"
    }
   ],
   "source": [
    "fpr"
   ]
  },
  {
   "cell_type": "code",
   "execution_count": 83,
   "metadata": {},
   "outputs": [
    {
     "data": {
      "text/plain": [
       "array([0.        , 0.02252252, 0.02509653, 0.02638353, 0.02895753,\n",
       "       0.03217503, 0.03925354, 0.04247104, 0.04633205, 0.04826255,\n",
       "       0.05534106, 0.05662806, 0.05727156, 0.05855856, 0.06499356,\n",
       "       0.06756757, 0.07014157, 0.07014157, 0.07142857, 0.07207207,\n",
       "       0.07335907, 0.07657658, 0.07850708, 0.07915058, 0.08043758,\n",
       "       0.09266409, 0.09266409, 0.09330759, 0.0952381 , 0.0984556 ,\n",
       "       0.0984556 , 0.1003861 , 0.1016731 , 0.1023166 , 0.1036036 ,\n",
       "       0.1042471 , 0.10553411, 0.11711712, 0.11969112, 0.12870013,\n",
       "       0.12998713, 0.13127413, 0.13127413, 0.13191763, 0.13320463,\n",
       "       0.13577864, 0.13642214, 0.17052767, 0.17181467, 0.17824968,\n",
       "       0.17824968, 0.17889318, 0.18018018, 0.19176319, 0.19305019,\n",
       "       0.1956242 , 0.1956242 , 0.20527671, 0.20656371, 0.20785071,\n",
       "       0.21042471, 0.21814672, 0.21943372, 0.22072072, 0.22136422,\n",
       "       0.22393822, 0.22522523, 0.22651223, 0.22715573, 0.22715573,\n",
       "       0.23294723, 0.23359073, 0.23487773, 0.23487773, 0.23552124,\n",
       "       0.23552124, 0.26383526, 0.26383526, 0.26512227, 0.26705277,\n",
       "       0.26705277, 0.27734878, 0.27863578, 0.28764479, 0.28893179,\n",
       "       0.31016731, 0.31016731, 0.31274131, 0.31402831, 0.31402831,\n",
       "       0.32175032, 0.32175032, 0.34362934, 0.34491634, 0.34942085,\n",
       "       0.35070785, 0.35842986, 0.35842986, 0.37258687, 0.37323037,\n",
       "       0.38545689, 0.38545689, 0.38738739, 0.38738739, 0.39189189,\n",
       "       0.39189189, 0.39382239, 0.39382239, 0.40604891, 0.40604891,\n",
       "       0.42020592, 0.42149292, 0.42728443, 0.42728443, 0.42792793,\n",
       "       0.42792793, 0.42921493, 0.43050193, 0.43693694, 0.43693694,\n",
       "       0.44144144, 0.44144144, 0.44916345, 0.44916345, 0.45752896,\n",
       "       0.45817246, 0.47168597, 0.47168597, 0.48326898, 0.48326898,\n",
       "       0.48391248, 0.48391248, 0.48584299, 0.48648649, 0.48970399,\n",
       "       0.48970399, 0.49227799, 0.49356499, 0.503861  , 0.503861  ,\n",
       "       0.52123552, 0.52123552, 0.53796654, 0.53796654, 0.54440154,\n",
       "       0.54440154, 0.54954955, 0.55083655, 0.55083655, 0.55212355,\n",
       "       0.55212355, 0.55276705, 0.55276705, 0.55727156, 0.55727156,\n",
       "       0.55855856, 0.55855856, 0.56177606, 0.56177606, 0.56306306,\n",
       "       0.56306306, 0.57271557, 0.57271557, 0.57528958, 0.57528958,\n",
       "       0.58108108, 0.58108108, 0.58236808, 0.58236808, 0.58687259,\n",
       "       0.58687259, 0.58751609, 0.58751609, 0.59266409, 0.59395109,\n",
       "       0.5997426 , 0.5997426 , 0.6016731 , 0.6016731 , 0.6042471 ,\n",
       "       0.6042471 , 0.60617761, 0.60617761, 0.60810811, 0.60810811,\n",
       "       0.61261261, 0.61261261, 0.61647362, 0.61647362, 0.62612613,\n",
       "       0.62612613, 0.62741313, 0.62741313, 0.63513514, 0.63513514,\n",
       "       0.63577864, 0.63577864, 0.63835264, 0.63835264, 0.64028314,\n",
       "       0.64028314, 0.64350064, 0.64350064, 0.64478764, 0.64478764,\n",
       "       0.65057915, 0.65057915, 0.65508366, 0.65508366, 0.65765766,\n",
       "       0.65765766, 0.65894466, 0.65894466, 0.66087516, 0.66087516,\n",
       "       0.66151866, 0.66151866, 0.66216216, 0.66216216, 0.66409266,\n",
       "       0.66409266, 0.66537967, 0.66537967, 0.66602317, 0.66602317,\n",
       "       0.66988417, 0.66988417, 0.67181467, 0.67181467, 0.67245817,\n",
       "       0.67245817, 0.67374517, 0.67374517, 0.67760618, 0.67760618,\n",
       "       0.67824968, 0.67824968, 0.68082368, 0.68082368, 0.68146718,\n",
       "       0.68146718, 0.68404118, 0.68404118, 0.68468468, 0.68468468,\n",
       "       0.69305019, 0.69305019, 0.6962677 , 0.6962677 , 0.7014157 ,\n",
       "       0.7014157 , 0.7033462 , 0.7033462 , 0.7039897 , 0.7039897 ,\n",
       "       0.70527671, 0.70527671, 0.70720721, 0.70720721, 0.70913771,\n",
       "       0.70913771, 0.71042471, 0.71042471, 0.71235521, 0.71235521,\n",
       "       0.71621622, 0.71621622, 0.72200772, 0.72200772, 0.72265122,\n",
       "       0.72265122, 0.72329472, 0.72329472, 0.72522523, 0.72522523,\n",
       "       0.73037323, 0.73037323, 0.73294723, 0.73294723, 0.73680824,\n",
       "       0.73680824, 0.73873874, 0.73873874, 0.73938224, 0.73938224,\n",
       "       0.74066924, 0.74066924, 0.74324324, 0.74324324, 0.74453024,\n",
       "       0.74453024, 0.74710425, 0.74710425, 0.75289575, 0.75289575,\n",
       "       0.75482625, 0.75482625, 0.75611326, 0.75611326, 0.76383526,\n",
       "       0.76383526, 0.76833977, 0.76833977, 0.76898327, 0.76898327,\n",
       "       0.77027027, 0.77027027, 0.77091377, 0.77091377, 0.77606178,\n",
       "       0.77606178, 0.77927928, 0.77927928, 0.77992278, 0.77992278,\n",
       "       0.78120978, 0.78120978, 0.78185328, 0.78185328, 0.78249678,\n",
       "       0.78249678, 0.78507079, 0.78507079, 0.78700129, 0.78700129,\n",
       "       0.78764479, 0.78764479, 0.78957529, 0.78957529, 0.79086229,\n",
       "       0.79086229, 0.79214929, 0.79214929, 0.79343629, 0.79343629,\n",
       "       0.79472329, 0.79472329, 0.7953668 , 0.7953668 , 0.7966538 ,\n",
       "       0.7966538 , 0.7972973 , 0.7972973 , 0.8005148 , 0.8005148 ,\n",
       "       0.8011583 , 0.8011583 , 0.8030888 , 0.8030888 , 0.80501931,\n",
       "       0.80501931, 0.80694981, 0.80694981, 0.80823681, 0.80823681,\n",
       "       0.81145431, 0.81145431, 0.81595882, 0.81595882, 0.81788932,\n",
       "       0.81788932, 0.82175032, 0.82175032, 0.82496782, 0.82496782,\n",
       "       0.82625483, 0.82625483, 0.82689833, 0.82689833, 0.82754183,\n",
       "       0.82754183, 0.82818533, 0.82818533, 0.83204633, 0.83204633,\n",
       "       0.83333333, 0.83333333, 0.83655084, 0.83655084, 0.83783784,\n",
       "       0.83783784, 0.83848134, 0.83848134, 0.83912484, 0.83912484,\n",
       "       0.84041184, 0.84041184, 0.84234234, 0.84234234, 0.84298584,\n",
       "       0.84298584, 0.84491634, 0.84491634, 0.84555985, 0.84555985,\n",
       "       0.84749035, 0.84749035, 0.84813385, 0.84813385, 0.84877735,\n",
       "       0.84877735, 0.84942085, 0.84942085, 0.85135135, 0.85135135,\n",
       "       0.85263835, 0.85263835, 0.85392535, 0.85392535, 0.85456885,\n",
       "       0.85456885, 0.85521236, 0.85521236, 0.85585586, 0.85585586,\n",
       "       0.85649936, 0.85649936, 0.85971686, 0.85971686, 0.86100386,\n",
       "       0.86100386, 0.86229086, 0.86229086, 0.86422136, 0.86422136,\n",
       "       0.86486486, 0.86486486, 0.86550837, 0.86550837, 0.86615187,\n",
       "       0.86615187, 0.86743887, 0.86743887, 0.86808237, 0.87001287,\n",
       "       0.87001287, 0.87129987, 0.87129987, 0.87194337, 0.87194337,\n",
       "       0.87258687, 0.87258687, 0.87323037, 0.87323037, 0.87387387,\n",
       "       0.87387387, 0.87451737, 0.87451737, 0.87580438, 0.87580438,\n",
       "       0.87709138, 0.87709138, 0.87773488, 0.87773488, 0.87837838,\n",
       "       0.87837838, 0.87902188, 0.87902188, 0.88030888, 0.88030888,\n",
       "       0.88481338, 0.88481338, 0.88545689, 0.88545689, 0.88610039,\n",
       "       0.88610039, 0.88738739, 0.88738739, 0.88867439, 0.88867439,\n",
       "       0.88931789, 0.88931789, 0.88996139, 0.88996139, 0.89060489,\n",
       "       0.89060489, 0.89253539, 0.89253539, 0.89317889, 0.89317889,\n",
       "       0.89382239, 0.89382239, 0.89446589, 0.89446589, 0.8951094 ,\n",
       "       0.8951094 , 0.8957529 , 0.8957529 , 0.8963964 , 0.8963964 ,\n",
       "       0.8989704 , 0.8989704 , 0.9009009 , 0.9009009 , 0.9015444 ,\n",
       "       0.9015444 , 0.9021879 , 0.9021879 , 0.9028314 , 0.9028314 ,\n",
       "       0.9034749 , 0.9034749 , 0.9041184 , 0.9041184 , 0.9047619 ,\n",
       "       0.9047619 , 0.90540541, 0.90540541, 0.90733591, 0.90733591,\n",
       "       0.90797941, 0.90797941, 0.90862291, 0.90862291, 0.90926641,\n",
       "       0.90926641, 0.91055341, 0.91055341, 0.91119691, 0.91119691,\n",
       "       0.91184041, 0.91184041, 0.91248391, 0.91248391, 0.91312741,\n",
       "       0.91312741, 0.91441441, 0.91441441, 0.91570142, 0.91570142,\n",
       "       0.91698842, 0.91698842, 0.91763192, 0.91763192, 0.91827542,\n",
       "       0.91827542, 0.91956242, 0.92020592, 0.92020592, 0.92084942,\n",
       "       0.92084942, 0.92149292, 0.92149292, 0.92213642, 0.92213642,\n",
       "       0.92277992, 0.92277992, 0.92406692, 0.92406692, 0.92471042,\n",
       "       0.92471042, 0.92728443, 0.92728443, 0.92792793, 0.92792793,\n",
       "       0.92857143, 0.92857143, 0.92985843, 0.92985843, 0.93050193,\n",
       "       0.93050193, 0.93114543, 0.93114543, 0.93307593, 0.93307593,\n",
       "       0.93371943, 0.93371943, 0.93436293, 0.93436293, 0.93500644,\n",
       "       0.93500644, 0.93564994, 0.93564994, 0.93693694, 0.93693694,\n",
       "       0.93758044, 0.93758044, 0.93886744, 0.93886744, 0.93951094,\n",
       "       0.93951094, 0.94015444, 0.94015444, 0.94079794, 0.94079794,\n",
       "       0.94144144, 0.94144144, 0.94272844, 0.94272844, 0.94337194,\n",
       "       0.94337194, 0.94401544, 0.94401544, 0.94530245, 0.94530245,\n",
       "       0.94594595, 0.94594595, 0.94723295, 0.94723295, 0.94851995,\n",
       "       0.94851995, 0.94980695, 0.94980695, 0.95109395, 0.95109395,\n",
       "       0.95173745, 0.95173745, 0.95302445, 0.95302445, 0.95366795,\n",
       "       0.95366795, 0.95431145, 0.95431145, 0.95495495, 0.95495495,\n",
       "       0.95559846, 0.95559846, 0.95624196, 0.95624196, 0.95688546,\n",
       "       0.95688546, 0.95817246, 0.95817246, 0.96074646, 0.96074646,\n",
       "       0.96138996, 0.96138996, 0.96203346, 0.96203346, 0.96267696,\n",
       "       0.96267696, 0.96332046, 0.96332046, 0.96396396, 0.96396396,\n",
       "       0.96589447, 0.96589447, 0.96653797, 0.96653797, 0.96718147,\n",
       "       0.96718147, 0.96782497, 0.96782497, 0.96846847, 0.96846847,\n",
       "       0.96975547, 0.96975547, 0.97104247, 0.97104247, 0.97168597,\n",
       "       0.97168597, 0.97232947, 0.97232947, 0.97297297, 0.97297297,\n",
       "       0.97361647, 0.97361647, 0.97425997, 0.97425997, 0.97490347,\n",
       "       0.97490347, 0.97554698, 0.97554698, 0.97619048, 0.97619048,\n",
       "       0.97683398, 0.97683398, 0.97747748, 0.97747748, 0.97812098,\n",
       "       0.97812098, 0.97876448, 0.97876448, 0.97940798, 0.97940798,\n",
       "       0.98005148, 0.98005148, 0.98069498, 0.98069498, 0.98133848,\n",
       "       0.98133848, 0.98198198, 0.98198198, 0.98326898, 0.98326898,\n",
       "       0.98391248, 0.98391248, 0.98455598, 0.98455598, 0.98519949,\n",
       "       0.98519949, 0.98584299, 0.98584299, 0.98584299, 0.98648649,\n",
       "       0.98648649, 0.98712999, 0.98712999, 0.98777349, 0.98777349,\n",
       "       0.98906049, 0.98906049, 0.98970399, 0.98970399, 0.98970399,\n",
       "       0.98970399, 0.99034749, 0.99034749, 0.99099099, 0.99099099,\n",
       "       0.99163449, 0.99163449, 0.99227799, 0.99227799, 0.99292149,\n",
       "       0.99292149, 0.99356499, 0.99356499, 0.99420849, 0.99420849,\n",
       "       0.99485199, 0.99485199, 0.9954955 , 0.9954955 , 0.9954955 ,\n",
       "       0.9954955 , 0.9954955 , 0.9954955 , 0.996139  , 0.996139  ,\n",
       "       0.996139  , 0.996139  , 0.9967825 , 0.9967825 , 0.9967825 ,\n",
       "       0.9967825 , 0.9967825 , 0.9967825 , 0.997426  , 0.997426  ,\n",
       "       0.997426  , 0.997426  , 0.997426  , 0.997426  , 0.997426  ,\n",
       "       0.997426  , 0.997426  , 0.9980695 , 0.9980695 , 0.9980695 ,\n",
       "       0.9980695 , 0.9980695 , 0.998713  , 0.998713  , 0.998713  ,\n",
       "       0.998713  , 0.998713  , 0.998713  , 0.998713  , 0.998713  ,\n",
       "       0.998713  , 0.9993565 , 0.9993565 , 0.9993565 , 0.9993565 ,\n",
       "       0.9993565 , 0.9993565 , 0.9993565 , 0.9993565 , 0.9993565 ,\n",
       "       0.9993565 , 0.9993565 , 0.9993565 , 0.9993565 , 0.9993565 ,\n",
       "       0.9993565 , 0.9993565 , 0.9993565 , 0.9993565 , 0.9993565 ,\n",
       "       0.9993565 , 0.9993565 , 0.9993565 , 0.9993565 , 1.        ,\n",
       "       1.        , 1.        , 1.        , 1.        , 1.        ,\n",
       "       1.        , 1.        , 1.        , 1.        , 1.        ,\n",
       "       1.        , 1.        , 1.        , 1.        , 1.        ,\n",
       "       1.        , 1.        , 1.        , 1.        , 1.        ,\n",
       "       1.        , 1.        , 1.        , 1.        , 1.        ,\n",
       "       1.        , 1.        , 1.        , 1.        , 1.        ,\n",
       "       1.        , 1.        , 1.        , 1.        , 1.        ,\n",
       "       1.        , 1.        , 1.        , 1.        , 1.        ,\n",
       "       1.        , 1.        ])"
      ]
     },
     "execution_count": 83,
     "metadata": {},
     "output_type": "execute_result"
    }
   ],
   "source": [
    "tpr"
   ]
  },
  {
   "cell_type": "code",
   "execution_count": 84,
   "metadata": {},
   "outputs": [
    {
     "data": {
      "text/plain": [
       "array([2.00000000e+00, 1.00000000e+00, 9.98000000e-01, 9.96666667e-01,\n",
       "       9.96000000e-01, 9.95000000e-01, 9.90833333e-01, 9.90000000e-01,\n",
       "       9.86944444e-01, 9.86904762e-01, 9.84809524e-01, 9.84571429e-01,\n",
       "       9.84166667e-01, 9.83500000e-01, 9.80777778e-01, 9.80000000e-01,\n",
       "       9.79404762e-01, 9.79333333e-01, 9.79166667e-01, 9.79130952e-01,\n",
       "       9.78666667e-01, 9.78000000e-01, 9.77500000e-01, 9.77404762e-01,\n",
       "       9.77071429e-01, 9.72861111e-01, 9.72857143e-01, 9.72666667e-01,\n",
       "       9.72500000e-01, 9.71738095e-01, 9.71666667e-01, 9.70309524e-01,\n",
       "       9.70000000e-01, 9.69583333e-01, 9.69500000e-01, 9.69166667e-01,\n",
       "       9.69107143e-01, 9.62916667e-01, 9.62500000e-01, 9.60333333e-01,\n",
       "       9.60000000e-01, 9.59750000e-01, 9.59714286e-01, 9.59142857e-01,\n",
       "       9.58333333e-01, 9.56833333e-01, 9.56666667e-01, 9.45071429e-01,\n",
       "       9.45000000e-01, 9.41511905e-01, 9.41500000e-01, 9.41476190e-01,\n",
       "       9.41380952e-01, 9.38111111e-01, 9.38000000e-01, 9.36317460e-01,\n",
       "       9.35666667e-01, 9.33309524e-01, 9.32952381e-01, 9.32154762e-01,\n",
       "       9.31857143e-01, 9.29916667e-01, 9.29785714e-01, 9.29666667e-01,\n",
       "       9.29571429e-01, 9.29500000e-01, 9.29083333e-01, 9.28833333e-01,\n",
       "       9.28714286e-01, 9.28476190e-01, 9.26876623e-01, 9.26860390e-01,\n",
       "       9.26238095e-01, 9.26000000e-01, 9.25761905e-01, 9.25678571e-01,\n",
       "       9.17174603e-01, 9.17099567e-01, 9.16940476e-01, 9.16428571e-01,\n",
       "       9.15952381e-01, 9.11666667e-01, 9.11500000e-01, 9.08000000e-01,\n",
       "       9.07785714e-01, 8.99416667e-01, 8.99214286e-01, 8.98666667e-01,\n",
       "       8.98500000e-01, 8.97750000e-01, 8.94388889e-01, 8.94000000e-01,\n",
       "       8.85825397e-01, 8.85777778e-01, 8.84023810e-01, 8.84000000e-01,\n",
       "       8.80880952e-01, 8.80511905e-01, 8.77202381e-01, 8.76833333e-01,\n",
       "       8.72976190e-01, 8.72666667e-01, 8.71380952e-01, 8.70833333e-01,\n",
       "       8.69571429e-01, 8.69238095e-01, 8.68142857e-01, 8.68023810e-01,\n",
       "       8.64642857e-01, 8.64214286e-01, 8.59547619e-01, 8.59416667e-01,\n",
       "       8.57535714e-01, 8.57119048e-01, 8.57015873e-01, 8.56500000e-01,\n",
       "       8.56186508e-01, 8.55452381e-01, 8.53119048e-01, 8.53023810e-01,\n",
       "       8.49888889e-01, 8.49575758e-01, 8.46357143e-01, 8.46277778e-01,\n",
       "       8.42280664e-01, 8.42166667e-01, 8.36940476e-01, 8.35904762e-01,\n",
       "       8.31166667e-01, 8.30833333e-01, 8.30801587e-01, 8.30538961e-01,\n",
       "       8.29666667e-01, 8.29166667e-01, 8.28000000e-01, 8.27976190e-01,\n",
       "       8.26476190e-01, 8.26456349e-01, 8.21321429e-01, 8.20523810e-01,\n",
       "       8.12916667e-01, 8.12547619e-01, 8.04095238e-01, 8.04067766e-01,\n",
       "       8.00857143e-01, 8.00416667e-01, 7.97567460e-01, 7.97361111e-01,\n",
       "       7.96940476e-01, 7.96119048e-01, 7.96067460e-01, 7.95829365e-01,\n",
       "       7.95416667e-01, 7.93285714e-01, 7.92428571e-01, 7.91087302e-01,\n",
       "       7.91000000e-01, 7.90761905e-01, 7.90369048e-01, 7.89595238e-01,\n",
       "       7.89373016e-01, 7.85559524e-01, 7.84547619e-01, 7.81321429e-01,\n",
       "       7.81317460e-01, 7.79511905e-01, 7.78404762e-01, 7.77737013e-01,\n",
       "       7.77726190e-01, 7.75031746e-01, 7.75023810e-01, 7.74750000e-01,\n",
       "       7.74619048e-01, 7.72555556e-01, 7.71964286e-01, 7.67869048e-01,\n",
       "       7.67488095e-01, 7.65805556e-01, 7.65369048e-01, 7.63996032e-01,\n",
       "       7.62785714e-01, 7.61198413e-01, 7.59412698e-01, 7.58615079e-01,\n",
       "       7.57892857e-01, 7.54777778e-01, 7.54583333e-01, 7.52380952e-01,\n",
       "       7.52035714e-01, 7.46116883e-01, 7.45539683e-01, 7.44797619e-01,\n",
       "       7.44785714e-01, 7.41301587e-01, 7.39083333e-01, 7.38857143e-01,\n",
       "       7.38809524e-01, 7.37261905e-01, 7.35599206e-01, 7.34476190e-01,\n",
       "       7.34285714e-01, 7.33222222e-01, 7.32595238e-01, 7.32428571e-01,\n",
       "       7.31690476e-01, 7.26063492e-01, 7.25968254e-01, 7.23730159e-01,\n",
       "       7.23000000e-01, 7.21476190e-01, 7.21449134e-01, 7.21119048e-01,\n",
       "       7.20821429e-01, 7.17083333e-01, 7.16290404e-01, 7.13952381e-01,\n",
       "       7.13214286e-01, 7.13178571e-01, 7.12765873e-01, 7.12214286e-01,\n",
       "       7.12166667e-01, 7.11595238e-01, 7.11230159e-01, 7.10451659e-01,\n",
       "       7.09007937e-01, 7.05071429e-01, 7.05055556e-01, 7.04416667e-01,\n",
       "       7.04083333e-01, 7.04071429e-01, 7.03769841e-01, 7.03583333e-01,\n",
       "       7.03523810e-01, 7.02158730e-01, 7.01273810e-01, 6.99964286e-01,\n",
       "       6.99607143e-01, 6.97746032e-01, 6.97507937e-01, 6.97285714e-01,\n",
       "       6.96924603e-01, 6.93821429e-01, 6.93369048e-01, 6.93365079e-01,\n",
       "       6.92920635e-01, 6.88170635e-01, 6.87285714e-01, 6.85412698e-01,\n",
       "       6.85071429e-01, 6.79666667e-01, 6.78619048e-01, 6.78301587e-01,\n",
       "       6.78229437e-01, 6.78154762e-01, 6.77706349e-01, 6.77111111e-01,\n",
       "       6.77071429e-01, 6.76908730e-01, 6.76412698e-01, 6.75440476e-01,\n",
       "       6.75404762e-01, 6.75142857e-01, 6.74579365e-01, 6.73571429e-01,\n",
       "       6.73511905e-01, 6.69607143e-01, 6.69353175e-01, 6.64357143e-01,\n",
       "       6.63285714e-01, 6.63162698e-01, 6.62809524e-01, 6.62634921e-01,\n",
       "       6.62178571e-01, 6.61702381e-01, 6.60591270e-01, 6.58005772e-01,\n",
       "       6.57853175e-01, 6.56869048e-01, 6.55158730e-01, 6.50428571e-01,\n",
       "       6.50333333e-01, 6.49261905e-01, 6.48797619e-01, 6.48690476e-01,\n",
       "       6.47702381e-01, 6.47166667e-01, 6.46976190e-01, 6.42357143e-01,\n",
       "       6.42273810e-01, 6.41142857e-01, 6.40694444e-01, 6.39595238e-01,\n",
       "       6.39468254e-01, 6.36920635e-01, 6.36857143e-01, 6.35976190e-01,\n",
       "       6.35921245e-01, 6.35571429e-01, 6.34238095e-01, 6.27349206e-01,\n",
       "       6.27130952e-01, 6.21416667e-01, 6.20694444e-01, 6.20404762e-01,\n",
       "       6.20119048e-01, 6.19674603e-01, 6.19535714e-01, 6.19369048e-01,\n",
       "       6.19357143e-01, 6.15583333e-01, 6.14119048e-01, 6.11801587e-01,\n",
       "       6.10523810e-01, 6.09119048e-01, 6.08678571e-01, 6.07912698e-01,\n",
       "       6.07678571e-01, 6.07226190e-01, 6.07056277e-01, 6.05769841e-01,\n",
       "       6.05250000e-01, 6.02916667e-01, 6.01866522e-01, 6.01429293e-01,\n",
       "       6.01138889e-01, 6.00476190e-01, 5.99773810e-01, 5.98595238e-01,\n",
       "       5.96888889e-01, 5.96595238e-01, 5.94908730e-01, 5.94535714e-01,\n",
       "       5.93035714e-01, 5.92809524e-01, 5.91333333e-01, 5.89738095e-01,\n",
       "       5.89396825e-01, 5.89214286e-01, 5.88916667e-01, 5.88452381e-01,\n",
       "       5.87988095e-01, 5.87313492e-01, 5.86511905e-01, 5.82444444e-01,\n",
       "       5.80698413e-01, 5.80388889e-01, 5.77166667e-01, 5.75488095e-01,\n",
       "       5.75440476e-01, 5.74690476e-01, 5.74325397e-01, 5.73202381e-01,\n",
       "       5.73103896e-01, 5.72468254e-01, 5.71623016e-01, 5.70491703e-01,\n",
       "       5.69632035e-01, 5.64083333e-01, 5.62043651e-01, 5.59948413e-01,\n",
       "       5.59781746e-01, 5.57206349e-01, 5.56952381e-01, 5.53178571e-01,\n",
       "       5.52388889e-01, 5.51690476e-01, 5.50238095e-01, 5.49964286e-01,\n",
       "       5.49261905e-01, 5.48678571e-01, 5.48539683e-01, 5.48492063e-01,\n",
       "       5.47119048e-01, 5.44166667e-01, 5.42535714e-01, 5.41500000e-01,\n",
       "       5.41214286e-01, 5.39488095e-01, 5.39380952e-01, 5.37560245e-01,\n",
       "       5.36796537e-01, 5.36269841e-01, 5.36250000e-01, 5.36206349e-01,\n",
       "       5.35666667e-01, 5.34444444e-01, 5.33904762e-01, 5.31023810e-01,\n",
       "       5.29218254e-01, 5.28357143e-01, 5.27642857e-01, 5.26841270e-01,\n",
       "       5.26309524e-01, 5.26250000e-01, 5.25865079e-01, 5.24273810e-01,\n",
       "       5.24214286e-01, 5.24154762e-01, 5.23690476e-01, 5.23202381e-01,\n",
       "       5.22972222e-01, 5.22559524e-01, 5.22285714e-01, 5.21158730e-01,\n",
       "       5.19748168e-01, 5.19226190e-01, 5.19023810e-01, 5.18325397e-01,\n",
       "       5.15357143e-01, 5.14099206e-01, 5.13186508e-01, 5.10000000e-01,\n",
       "       5.08559524e-01, 5.07976190e-01, 5.07523810e-01, 5.07511905e-01,\n",
       "       5.07154762e-01, 5.04377706e-01, 5.02607143e-01, 4.99021645e-01,\n",
       "       4.98670635e-01, 4.97773810e-01, 4.93571429e-01, 4.92178571e-01,\n",
       "       4.92075397e-01, 4.91806277e-01, 4.91178571e-01, 4.90833333e-01,\n",
       "       4.89277778e-01, 4.89123016e-01, 4.88523810e-01, 4.87250000e-01,\n",
       "       4.86896825e-01, 4.86714286e-01, 4.85976190e-01, 4.85837302e-01,\n",
       "       4.83559524e-01, 4.76916667e-01, 4.76809524e-01, 4.76730159e-01,\n",
       "       4.76519841e-01, 4.75583333e-01, 4.74357143e-01, 4.72663420e-01,\n",
       "       4.72488095e-01, 4.70833333e-01, 4.70781746e-01, 4.66833333e-01,\n",
       "       4.66130952e-01, 4.66039683e-01, 4.64309524e-01, 4.62932540e-01,\n",
       "       4.62757576e-01, 4.61255411e-01, 4.60464286e-01, 4.57440476e-01,\n",
       "       4.56892857e-01, 4.53507937e-01, 4.52781385e-01, 4.52412698e-01,\n",
       "       4.48642857e-01, 4.47130952e-01, 4.46764430e-01, 4.43051587e-01,\n",
       "       4.42928571e-01, 4.39103175e-01, 4.37849206e-01, 4.37380952e-01,\n",
       "       4.36011905e-01, 4.33452381e-01, 4.32702381e-01, 4.32614469e-01,\n",
       "       4.31785714e-01, 4.30551587e-01, 4.30460317e-01, 4.27464286e-01,\n",
       "       4.24083333e-01, 4.23242063e-01, 4.23111111e-01, 4.22630952e-01,\n",
       "       4.22349206e-01, 4.20690476e-01, 4.20666667e-01, 4.19599206e-01,\n",
       "       4.19281746e-01, 4.18849206e-01, 4.18198413e-01, 4.15980880e-01,\n",
       "       4.15666667e-01, 4.14507937e-01, 4.10817460e-01, 4.10642857e-01,\n",
       "       4.09452381e-01, 4.08797619e-01, 4.07297619e-01, 4.05888889e-01,\n",
       "       4.03777778e-01, 4.01400794e-01, 4.00761905e-01, 4.00436508e-01,\n",
       "       4.00023810e-01, 3.99095238e-01, 3.98412698e-01, 3.93452381e-01,\n",
       "       3.93349206e-01, 3.92583333e-01, 3.92452381e-01, 3.91726190e-01,\n",
       "       3.88726190e-01, 3.88297619e-01, 3.88285714e-01, 3.87857143e-01,\n",
       "       3.87333333e-01, 3.85746032e-01, 3.84607143e-01, 3.84452381e-01,\n",
       "       3.82541209e-01, 3.82448413e-01, 3.82440476e-01, 3.77507937e-01,\n",
       "       3.74714286e-01, 3.74107143e-01, 3.73206349e-01, 3.71627706e-01,\n",
       "       3.71365079e-01, 3.70468254e-01, 3.68678571e-01, 3.68503968e-01,\n",
       "       3.67623016e-01, 3.67392857e-01, 3.67206349e-01, 3.67166667e-01,\n",
       "       3.66535714e-01, 3.64861111e-01, 3.64610390e-01, 3.64095238e-01,\n",
       "       3.63892857e-01, 3.63059524e-01, 3.61261905e-01, 3.60535714e-01,\n",
       "       3.60309524e-01, 3.58575758e-01, 3.53130952e-01, 3.52714286e-01,\n",
       "       3.52369048e-01, 3.51500000e-01, 3.50630952e-01, 3.49666667e-01,\n",
       "       3.49476190e-01, 3.49404762e-01, 3.48285714e-01, 3.46333333e-01,\n",
       "       3.41214286e-01, 3.41123016e-01, 3.41000000e-01, 3.40476190e-01,\n",
       "       3.39404762e-01, 3.39238095e-01, 3.38805556e-01, 3.37457431e-01,\n",
       "       3.35960317e-01, 3.35690476e-01, 3.30658730e-01, 3.29583333e-01,\n",
       "       3.26214286e-01, 3.25833333e-01, 3.24214286e-01, 3.23333333e-01,\n",
       "       3.19817460e-01, 3.19722222e-01, 3.19547619e-01, 3.19523810e-01,\n",
       "       3.18250000e-01, 3.17210317e-01, 3.16920635e-01, 3.16666667e-01,\n",
       "       3.14619048e-01, 3.14250000e-01, 3.10000000e-01, 3.09785714e-01,\n",
       "       3.08797619e-01, 3.07928571e-01, 3.06690476e-01, 3.06492063e-01,\n",
       "       3.06261905e-01, 3.06158730e-01, 3.04880952e-01, 3.04650794e-01,\n",
       "       3.03559524e-01, 3.03523810e-01, 3.03142857e-01, 3.02972222e-01,\n",
       "       3.02023810e-01, 3.00095238e-01, 2.98238095e-01, 2.96928571e-01,\n",
       "       2.90511905e-01, 2.90214286e-01, 2.87956349e-01, 2.85099206e-01,\n",
       "       2.80738095e-01, 2.80428571e-01, 2.79218615e-01, 2.77166667e-01,\n",
       "       2.76202381e-01, 2.75309524e-01, 2.73329365e-01, 2.72523810e-01,\n",
       "       2.72035714e-01, 2.71888889e-01, 2.70900794e-01, 2.70841270e-01,\n",
       "       2.70400794e-01, 2.69642857e-01, 2.69488095e-01, 2.68964286e-01,\n",
       "       2.68825397e-01, 2.68377345e-01, 2.66583333e-01, 2.66265873e-01,\n",
       "       2.65642857e-01, 2.64071429e-01, 2.62531746e-01, 2.61579365e-01,\n",
       "       2.57678571e-01, 2.57523810e-01, 2.50843074e-01, 2.50595238e-01,\n",
       "       2.50226190e-01, 2.49619048e-01, 2.46658730e-01, 2.46250000e-01,\n",
       "       2.46023810e-01, 2.45809524e-01, 2.35023810e-01, 2.33738095e-01,\n",
       "       2.32230159e-01, 2.32059524e-01, 2.25329365e-01, 2.25261905e-01,\n",
       "       2.20392857e-01, 2.20190476e-01, 2.08333333e-01, 2.08273810e-01,\n",
       "       2.08250000e-01, 2.08071429e-01, 1.99575397e-01, 1.98607143e-01,\n",
       "       1.97142857e-01, 1.96988095e-01, 1.94964286e-01, 1.94904762e-01,\n",
       "       1.94250000e-01, 1.94166667e-01, 1.93452381e-01, 1.93238095e-01,\n",
       "       1.93238095e-01, 1.93130952e-01, 1.92011905e-01, 1.91952381e-01,\n",
       "       1.91273810e-01, 1.89690476e-01, 1.89547619e-01, 1.89369048e-01,\n",
       "       1.86345238e-01, 1.85857143e-01, 1.84738095e-01, 1.84488095e-01,\n",
       "       1.78904762e-01, 1.77916667e-01, 1.75452381e-01, 1.75261905e-01,\n",
       "       1.74027778e-01, 1.73142857e-01, 1.72611111e-01, 1.72559524e-01,\n",
       "       1.65000000e-01, 1.63595238e-01, 1.62619048e-01, 1.61630952e-01,\n",
       "       1.57511905e-01, 1.57107143e-01, 1.55916667e-01, 1.55000000e-01,\n",
       "       1.52392857e-01, 1.52178571e-01, 1.47726190e-01, 1.47718254e-01,\n",
       "       1.47500000e-01, 1.47428571e-01, 1.40761905e-01, 1.39440476e-01,\n",
       "       1.29011905e-01, 1.28071429e-01, 1.27833333e-01, 1.24678571e-01,\n",
       "       1.24199134e-01, 1.22066850e-01, 1.21523810e-01, 1.13333333e-01,\n",
       "       1.12226190e-01, 1.06833333e-01, 1.06666667e-01, 1.00904762e-01,\n",
       "       1.00642857e-01, 9.98095238e-02, 9.96746032e-02, 9.59722222e-02,\n",
       "       9.59047619e-02, 9.51666667e-02, 9.46666667e-02, 9.40476190e-02,\n",
       "       9.37222222e-02, 8.22619048e-02, 8.19642857e-02, 8.10119048e-02,\n",
       "       8.10000000e-02, 7.76038961e-02, 7.71428571e-02, 7.66190476e-02,\n",
       "       7.65952381e-02, 6.90000000e-02, 6.89285714e-02, 6.84523810e-02,\n",
       "       6.83333333e-02, 6.30952381e-02, 6.30000000e-02, 5.98571429e-02,\n",
       "       5.97619048e-02, 5.83888889e-02, 5.80476190e-02, 5.66666667e-02,\n",
       "       5.64285714e-02, 5.28571429e-02, 5.24523810e-02, 4.95000000e-02,\n",
       "       4.93333333e-02, 4.91190476e-02, 4.90000000e-02, 4.81666667e-02,\n",
       "       4.79126984e-02, 4.78333333e-02, 4.47619048e-02, 4.46666667e-02,\n",
       "       4.46428571e-02, 4.43333333e-02, 4.10714286e-02, 4.07857143e-02,\n",
       "       4.05277778e-02, 4.00000000e-02, 3.90000000e-02, 3.90000000e-02,\n",
       "       3.88333333e-02, 3.30000000e-02, 3.25000000e-02, 3.16666667e-02,\n",
       "       3.16666667e-02, 2.91666667e-02, 2.90000000e-02, 2.83333333e-02,\n",
       "       2.76666667e-02, 2.75000000e-02, 2.70000000e-02, 2.68571429e-02,\n",
       "       2.62857143e-02, 2.61666667e-02, 2.58333333e-02, 2.58333333e-02,\n",
       "       2.52142857e-02, 2.50238095e-02, 2.50000000e-02, 2.41666667e-02,\n",
       "       2.40000000e-02, 2.31904762e-02, 2.31904762e-02, 2.20555556e-02,\n",
       "       2.20000000e-02, 1.91666667e-02, 1.90000000e-02, 1.86785714e-02,\n",
       "       1.83333333e-02, 1.70000000e-02, 1.66666667e-02, 1.55238095e-02,\n",
       "       1.55000000e-02, 1.51111111e-02, 1.50000000e-02, 1.49285714e-02,\n",
       "       1.45238095e-02, 1.45000000e-02, 1.36666667e-02, 1.33333333e-02,\n",
       "       1.26666667e-02, 1.25000000e-02, 1.21666667e-02, 1.20000000e-02,\n",
       "       1.16666667e-02, 1.15833333e-02, 1.14285714e-02, 1.08333333e-02,\n",
       "       1.07619048e-02, 1.04761905e-02, 1.02857143e-02, 1.00000000e-02,\n",
       "       9.33333333e-03, 9.16666667e-03, 8.88888889e-03, 8.66666667e-03,\n",
       "       8.33333333e-03, 8.00000000e-03, 7.85714286e-03, 7.83333333e-03,\n",
       "       7.50000000e-03, 7.00000000e-03, 6.66666667e-03, 6.19047619e-03,\n",
       "       5.83333333e-03, 5.35714286e-03, 5.00000000e-03, 4.85714286e-03,\n",
       "       4.00000000e-03, 3.33333333e-03, 2.85714286e-03, 2.50000000e-03,\n",
       "       2.00000000e-03, 1.66666667e-03, 0.00000000e+00])"
      ]
     },
     "execution_count": 84,
     "metadata": {},
     "output_type": "execute_result"
    }
   ],
   "source": [
    "thresholds"
   ]
  },
  {
   "cell_type": "code",
   "execution_count": 85,
   "metadata": {},
   "outputs": [
    {
     "data": {
      "image/png": "[encoded data removed]",
      "text/plain": [
       "<Figure size 432x288 with 1 Axes>"
      ]
     },
     "metadata": {
      "needs_background": "light"
     },
     "output_type": "display_data"
    }
   ],
   "source": [
    "plt.plot([0,1],[0,1],'k--')\n",
    "plt.plot(fpr,tpr,label='Random Forest Classifier')\n",
    "plt.xlabel('False Positive Rate')\n",
    "plt.ylabel('True Positive Rate')\n",
    "plt.title('Random Forest Classifier')\n",
    "plt.show()"
   ]
  },
  {
   "cell_type": "code",
   "execution_count": 86,
   "metadata": {},
   "outputs": [
    {
     "name": "stdout",
     "output_type": "stream",
     "text": [
      "0.8560344677365953\n"
     ]
    }
   ],
   "source": [
    "auc_score=roc_auc_score(y_test,RF.predict(X_test))\n",
    "print(auc_score)"
   ]
  },
  {
   "cell_type": "code",
   "execution_count": 87,
   "metadata": {},
   "outputs": [],
   "source": [
    "from sklearn import metrics"
   ]
  },
  {
   "cell_type": "code",
   "execution_count": 88,
   "metadata": {},
   "outputs": [
    {
     "data": {
      "text/plain": [
       "<sklearn.metrics._plot.confusion_matrix.ConfusionMatrixDisplay at 0x223b6525208>"
      ]
     },
     "execution_count": 88,
     "metadata": {},
     "output_type": "execute_result"
    },
    {
     "data": {
      "image/png": "[encoded data removed]",
      "text/plain": [
       "<Figure size 432x288 with 2 Axes>"
      ]
     },
     "metadata": {
      "needs_background": "light"
     },
     "output_type": "display_data"
    }
   ],
   "source": [
    "metrics.plot_confusion_matrix(RF, X_test, y_test, display_labels=['Negative', 'Positive'])"
   ]
  },
  {
   "cell_type": "markdown",
   "metadata": {},
   "source": [
    "# Saving Model"
   ]
  },
  {
   "cell_type": "code",
   "execution_count": 89,
   "metadata": {},
   "outputs": [
    {
     "data": {
      "text/plain": [
       "['Customer_Churn_Prediction.obj']"
      ]
     },
     "execution_count": 89,
     "metadata": {},
     "output_type": "execute_result"
    }
   ],
   "source": [
    "import joblib\n",
    "joblib.dump(RF,'Customer_Churn_Prediction.obj')"
   ]
  },
  {
   "cell_type": "raw",
   "metadata": {},
   "source": [
    "Case Study:\n",
    "\n",
    "Customer churn is when a company’s customers stop doing business with that company. Businesses are very keen on measuring churn because keeping an existing customer is far less expensive than acquiring a new customer. New business involves working leads through a sales funnel, using marketing and sales budgets to gain additional customers. Existing customers will often have a higher volume of service consumption and can generate additional customer referrals.\n",
    "\n",
    "Customer retention can be achieved with good customer service and products. But the most effective way for a company to prevent attrition of customers is to truly know them. The vast volumes of data collected about customers can be used to build churn prediction models. Knowing who is most likely to defect means that a company can prioritise focused marketing efforts on that subset of their customer base.\n",
    "\n",
    "I will examine customer data from IBM Sample Data Sets with the aim of building and comparing several customer churn prediction models."
   ]
  },
  {
   "cell_type": "raw",
   "metadata": {},
   "source": [
    "-Findings:\n",
    "\n",
    "-majority of the customers are not churn by the company.\n",
    "-when the customer are not senior citizen then majority of customers are not churned. when the customer is senior citizen then the ratio of churn and not churn customers is very less.\n",
    "-In both the gender category majority of the people are not churned by the company.\n",
    "their are very less people with 'No phone Service'. Majority of the people have no multiple lines but the ratio of people who have multiple lines and who don't have multiple lines are very less.\n",
    "-when cx takes less tenure package then more customers are churned but when the customer takes more tenured package, then more number of people are not churned.\n",
    "-majority of the people have opted for 'fibre optics'.\n",
    "-majority of the people have taken month-to-month contract.\n",
    "-in one-year and two-year category the ratio of churned and not churned people is very high but in month-to-month basis the ratio is less.\n",
    "-In every category of contract the number of people who are not churned is high.\n",
    "-majority have taken the plan that has monthly charges in range from 18-25.\n",
    "-the range of total charges are from 0-6700. the majority of the people arehaving total charges between range of 1500-5000.\n",
    "-'Monthly chrages' is most positive highly correlated column and 'contract' is themost negative highly correlated column with the churn column. We can also see that gender is the least correlated column with the churn column."
   ]
  },
  {
   "cell_type": "raw",
   "metadata": {},
   "source": [
    "Predictions:\n",
    "\n",
    "At random state 93 the testing accuracy and training accuracy is hightest.\n",
    "The best accuracy_score is for RandomForestClassifier.\n",
    "the Minimum difference in accuracy score and cross validation score is for DecisionTreeClassifier, AdaBoostClassifier, SVC and RandomforestClassifier (2) so they are our best model.\n",
    "We are using RandomForestClassifier.\n",
    "After doing hyperparameter tuning. we increase the score of our model from 86% to 98%."
   ]
  }
 ],
 "metadata": {
  "kernelspec": {
   "display_name": "Python 3",
   "language": "python",
   "name": "python3"
  },
  "language_info": {
   "codemirror_mode": {
    "name": "ipython",
    "version": 3
   },
   "file_extension": ".py",
   "mimetype": "text/x-python",
   "name": "python",
   "nbconvert_exporter": "python",
   "pygments_lexer": "ipython3",
   "version": "3.7.4"
  }
 },
 "nbformat": 4,
 "nbformat_minor": 2
}
